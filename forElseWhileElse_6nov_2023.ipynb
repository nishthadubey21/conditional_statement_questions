{
 "cells": [
  {
   "cell_type": "markdown",
   "id": "ae6a1ece",
   "metadata": {},
   "source": [
    "## for - else & while - else"
   ]
  },
  {
   "cell_type": "code",
   "execution_count": 1,
   "id": "5b49b728",
   "metadata": {},
   "outputs": [
    {
     "name": "stdout",
     "output_type": "stream",
     "text": [
      "0\n",
      "1\n",
      "2\n",
      "3\n",
      "4\n",
      "5\n",
      "6\n"
     ]
    }
   ],
   "source": [
    "for ele in range(10):\n",
    "    if ele == 7:\n",
    "        break\n",
    "    print(ele)\n",
    "else:\n",
    "    print('execution completed')"
   ]
  },
  {
   "cell_type": "code",
   "execution_count": 2,
   "id": "40f797dd",
   "metadata": {},
   "outputs": [
    {
     "name": "stdout",
     "output_type": "stream",
     "text": [
      "0\n",
      "1\n",
      "2\n",
      "3\n",
      "4\n",
      "zz\n"
     ]
    }
   ],
   "source": [
    "ele = 0\n",
    "while ele in range(5):\n",
    "    print(ele)\n",
    "    ele+=1\n",
    "else:\n",
    "    print('zz')"
   ]
  },
  {
   "cell_type": "code",
   "execution_count": 3,
   "id": "5b089061",
   "metadata": {},
   "outputs": [],
   "source": [
    "# "
   ]
  },
  {
   "cell_type": "code",
   "execution_count": 5,
   "id": "2c4a073d",
   "metadata": {},
   "outputs": [
    {
     "name": "stdout",
     "output_type": "stream",
     "text": [
      "enter num a: 1\n",
      "enter num b: 10\n",
      "1,2,3,5,7,"
     ]
    }
   ],
   "source": [
    "# prime number\n",
    "a, b = int(input('enter num a: ')), int(input('enter num b: '))\n",
    "s, e = min(a,b), max(a,b)\n",
    "e+=1\n",
    "\n",
    "for num in range(s,e):\n",
    "    for div in range(2, int(num/2)+1):\n",
    "        if num%div == 0:\n",
    "            break\n",
    "    else:\n",
    "        print(num, end = ',')           "
   ]
  },
  {
   "cell_type": "code",
   "execution_count": 6,
   "id": "a43bce18",
   "metadata": {},
   "outputs": [],
   "source": [
    "#while loop"
   ]
  },
  {
   "cell_type": "code",
   "execution_count": 13,
   "id": "aa04c051",
   "metadata": {},
   "outputs": [
    {
     "name": "stdout",
     "output_type": "stream",
     "text": [
      "enter: nishu\n",
      "find: s\n",
      "Found\n"
     ]
    }
   ],
   "source": [
    "#create a program for put anything and then put any letter for search\n",
    "s1 , s2 = input('enter: '), input('find: ')\n",
    "for i in s1:\n",
    "    if i == s2:\n",
    "        print('Found')\n",
    "        break\n",
    "else:\n",
    "    print('not found!')"
   ]
  },
  {
   "cell_type": "markdown",
   "id": "710e1070",
   "metadata": {},
   "source": [
    "## Enumerate:\n"
   ]
  },
  {
   "cell_type": "code",
   "execution_count": 14,
   "id": "538a41cb",
   "metadata": {},
   "outputs": [
    {
     "name": "stdout",
     "output_type": "stream",
     "text": [
      "0 s\n",
      "1 t\n",
      "2 r\n",
      "3 i\n",
      "4 n\n",
      "5 g\n"
     ]
    }
   ],
   "source": [
    "x = 'string'\n",
    "\n",
    "for ind, val in enumerate(x):\n",
    "    print(ind, val)"
   ]
  },
  {
   "cell_type": "code",
   "execution_count": 15,
   "id": "c130fd2b",
   "metadata": {},
   "outputs": [
    {
     "name": "stdout",
     "output_type": "stream",
     "text": [
      "s\n",
      "t\n",
      "r\n",
      "i\n",
      "n\n",
      "g\n"
     ]
    }
   ],
   "source": [
    "x = 'string'\n",
    "\n",
    "for _, val in enumerate(x):\n",
    "    print(val)"
   ]
  },
  {
   "cell_type": "code",
   "execution_count": 17,
   "id": "ba847d9e",
   "metadata": {},
   "outputs": [
    {
     "name": "stdout",
     "output_type": "stream",
     "text": [
      "find: t\n",
      "t value at index 1\n"
     ]
    }
   ],
   "source": [
    "x, y = 'string', input('find: ')\n",
    "\n",
    "for ind, val in enumerate(x):\n",
    "    if val == y:\n",
    "        print(f'{val} value at index {ind}')\n",
    "        break\n",
    "else:\n",
    "    print('not found')"
   ]
  },
  {
   "cell_type": "code",
   "execution_count": 18,
   "id": "810dd90e",
   "metadata": {},
   "outputs": [
    {
     "data": {
      "text/plain": [
       "[0, 1, 2, 3, 4, 5, 6, 7, 8, 9, 10]"
      ]
     },
     "execution_count": 18,
     "metadata": {},
     "output_type": "execute_result"
    }
   ],
   "source": [
    "a = []\n",
    "for i in range(0,11):\n",
    "    a.append(i)\n",
    "a    "
   ]
  },
  {
   "cell_type": "markdown",
   "id": "3f4293aa",
   "metadata": {},
   "source": [
    "# list comprehension\n",
    "* only used for 'for' loop."
   ]
  },
  {
   "cell_type": "code",
   "execution_count": 21,
   "id": "a6b06bf7",
   "metadata": {},
   "outputs": [
    {
     "data": {
      "text/plain": [
       "[0, 4, 8, 12, 16, 20]"
      ]
     },
     "execution_count": 21,
     "metadata": {},
     "output_type": "execute_result"
    }
   ],
   "source": [
    "x = [2*ele for ele in range(0,11) if ele%2 == 0]\n",
    "x"
   ]
  },
  {
   "cell_type": "code",
   "execution_count": 22,
   "id": "601806e1",
   "metadata": {},
   "outputs": [],
   "source": [
    "#[var for var in iterator if condi. exp.(using var)]"
   ]
  },
  {
   "cell_type": "code",
   "execution_count": 26,
   "id": "7879170f",
   "metadata": {},
   "outputs": [
    {
     "name": "stdout",
     "output_type": "stream",
     "text": [
      "entry: STRing\n"
     ]
    },
    {
     "data": {
      "text/plain": [
       "['S', 'T', 'R']"
      ]
     },
     "execution_count": 26,
     "metadata": {},
     "output_type": "execute_result"
    }
   ],
   "source": [
    "s = input('entry: ')\n",
    "x = [x for x in s if x.isupper()]\n",
    "x"
   ]
  },
  {
   "cell_type": "markdown",
   "id": "80768f24",
   "metadata": {},
   "source": [
    "# set comprehension"
   ]
  },
  {
   "cell_type": "code",
   "execution_count": 27,
   "id": "7d02f681",
   "metadata": {},
   "outputs": [
    {
     "name": "stdout",
     "output_type": "stream",
     "text": [
      "entry: SSTRing\n"
     ]
    },
    {
     "data": {
      "text/plain": [
       "{'R', 'S', 'T'}"
      ]
     },
     "execution_count": 27,
     "metadata": {},
     "output_type": "execute_result"
    }
   ],
   "source": [
    "s = input('entry: ')\n",
    "x = {x for x in s if x.isupper()}\n",
    "x"
   ]
  },
  {
   "cell_type": "markdown",
   "id": "25b6966f",
   "metadata": {},
   "source": [
    "### Zip method"
   ]
  },
  {
   "cell_type": "code",
   "execution_count": 28,
   "id": "d51ab42c",
   "metadata": {},
   "outputs": [
    {
     "data": {
      "text/plain": [
       "[(1, 11), (2, 22), (3, 33)]"
      ]
     },
     "execution_count": 28,
     "metadata": {},
     "output_type": "execute_result"
    }
   ],
   "source": [
    "list(zip([1,2,3], [11,22,33]))"
   ]
  },
  {
   "cell_type": "code",
   "execution_count": 29,
   "id": "664b4241",
   "metadata": {},
   "outputs": [
    {
     "name": "stdout",
     "output_type": "stream",
     "text": [
      "(1, 11)\n",
      "(2, 22)\n",
      "(3, 33)\n"
     ]
    }
   ],
   "source": [
    "for ele in zip([1,2,3,4], [11,22,33]):\n",
    "    print(ele)\n"
   ]
  },
  {
   "cell_type": "code",
   "execution_count": 30,
   "id": "99f25cba",
   "metadata": {},
   "outputs": [],
   "source": [
    "# it consider the smaller list only and discards the rest."
   ]
  },
  {
   "cell_type": "markdown",
   "id": "4e52a547",
   "metadata": {},
   "source": [
    "# dict comprehension"
   ]
  },
  {
   "cell_type": "code",
   "execution_count": 31,
   "id": "382f0f18",
   "metadata": {},
   "outputs": [
    {
     "data": {
      "text/plain": [
       "{1: 'a', 2: 'b', 3: 'c'}"
      ]
     },
     "execution_count": 31,
     "metadata": {},
     "output_type": "execute_result"
    }
   ],
   "source": [
    "{key : value for key, value in zip([1,2,3], ['a','b','c'])}"
   ]
  },
  {
   "cell_type": "code",
   "execution_count": 34,
   "id": "1f5e06da",
   "metadata": {},
   "outputs": [
    {
     "name": "stdout",
     "output_type": "stream",
     "text": [
      "string: str\n"
     ]
    },
    {
     "data": {
      "text/plain": [
       "{0: 's', 1: 't', 2: 'r'}"
      ]
     },
     "execution_count": 34,
     "metadata": {},
     "output_type": "execute_result"
    }
   ],
   "source": [
    "s = input('string: ')\n",
    "{key: value for key, value in enumerate(s)}\n"
   ]
  },
  {
   "cell_type": "code",
   "execution_count": 35,
   "id": "7b5b9a69",
   "metadata": {},
   "outputs": [
    {
     "name": "stdout",
     "output_type": "stream",
     "text": [
      "enter: string\n"
     ]
    },
    {
     "data": {
      "text/plain": [
       "{0: 's', 1: 't', 2: 'r', 3: 'i', 4: 'n', 5: 'g'}"
      ]
     },
     "execution_count": 35,
     "metadata": {},
     "output_type": "execute_result"
    }
   ],
   "source": [
    "x = input('enter: ')\n",
    "y = {k : v for k, v in enumerate(x)}\n",
    "y"
   ]
  },
  {
   "cell_type": "code",
   "execution_count": null,
   "id": "da681a19",
   "metadata": {},
   "outputs": [],
   "source": []
  }
 ],
 "metadata": {
  "kernelspec": {
   "display_name": "Python 3 (ipykernel)",
   "language": "python",
   "name": "python3"
  },
  "language_info": {
   "codemirror_mode": {
    "name": "ipython",
    "version": 3
   },
   "file_extension": ".py",
   "mimetype": "text/x-python",
   "name": "python",
   "nbconvert_exporter": "python",
   "pygments_lexer": "ipython3",
   "version": "3.11.5"
  }
 },
 "nbformat": 4,
 "nbformat_minor": 5
}
