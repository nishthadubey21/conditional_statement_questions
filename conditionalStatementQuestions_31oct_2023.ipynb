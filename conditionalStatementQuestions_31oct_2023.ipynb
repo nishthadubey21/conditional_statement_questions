{
 "cells": [
  {
   "cell_type": "markdown",
   "id": "32d9cb7c",
   "metadata": {},
   "source": [
    "# Conditional Statements Questions:\n",
    "\n",
    "1. Write a Python program that asks the user for their age and prints \"You are an adult\" if the age is 18 or older, otherwise prints \"You are a minor'."
   ]
  },
  {
   "cell_type": "code",
   "execution_count": 2,
   "id": "92a9acf3",
   "metadata": {},
   "outputs": [
    {
     "name": "stdout",
     "output_type": "stream",
     "text": [
      "your age =  21\n",
      "you are an adult\n"
     ]
    }
   ],
   "source": [
    "age = int(input('your age =  '))\n",
    "\n",
    "if age >= 18:  #if age>=18 years\n",
    "    print('you are an adult')\n",
    "else: \n",
    "    print('you are minor')\n"
   ]
  },
  {
   "cell_type": "code",
   "execution_count": 3,
   "id": "3be8423a",
   "metadata": {},
   "outputs": [
    {
     "name": "stdout",
     "output_type": "stream",
     "text": [
      "your age =  12\n",
      "you are minor\n"
     ]
    }
   ],
   "source": [
    "age = int(input('your age =  '))\n",
    "\n",
    "if age >= 18:  #if age>=18 years\n",
    "    print('you are an adult')\n",
    "else: \n",
    "    print('you are minor')\n"
   ]
  },
  {
   "cell_type": "markdown",
   "id": "1c95d8c5",
   "metadata": {},
   "source": [
    "2. Write a program that takes a numerical grade (out of 100) as input and prints the corresponding letter grade according to the following scale:\n",
    "   *  90-100: A\n",
    "   *  80-89: B\n",
    "   * 70-79: C\n",
    "   * 60-69: D\n",
    "   *  Below 60: F\n"
   ]
  },
  {
   "cell_type": "code",
   "execution_count": 13,
   "id": "2e39298a",
   "metadata": {},
   "outputs": [
    {
     "name": "stdout",
     "output_type": "stream",
     "text": [
      "enter marks out of 100: -22\n",
      "Invalid marks\n"
     ]
    }
   ],
   "source": [
    "marks = float(input('enter marks out of 100: ')) # we take marks as float input \n",
    "\n",
    "if marks in range(90,101): #here condition is given within the range (90,101)\n",
    "    print('A')\n",
    "elif marks in range(80,90): \n",
    "    print('B')\n",
    "elif marks in range(70,80):\n",
    "    print('C')\n",
    "elif marks in range(60,70):\n",
    "    print('D') \n",
    "elif marks in range(0,60):\n",
    "    print('F')     \n",
    "else: \n",
    "    print('Invalid marks')"
   ]
  },
  {
   "cell_type": "code",
   "execution_count": 15,
   "id": "084aa42c",
   "metadata": {},
   "outputs": [
    {
     "name": "stdout",
     "output_type": "stream",
     "text": [
      "enter marks out of 100: 77.5\n",
      "Invalid marks\n"
     ]
    }
   ],
   "source": [
    "marks = float(input('enter marks out of 100: ')) # we take marks as float input \n",
    "\n",
    "if marks in range(90,101): #here condition is given within the range (90,101)\n",
    "    print('A')\n",
    "elif marks in range(80,90): \n",
    "    print('B')\n",
    "elif marks in range(70,80):\n",
    "    print('C')\n",
    "elif marks in range(60,70):\n",
    "    print('D') \n",
    "elif marks in range(0,60):\n",
    "    print('F')     \n",
    "else: \n",
    "    print('Invalid marks')"
   ]
  },
  {
   "cell_type": "markdown",
   "id": "88e3d4e1",
   "metadata": {},
   "source": [
    "3. Write a program that calculates the Body Mass Index (BMI) of a person. The user should input their weight in kilograms and height in meters. The program should then print whether the person is underweight, normal weight, overweight, or obese."
   ]
  },
  {
   "cell_type": "code",
   "execution_count": 6,
   "id": "e68f492d",
   "metadata": {},
   "outputs": [
    {
     "name": "stdout",
     "output_type": "stream",
     "text": [
      "Enter your weight in kg: 56\n",
      "Enter your height in meter: 1.56\n",
      "Normal Weight\n"
     ]
    }
   ],
   "source": [
    "#BMI calculater\n",
    "\n",
    "weight = float(input('Enter your weight in kg: '))  \n",
    "height = float(input('Enter your height in meter: '))\n",
    "BMI = weight/(height*height) #formula for BMI\n",
    "\n",
    "if BMI>0 and BMI<=18.5: # and statement used for the range of BMI\n",
    "    print('Underweight')\n",
    "elif BMI>18.5 and BMI<= 25:\n",
    "    print('Normal Weight')\n",
    "elif BMI>25 and BMI<= 30:\n",
    "    print('Over Weight')\n",
    "elif BMI>30:\n",
    "    print('Obese')"
   ]
  },
  {
   "cell_type": "markdown",
   "id": "9f21fb4f",
   "metadata": {},
   "source": [
    "4. Write a program that asks the user for three numbers and prints the maximum of the three."
   ]
  },
  {
   "cell_type": "code",
   "execution_count": 18,
   "id": "12469d5e",
   "metadata": {},
   "outputs": [
    {
     "name": "stdout",
     "output_type": "stream",
     "text": [
      "number = 34,2,1\n",
      "34\n"
     ]
    }
   ],
   "source": [
    "num = str(input('number = ')).split(\",\") # number input as string\n",
    "print(max(int(num[0]), int(num[1]), int(num[2]))) #max of numbers as integer"
   ]
  },
  {
   "cell_type": "markdown",
   "id": "02cd3048",
   "metadata": {},
   "source": [
    "5. Write a program that asks the user for a temperature (in Celsius) and prints \"It's freezing\" if the temperature is below 0, \"It's cool\" if it's between 0 and 10, \"It's warm\" if it's between 10 and 20, and \"It's hot\" if it's above 20."
   ]
  },
  {
   "cell_type": "code",
   "execution_count": 20,
   "id": "acc5a4ee",
   "metadata": {},
   "outputs": [
    {
     "name": "stdout",
     "output_type": "stream",
     "text": [
      "Temperature (in C) =  14\n",
      "It's Warm\n"
     ]
    }
   ],
   "source": [
    "Temp = float(input('Temperature (in C) =  '))\n",
    "\n",
    "if Temp< 0:\n",
    "    print('It\\'s freezing')\n",
    "elif Temp>= 0 and Temp<10:\n",
    "    print('It\\'s Cool')\n",
    "elif Temp>=10 and Temp<20:\n",
    "    print('It\\'s Warm')\n",
    "else:\n",
    "    print('It\\'s Hot')\n",
    "    "
   ]
  },
  {
   "cell_type": "markdown",
   "id": "bdc4d8d2",
   "metadata": {},
   "source": [
    "6. Write a program that asks the user for a number (1-7) and prints the corresponding day of the week."
   ]
  },
  {
   "cell_type": "code",
   "execution_count": 5,
   "id": "46274af5",
   "metadata": {},
   "outputs": [
    {
     "name": "stdout",
     "output_type": "stream",
     "text": [
      "Enter number= 56\n",
      "Invalid Input\n"
     ]
    }
   ],
   "source": [
    "day = int(input('Enter number= '))\n",
    "\n",
    "if day == 1:\n",
    "    print('Monday')\n",
    "    \n",
    "elif day == 2:\n",
    "    print('Tuesday')\n",
    "elif day == 3:\n",
    "    print('Wednesday')\n",
    "elif day == 4:\n",
    "    print('Thursday')\n",
    "elif day == 5:\n",
    "    print('Friday')\n",
    "elif day == 6:\n",
    "    print('Saturday')\n",
    "elif day == 7:\n",
    "    print('Sunday')\n",
    "else:\n",
    "    print('Invalid Input')"
   ]
  },
  {
   "cell_type": "markdown",
   "id": "d55b3c1d",
   "metadata": {},
   "source": [
    "7. Write a program that asks the user for a number and prints \"In range\" if the number is between 10 and 20 (inclusive), and \"Out of range\" otherwise."
   ]
  },
  {
   "cell_type": "code",
   "execution_count": 23,
   "id": "62eeb702",
   "metadata": {},
   "outputs": [
    {
     "name": "stdout",
     "output_type": "stream",
     "text": [
      "Enter Your Number= 11\n",
      "In range :)\n"
     ]
    }
   ],
   "source": [
    "num = float(input('Enter Your Number= '))\n",
    "if num>= 10 and num<=20:\n",
    "    print('In range :)')\n",
    "else:\n",
    "    print('Out of range!!')"
   ]
  },
  {
   "cell_type": "code",
   "execution_count": 24,
   "id": "f3e1809c",
   "metadata": {},
   "outputs": [
    {
     "name": "stdout",
     "output_type": "stream",
     "text": [
      "Enter Your Number= 21\n",
      "Out of range!!\n"
     ]
    }
   ],
   "source": [
    "num = float(input('Enter Your Number= '))\n",
    "if num>= 10 and num<=20:\n",
    "    print('In range :)')\n",
    "else:\n",
    "    print('Out of range!!')"
   ]
  },
  {
   "cell_type": "markdown",
   "id": "76c347a5",
   "metadata": {},
   "source": [
    "8. Write a program that asks the user for an integer and prints whether it's even or odd.\n"
   ]
  },
  {
   "cell_type": "code",
   "execution_count": 28,
   "id": "507c8125",
   "metadata": {},
   "outputs": [
    {
     "name": "stdout",
     "output_type": "stream",
     "text": [
      "Enter Number= 4\n",
      "It is even\n"
     ]
    }
   ],
   "source": [
    "Integer = int(input('Enter Number= '))\n",
    "if Integer%2 == 0:\n",
    "    print('It is even')\n",
    "else:\n",
    "    print('It is odd!')"
   ]
  },
  {
   "cell_type": "code",
   "execution_count": 29,
   "id": "9c9418df",
   "metadata": {},
   "outputs": [
    {
     "name": "stdout",
     "output_type": "stream",
     "text": [
      "Enter Number= 3\n",
      "It is odd!\n"
     ]
    }
   ],
   "source": [
    "Integer = int(input('Enter Number= '))\n",
    "if Integer%2 == 0:\n",
    "    print('It is even')\n",
    "else:\n",
    "    print('It is odd!')"
   ]
  },
  {
   "cell_type": "markdown",
   "id": "4e326530",
   "metadata": {},
   "source": [
    "9. Write a Python program to add 'ing' at the end of a given string (string length should be equal to or more than 3). If the given string already ends with 'ing' then add 'ly' instead.If the string length of the given string is less than 3, leave it unchanged"
   ]
  },
  {
   "cell_type": "code",
   "execution_count": 4,
   "id": "af46b736",
   "metadata": {},
   "outputs": [
    {
     "ename": "KeyboardInterrupt",
     "evalue": "Interrupted by user",
     "output_type": "error",
     "traceback": [
      "\u001b[0;31m---------------------------------------------------------------------------\u001b[0m",
      "\u001b[0;31mKeyboardInterrupt\u001b[0m                         Traceback (most recent call last)",
      "Cell \u001b[0;32mIn[4], line 1\u001b[0m\n\u001b[0;32m----> 1\u001b[0m word \u001b[38;5;241m=\u001b[39m \u001b[38;5;28mstr\u001b[39m(\u001b[38;5;28minput\u001b[39m(\u001b[38;5;124m'\u001b[39m\u001b[38;5;124mEnter any word: \u001b[39m\u001b[38;5;124m'\u001b[39m))\n\u001b[1;32m      2\u001b[0m \u001b[38;5;28;01mif\u001b[39;00m word[\u001b[38;5;241m-\u001b[39m\u001b[38;5;241m1\u001b[39m]\u001b[38;5;241m==\u001b[39m \u001b[38;5;124m'\u001b[39m\u001b[38;5;124mg\u001b[39m\u001b[38;5;124m'\u001b[39m \u001b[38;5;129;01mand\u001b[39;00m word[\u001b[38;5;241m-\u001b[39m\u001b[38;5;241m2\u001b[39m] \u001b[38;5;241m==\u001b[39m \u001b[38;5;124m'\u001b[39m\u001b[38;5;124mn\u001b[39m\u001b[38;5;124m'\u001b[39m \u001b[38;5;129;01mand\u001b[39;00m word[\u001b[38;5;241m-\u001b[39m\u001b[38;5;241m3\u001b[39m] \u001b[38;5;241m==\u001b[39m \u001b[38;5;124m'\u001b[39m\u001b[38;5;124mi\u001b[39m\u001b[38;5;124m'\u001b[39m:\n\u001b[1;32m      3\u001b[0m     \u001b[38;5;28mprint\u001b[39m(word\u001b[38;5;241m+\u001b[39m\u001b[38;5;124m'\u001b[39m\u001b[38;5;124mly\u001b[39m\u001b[38;5;124m'\u001b[39m)\n",
      "File \u001b[0;32m~/anaconda3/lib/python3.11/site-packages/ipykernel/kernelbase.py:1202\u001b[0m, in \u001b[0;36mKernel.raw_input\u001b[0;34m(self, prompt)\u001b[0m\n\u001b[1;32m   1200\u001b[0m     msg \u001b[38;5;241m=\u001b[39m \u001b[38;5;124m\"\u001b[39m\u001b[38;5;124mraw_input was called, but this frontend does not support input requests.\u001b[39m\u001b[38;5;124m\"\u001b[39m\n\u001b[1;32m   1201\u001b[0m     \u001b[38;5;28;01mraise\u001b[39;00m StdinNotImplementedError(msg)\n\u001b[0;32m-> 1202\u001b[0m \u001b[38;5;28;01mreturn\u001b[39;00m \u001b[38;5;28mself\u001b[39m\u001b[38;5;241m.\u001b[39m_input_request(\n\u001b[1;32m   1203\u001b[0m     \u001b[38;5;28mstr\u001b[39m(prompt),\n\u001b[1;32m   1204\u001b[0m     \u001b[38;5;28mself\u001b[39m\u001b[38;5;241m.\u001b[39m_parent_ident[\u001b[38;5;124m\"\u001b[39m\u001b[38;5;124mshell\u001b[39m\u001b[38;5;124m\"\u001b[39m],\n\u001b[1;32m   1205\u001b[0m     \u001b[38;5;28mself\u001b[39m\u001b[38;5;241m.\u001b[39mget_parent(\u001b[38;5;124m\"\u001b[39m\u001b[38;5;124mshell\u001b[39m\u001b[38;5;124m\"\u001b[39m),\n\u001b[1;32m   1206\u001b[0m     password\u001b[38;5;241m=\u001b[39m\u001b[38;5;28;01mFalse\u001b[39;00m,\n\u001b[1;32m   1207\u001b[0m )\n",
      "File \u001b[0;32m~/anaconda3/lib/python3.11/site-packages/ipykernel/kernelbase.py:1245\u001b[0m, in \u001b[0;36mKernel._input_request\u001b[0;34m(self, prompt, ident, parent, password)\u001b[0m\n\u001b[1;32m   1242\u001b[0m \u001b[38;5;28;01mexcept\u001b[39;00m \u001b[38;5;167;01mKeyboardInterrupt\u001b[39;00m:\n\u001b[1;32m   1243\u001b[0m     \u001b[38;5;66;03m# re-raise KeyboardInterrupt, to truncate traceback\u001b[39;00m\n\u001b[1;32m   1244\u001b[0m     msg \u001b[38;5;241m=\u001b[39m \u001b[38;5;124m\"\u001b[39m\u001b[38;5;124mInterrupted by user\u001b[39m\u001b[38;5;124m\"\u001b[39m\n\u001b[0;32m-> 1245\u001b[0m     \u001b[38;5;28;01mraise\u001b[39;00m \u001b[38;5;167;01mKeyboardInterrupt\u001b[39;00m(msg) \u001b[38;5;28;01mfrom\u001b[39;00m \u001b[38;5;28;01mNone\u001b[39;00m\n\u001b[1;32m   1246\u001b[0m \u001b[38;5;28;01mexcept\u001b[39;00m \u001b[38;5;167;01mException\u001b[39;00m:\n\u001b[1;32m   1247\u001b[0m     \u001b[38;5;28mself\u001b[39m\u001b[38;5;241m.\u001b[39mlog\u001b[38;5;241m.\u001b[39mwarning(\u001b[38;5;124m\"\u001b[39m\u001b[38;5;124mInvalid Message:\u001b[39m\u001b[38;5;124m\"\u001b[39m, exc_info\u001b[38;5;241m=\u001b[39m\u001b[38;5;28;01mTrue\u001b[39;00m)\n",
      "\u001b[0;31mKeyboardInterrupt\u001b[0m: Interrupted by user"
     ]
    }
   ],
   "source": [
    "word = str(input('Enter any word: '))\n",
    "if word[-1]== 'g' and word[-2] == 'n' and word[-3] == 'i':\n",
    "    print(word+'ly')\n",
    "elif len(word)>= 3:\n",
    "    print(word+'ing')\n",
    "else:\n",
    "    print(word)\n",
    "    \n"
   ]
  },
  {
   "cell_type": "code",
   "execution_count": 40,
   "id": "1f165a49",
   "metadata": {},
   "outputs": [
    {
     "name": "stdout",
     "output_type": "stream",
     "text": [
      "Enter any word: cunning\n",
      "cunningly\n"
     ]
    }
   ],
   "source": [
    "word = str(input('Enter any word: '))\n",
    "if word[-1]== 'g' and word[-2] == 'n' and word[-3] == 'i':\n",
    "    print(word+'ly')\n",
    "elif len(word)>= 3:\n",
    "    print(word+'ing')\n",
    "else:\n",
    "    print(word)\n",
    "    "
   ]
  },
  {
   "cell_type": "code",
   "execution_count": 41,
   "id": "6e9eab16",
   "metadata": {},
   "outputs": [
    {
     "name": "stdout",
     "output_type": "stream",
     "text": [
      "Enter any word: hellow\n",
      "hellowing\n"
     ]
    }
   ],
   "source": [
    "word = str(input('Enter any word: '))\n",
    "if word[-1]== 'g' and word[-2] == 'n' and word[-3] == 'i':\n",
    "    print(word+'ly')\n",
    "elif len(word)>= 3:\n",
    "    print(word+'ing')\n",
    "else:\n",
    "    print(word)\n",
    "    "
   ]
  },
  {
   "cell_type": "code",
   "execution_count": 77,
   "id": "f85cc21c",
   "metadata": {},
   "outputs": [
    {
     "name": "stdout",
     "output_type": "stream",
     "text": [
      "Enter any word: learning\n",
      "learningly\n"
     ]
    }
   ],
   "source": [
    "word = str(input('Enter any word: '))\n",
    "if word.endswith('ing'):\n",
    "    print(word+'ly')\n",
    "elif len(word)>= 3:\n",
    "    print(word+'ing')\n",
    "else:\n",
    "    print(word)"
   ]
  },
  {
   "cell_type": "markdown",
   "id": "4b2ebe5b",
   "metadata": {},
   "source": [
    "10. Create rock-paper-scissors by using the if condition.\n"
   ]
  },
  {
   "cell_type": "code",
   "execution_count": 1,
   "id": "5bf8fee5",
   "metadata": {},
   "outputs": [
    {
     "name": "stdout",
     "output_type": "stream",
     "text": [
      "player - I: r\n",
      "Its a tie \n",
      " system choice - r\n"
     ]
    }
   ],
   "source": [
    "import random\n",
    "b = list('rps')\n",
    "random.shuffle(b)\n",
    "b = b[0]\n",
    "a = input('player - I: ').lower()\n",
    "if (a == 'p' and b == 'r') or (a == 's' and b == 'p') or (a == 'r' and b == 's'):\n",
    "    print('You win', '\\n','system choice -', b)\n",
    "elif a == b:\n",
    "    print('Its a tie', '\\n','system choice -',b)\n",
    "else:\n",
    "    print('You lose','\\n','system choice -', b)\n"
   ]
  },
  {
   "cell_type": "markdown",
   "id": "e67f2daa",
   "metadata": {},
   "source": [
    "11. Create a dynamic calculator which asks for numbers and operator and return the answers,\n",
    "             Example\n",
    "    * Input: Type first number: 10\",\n",
    "    * Type any of this (+, -, *, /, %, **): ,*\n",
    "    * Assignment-2 ,\n",
    "    * Type second number: 19,\n",
    "    * Output:Answer is 190\n"
   ]
  },
  {
   "cell_type": "code",
   "execution_count": 18,
   "id": "0d8dbe1d",
   "metadata": {},
   "outputs": [
    {
     "name": "stdout",
     "output_type": "stream",
     "text": [
      "Enter Number: 0\n",
      "Enter Number: 0\n",
      "Enter operator: /\n",
      "Indeterminant form\n"
     ]
    }
   ],
   "source": [
    "num1, num2, oprtr = float(input('Enter Number: ')), float(input('Enter Number: ')), input('Enter operator: ')\n",
    "if oprtr == '+':\n",
    "    print('Sum = ', num1 + num2)\n",
    "elif oprtr == '-':\n",
    "    print('Difference = ', num1 - num2)\n",
    "elif oprtr == '*':\n",
    "    print('Product = ', num1 * num2)\n",
    "elif oprtr == '/':\n",
    "    if num1 != 0 and num2 != 0:\n",
    "        print('Div = ', num1 / num2)\n",
    "    else:\n",
    "        print('Indeterminant form')\n",
    "elif oprtr == '%':\n",
    "    print('Remainder = ', num1 % num2)\n",
    "elif oprtr == '**':\n",
    "    print('Power = ', num1 ** num2)\n",
    "else:\n",
    "    print('Something Went Wrong')"
   ]
  },
  {
   "cell_type": "markdown",
   "id": "3f2cb87a",
   "metadata": {},
   "source": [
    "12. Manoj Kumar has family and friends. Help him remind them who is who. Given a string with a name, return the relation of that person to Manoj Kumar.,\n",
    " Person Relation,\n",
    " Shiva father ,Letha mother, Tarun brother,Kavitha sister ,,Strange Coder.\n"
   ]
  },
  {
   "cell_type": "code",
   "execution_count": 3,
   "id": "93ba7bde",
   "metadata": {},
   "outputs": [
    {
     "name": "stdout",
     "output_type": "stream",
     "text": [
      "Name: Shiva\n",
      "Father\n"
     ]
    }
   ],
   "source": [
    "string = str(input('Name: ')).lower()\n",
    "\n",
    "if string == 'shiva':\n",
    "    print('Father')\n",
    "elif string == 'letha':\n",
    "    print('Mother')\n",
    "elif string == 'tarun':\n",
    "    print('Brother')\n",
    "elif string == 'kavitha':\n",
    "    print('Sister')\n",
    "else:\n",
    "    print('Stranger')"
   ]
  },
  {
   "cell_type": "markdown",
   "id": "0d44dbbf",
   "metadata": {},
   "source": [
    "13. Write a python program that takes in a word and determines whether or not it is plural. A plural word is one that ends with “s”"
   ]
  },
  {
   "cell_type": "code",
   "execution_count": 6,
   "id": "95799f24",
   "metadata": {},
   "outputs": [
    {
     "name": "stdout",
     "output_type": "stream",
     "text": [
      "Enter word: guys\n",
      "It is plural\n"
     ]
    }
   ],
   "source": [
    "s1 = str(input('Enter word: '))\n",
    "\n",
    "#Using emdswith to check if s is present at the end of the word or not.\n",
    "if s1.endswith('s'):\n",
    "    print('It is plural')\n",
    "else:\n",
    "    print('It is not plural')"
   ]
  },
  {
   "cell_type": "code",
   "execution_count": 7,
   "id": "e94ae435",
   "metadata": {},
   "outputs": [
    {
     "name": "stdout",
     "output_type": "stream",
     "text": [
      "Enter word: flower\n",
      "It is not plural\n"
     ]
    }
   ],
   "source": [
    "s1 = str(input('Enter word: '))\n",
    "\n",
    "if s1.endswith('s'):\n",
    "    print('It is plural')\n",
    "else:\n",
    "    print('It is not plural')"
   ]
  },
  {
   "cell_type": "markdown",
   "id": "f01deb37",
   "metadata": {},
   "source": [
    "14. A company decided to give a bonus of 5% to employees if his/her year of service is more than 5 years.Ask user for their salary and year of service and print the net bonus amount."
   ]
  },
  {
   "cell_type": "code",
   "execution_count": 25,
   "id": "bd37efc6",
   "metadata": {},
   "outputs": [
    {
     "name": "stdout",
     "output_type": "stream",
     "text": [
      "Enter your joining year: 2017\n",
      "Enter your salary: 20000\n",
      "Your Bonus Amount is: 1000.0\n"
     ]
    }
   ],
   "source": [
    "import datetime\n",
    "\n",
    "y, s = int(input('Enter your joining year: ')), int(input('Enter your salary: '))\n",
    "# getting the current date and then current year\n",
    "today = datetime.date.today()\n",
    "today_year = int(today.year)\n",
    "\n",
    "# calculating the bonus percentage\n",
    "b = (s*5)/100\n",
    "\n",
    "# Checking the difference between current year and the user input year is greater that 18 or not.\n",
    "if today_year >= y:\n",
    "    if (today_year - y) <= 5:\n",
    "        print('Sorry No Bonus This Year!!')\n",
    "    else:\n",
    "        print('Your Bonus Amount is:', b )\n",
    "else:\n",
    "    print(\"Enter valid year\")"
   ]
  },
  {
   "cell_type": "markdown",
   "id": "79b4a7e4",
   "metadata": {},
   "source": [
    "15. Take values of length and breadth of a rectangle from the user and check if it is square or not."
   ]
  },
  {
   "cell_type": "code",
   "execution_count": 45,
   "id": "9b0d469a",
   "metadata": {},
   "outputs": [
    {
     "name": "stdout",
     "output_type": "stream",
     "text": [
      "Length of rectangle: 32\n",
      "Breadth of rectangle: 28\n",
      "It is not a square\n"
     ]
    }
   ],
   "source": [
    "l = float(input('Length of rectangle: '))\n",
    "b = float(input('Breadth of rectangle: '))\n",
    "\n",
    "# checking if length and breadth both are equal, if same then it's a square else rectangle\n",
    "if l == b:\n",
    "    print('It is a square')\n",
    "else:\n",
    "    print('It is not a square')"
   ]
  },
  {
   "cell_type": "code",
   "execution_count": 28,
   "id": "bba53aad",
   "metadata": {},
   "outputs": [
    {
     "name": "stdout",
     "output_type": "stream",
     "text": [
      "Length of rectangle: 10\n",
      "Breadth of rectangle: 10\n",
      "It is a square\n"
     ]
    }
   ],
   "source": [
    "l = float(input('Length of rectangle: '))\n",
    "b = float(input('Breadth of rectangle: '))\n",
    "\n",
    "if l == b:\n",
    "    print('It is a square')\n",
    "else:\n",
    "    print('It is not a square')"
   ]
  },
  {
   "cell_type": "markdown",
   "id": "f3ed1041",
   "metadata": {},
   "source": [
    "16. Accept any city from the user and display the monument of the city \n",
    "* Hyderabad  : “charminar”\n",
    "* “Delhi”         : “red fort\n",
    "* “Agra           : Taj mahal.\n",
    "    If the city name is not given correctly, give him a warning message.\n",
    "\n"
   ]
  },
  {
   "cell_type": "code",
   "execution_count": 34,
   "id": "32db4897",
   "metadata": {},
   "outputs": [
    {
     "name": "stdout",
     "output_type": "stream",
     "text": [
      "City Name: hyderabad\n",
      "charminar\n"
     ]
    }
   ],
   "source": [
    "c = input('City Name: ').lower()\n",
    "h = 'hyderabad'\n",
    "d = 'delhi'\n",
    "a = 'agra'\n",
    "\n",
    "# Checking if the input value is equal to any of the three given cities.\n",
    "if c == h:\n",
    "    print('charminar')\n",
    "elif c == d:\n",
    "    print('red fort')\n",
    "elif c == a:\n",
    "    print('taj mahal')\n",
    "else:\n",
    "    print('Please enter city name correctly!!!')"
   ]
  },
  {
   "cell_type": "code",
   "execution_count": 35,
   "id": "efefda13",
   "metadata": {},
   "outputs": [
    {
     "name": "stdout",
     "output_type": "stream",
     "text": [
      "City Name: goa\n",
      "Please enter city name correctly!!!\n"
     ]
    }
   ],
   "source": [
    "c = input('City Name: ').lower()\n",
    "h = 'hyderabad'\n",
    "d = 'delhi'\n",
    "a = 'agra'\n",
    "\n",
    "if c == h:\n",
    "    print('charminar')\n",
    "elif c == d:\n",
    "    print('red fort')\n",
    "elif c == a:\n",
    "    print('taj mahal')\n",
    "else:\n",
    "    print('Please enter city name correctly!!!')"
   ]
  },
  {
   "cell_type": "markdown",
   "id": "04424af9",
   "metadata": {},
   "source": [
    "17. Write a program to check whether a person is eligible for voting or not  (voting age>=18). "
   ]
  },
  {
   "cell_type": "code",
   "execution_count": 46,
   "id": "f790a0e6",
   "metadata": {},
   "outputs": [
    {
     "name": "stdout",
     "output_type": "stream",
     "text": [
      "Enter your Year of Birth 1995\n",
      "You are eligible for voting this year\n"
     ]
    }
   ],
   "source": [
    "import datetime\n",
    "dob = int(input('Enter your Year of Birth '))\n",
    "today = datetime.date.today()\n",
    "today_year = int(today.year) # Getting this current year\n",
    "\n",
    "# Checking the difference between current year and the user input year is greater that 18 or not.\n",
    "if (today_year-dob)>= 18:\n",
    "    print('You are eligible for voting this year')\n",
    "else:\n",
    "    print('You are not eligible for voting this year')\n"
   ]
  },
  {
   "cell_type": "markdown",
   "id": "cc487d84",
   "metadata": {},
   "source": [
    "18. Accept three sides of the triangle and check whether the triangle is possible or not.(Triangle is possible only when the sum of any two sides is greater than 3 rd side).\n",
    "\n"
   ]
  },
  {
   "cell_type": "code",
   "execution_count": 44,
   "id": "52fa28c6",
   "metadata": {},
   "outputs": [
    {
     "name": "stdout",
     "output_type": "stream",
     "text": [
      "Enter side a: 12\n",
      "Enter side b: 11\n",
      "Enter side c: 10\n",
      "Triangle is possible\n"
     ]
    }
   ],
   "source": [
    "a, b, c = float(input('Enter side a: ')), float(input('Enter side b: ')), float(input('Enter side c: '))\n",
    "  \n",
    "# Using or operator for checking zll different possibilities  \n",
    "if (a + b) > c or (b + c) > a or (c + a) > b:\n",
    "    print('Triangle is possible')\n",
    "else:\n",
    "    print('Triangle is not possible')\n"
   ]
  },
  {
   "cell_type": "code",
   "execution_count": null,
   "id": "77b6497d",
   "metadata": {},
   "outputs": [],
   "source": []
  }
 ],
 "metadata": {
  "kernelspec": {
   "display_name": "Python 3 (ipykernel)",
   "language": "python",
   "name": "python3"
  },
  "language_info": {
   "codemirror_mode": {
    "name": "ipython",
    "version": 3
   },
   "file_extension": ".py",
   "mimetype": "text/x-python",
   "name": "python",
   "nbconvert_exporter": "python",
   "pygments_lexer": "ipython3",
   "version": "3.11.5"
  }
 },
 "nbformat": 4,
 "nbformat_minor": 5
}
