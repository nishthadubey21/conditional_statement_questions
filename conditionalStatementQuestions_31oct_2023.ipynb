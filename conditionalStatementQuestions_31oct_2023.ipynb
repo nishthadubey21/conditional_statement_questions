{
 "cells": [
  {
   "cell_type": "markdown",
   "id": "32d9cb7c",
   "metadata": {},
   "source": [
    "# Conditional Statements Questions:\n",
    "\n",
    "1. Write a Python program that asks the user for their age and prints \"You are an adult\" if the age is 18 or older, otherwise prints \"You are a minor'."
   ]
  },
  {
   "cell_type": "code",
   "execution_count": 2,
   "id": "92a9acf3",
   "metadata": {},
   "outputs": [
    {
     "name": "stdout",
     "output_type": "stream",
     "text": [
      "your age =  21\n",
      "you are an adult\n"
     ]
    }
   ],
   "source": [
    "age = int(input('your age =  '))\n",
    "\n",
    "if age >= 18:  #if age>=18 years\n",
    "    print('you are an adult')\n",
    "else: \n",
    "    print('you are minor')\n"
   ]
  },
  {
   "cell_type": "code",
   "execution_count": 3,
   "id": "3be8423a",
   "metadata": {},
   "outputs": [
    {
     "name": "stdout",
     "output_type": "stream",
     "text": [
      "your age =  12\n",
      "you are minor\n"
     ]
    }
   ],
   "source": [
    "age = int(input('your age =  '))\n",
    "\n",
    "if age >= 18:  #if age>=18 years\n",
    "    print('you are an adult')\n",
    "else: \n",
    "    print('you are minor')\n"
   ]
  },
  {
   "cell_type": "markdown",
   "id": "1c95d8c5",
   "metadata": {},
   "source": [
    "2. Write a program that takes a numerical grade (out of 100) as input and prints the corresponding letter grade according to the following scale:\n",
    "   *  90-100: A\n",
    "   *  80-89: B\n",
    "   * 70-79: C\n",
    "   * 60-69: D\n",
    "   *  Below 60: F\n"
   ]
  },
  {
   "cell_type": "code",
   "execution_count": 13,
   "id": "2e39298a",
   "metadata": {},
   "outputs": [
    {
     "name": "stdout",
     "output_type": "stream",
     "text": [
      "enter marks out of 100: -22\n",
      "Invalid marks\n"
     ]
    }
   ],
   "source": [
    "marks = float(input('enter marks out of 100: ')) # we take marks as float input \n",
    "\n",
    "if marks in range(90,101): #here condition is given within the range (90,101)\n",
    "    print('A')\n",
    "elif marks in range(80,90): \n",
    "    print('B')\n",
    "elif marks in range(70,80):\n",
    "    print('C')\n",
    "elif marks in range(60,70):\n",
    "    print('D') \n",
    "elif marks in range(0,60):\n",
    "    print('F')     \n",
    "else: \n",
    "    print('Invalid marks')"
   ]
  },
  {
   "cell_type": "code",
   "execution_count": 15,
   "id": "084aa42c",
   "metadata": {},
   "outputs": [
    {
     "name": "stdout",
     "output_type": "stream",
     "text": [
      "enter marks out of 100: 77.5\n",
      "Invalid marks\n"
     ]
    }
   ],
   "source": [
    "marks = float(input('enter marks out of 100: ')) # we take marks as float input \n",
    "\n",
    "if marks in range(90,101): #here condition is given within the range (90,101)\n",
    "    print('A')\n",
    "elif marks in range(80,90): \n",
    "    print('B')\n",
    "elif marks in range(70,80):\n",
    "    print('C')\n",
    "elif marks in range(60,70):\n",
    "    print('D') \n",
    "elif marks in range(0,60):\n",
    "    print('F')     \n",
    "else: \n",
    "    print('Invalid marks')"
   ]
  },
  {
   "cell_type": "markdown",
   "id": "88e3d4e1",
   "metadata": {},
   "source": [
    "3. Write a program that calculates the Body Mass Index (BMI) of a person. The user should input their weight in kilograms and height in meters. The program should then print whether the person is underweight, normal weight, overweight, or obese."
   ]
  },
  {
   "cell_type": "code",
   "execution_count": null,
   "id": "e68f492d",
   "metadata": {},
   "outputs": [],
   "source": [
    "#BMI calculater\n",
    "\n",
    "weight = float(input('Enter your weight in kg: '))  \n",
    "height = float(input('Enter your height in meter: '))\n",
    "BMI = weight/(height*height) #formula for BMI\n",
    "\n",
    "if BMI>0 and BMI<=18.5: # and statement used for the range of BMI\n",
    "    print('Underweight')\n",
    "elif BMI>18.5 and BMI<= 25:\n",
    "    print('Normal Weight')\n",
    "elif BMI>25 and BMI<= 30:\n",
    "    print('Over Weight')\n",
    "elif BMI>30:\n",
    "    print('Obese')"
   ]
  },
  {
   "cell_type": "markdown",
   "id": "9f21fb4f",
   "metadata": {},
   "source": [
    "4. Write a program that asks the user for three numbers and prints the maximum of the three."
   ]
  },
  {
   "cell_type": "code",
   "execution_count": 18,
   "id": "12469d5e",
   "metadata": {},
   "outputs": [
    {
     "name": "stdout",
     "output_type": "stream",
     "text": [
      "number = 34,2,1\n",
      "34\n"
     ]
    }
   ],
   "source": [
    "num = str(input('number = ')).split(\",\") # number input as string\n",
    "print(max(int(num[0]), int(num[1]), int(num[2]))) #max of numbers as integer"
   ]
  },
  {
   "cell_type": "markdown",
   "id": "02cd3048",
   "metadata": {},
   "source": [
    "5. Write a program that asks the user for a temperature (in Celsius) and prints \"It's freezing\" if the temperature is below 0, \"It's cool\" if it's between 0 and 10, \"It's warm\" if it's between 10 and 20, and \"It's hot\" if it's above 20."
   ]
  },
  {
   "cell_type": "code",
   "execution_count": 20,
   "id": "acc5a4ee",
   "metadata": {},
   "outputs": [
    {
     "name": "stdout",
     "output_type": "stream",
     "text": [
      "Temperature (in C) =  14\n",
      "It's Warm\n"
     ]
    }
   ],
   "source": [
    "Temp = float(input('Temperature (in C) =  '))\n",
    "\n",
    "if Temp< 0:\n",
    "    print('It\\'s freezing')\n",
    "elif Temp>= 0 and Temp<10:\n",
    "    print('It\\'s Cool')\n",
    "elif Temp>=10 and Temp<20:\n",
    "    print('It\\'s Warm')\n",
    "else:\n",
    "    print('It\\'s Hot')\n",
    "    "
   ]
  },
  {
   "cell_type": "markdown",
   "id": "bdc4d8d2",
   "metadata": {},
   "source": [
    "6. Write a program that asks the user for a number (1-7) and prints the corresponding day of the week."
   ]
  },
  {
   "cell_type": "code",
   "execution_count": 22,
   "id": "46274af5",
   "metadata": {},
   "outputs": [
    {
     "name": "stdout",
     "output_type": "stream",
     "text": [
      "Enter number= 1\n",
      "Monday\n"
     ]
    }
   ],
   "source": [
    "day = int(input('Enter number= '))\n",
    "\n",
    "if day == 1:\n",
    "    print('Monday')\n",
    "elif day == 2:\n",
    "    print('Tuesday')\n",
    "elif day == 3:\n",
    "    print('Wednesday')\n",
    "elif day == 4:\n",
    "    print('Thursday')\n",
    "elif day == 5:\n",
    "    print('Friday')\n",
    "elif day == 6:\n",
    "    print('Saturday')\n",
    "elif day == 7:\n",
    "    print('Sunday')"
   ]
  },
  {
   "cell_type": "markdown",
   "id": "d55b3c1d",
   "metadata": {},
   "source": [
    "7. Write a program that asks the user for a number and prints \"In range\" if the number is between 10 and 20 (inclusive), and \"Out of range\" otherwise."
   ]
  },
  {
   "cell_type": "code",
   "execution_count": 23,
   "id": "62eeb702",
   "metadata": {},
   "outputs": [
    {
     "name": "stdout",
     "output_type": "stream",
     "text": [
      "Enter Your Number= 11\n",
      "In range :)\n"
     ]
    }
   ],
   "source": [
    "num = float(input('Enter Your Number= '))\n",
    "if num>= 10 and num<=20:\n",
    "    print('In range :)')\n",
    "else:\n",
    "    print('Out of range!!')"
   ]
  },
  {
   "cell_type": "code",
   "execution_count": 24,
   "id": "f3e1809c",
   "metadata": {},
   "outputs": [
    {
     "name": "stdout",
     "output_type": "stream",
     "text": [
      "Enter Your Number= 21\n",
      "Out of range!!\n"
     ]
    }
   ],
   "source": [
    "num = float(input('Enter Your Number= '))\n",
    "if num>= 10 and num<=20:\n",
    "    print('In range :)')\n",
    "else:\n",
    "    print('Out of range!!')"
   ]
  },
  {
   "cell_type": "markdown",
   "id": "76c347a5",
   "metadata": {},
   "source": [
    "8. Write a program that asks the user for an integer and prints whether it's even or odd.\n"
   ]
  },
  {
   "cell_type": "code",
   "execution_count": 28,
   "id": "507c8125",
   "metadata": {},
   "outputs": [
    {
     "name": "stdout",
     "output_type": "stream",
     "text": [
      "Enter Number= 4\n",
      "It is even\n"
     ]
    }
   ],
   "source": [
    "Integer = int(input('Enter Number= '))\n",
    "if Integer%2 == 0:\n",
    "    print('It is even')\n",
    "else:\n",
    "    print('It is odd!')"
   ]
  },
  {
   "cell_type": "code",
   "execution_count": 29,
   "id": "9c9418df",
   "metadata": {},
   "outputs": [
    {
     "name": "stdout",
     "output_type": "stream",
     "text": [
      "Enter Number= 3\n",
      "It is odd!\n"
     ]
    }
   ],
   "source": [
    "Integer = int(input('Enter Number= '))\n",
    "if Integer%2 == 0:\n",
    "    print('It is even')\n",
    "else:\n",
    "    print('It is odd!')"
   ]
  },
  {
   "cell_type": "markdown",
   "id": "4e326530",
   "metadata": {},
   "source": [
    "9. Write a Python program to add 'ing' at the end of a given string (string length should be equal to or more than 3). If the given string already ends with 'ing' then add 'ly' instead.If the string length of the given string is less than 3, leave it unchanged"
   ]
  },
  {
   "cell_type": "code",
   "execution_count": 39,
   "id": "af46b736",
   "metadata": {},
   "outputs": [
    {
     "name": "stdout",
     "output_type": "stream",
     "text": [
      "Enter any word: er\n",
      "er\n"
     ]
    }
   ],
   "source": [
    "word = str(input('Enter any word: '))\n",
    "if word[-1]== 'g' and word[-2] == 'n' and word[-3] == 'i':\n",
    "    print(word+'ly')\n",
    "elif len(word)>= 3:\n",
    "    print(word+'ing')\n",
    "else:\n",
    "    print(word)\n",
    "    \n"
   ]
  },
  {
   "cell_type": "code",
   "execution_count": 40,
   "id": "1f165a49",
   "metadata": {},
   "outputs": [
    {
     "name": "stdout",
     "output_type": "stream",
     "text": [
      "Enter any word: cunning\n",
      "cunningly\n"
     ]
    }
   ],
   "source": [
    "word = str(input('Enter any word: '))\n",
    "if word[-1]== 'g' and word[-2] == 'n' and word[-3] == 'i':\n",
    "    print(word+'ly')\n",
    "elif len(word)>= 3:\n",
    "    print(word+'ing')\n",
    "else:\n",
    "    print(word)\n",
    "    "
   ]
  },
  {
   "cell_type": "code",
   "execution_count": 41,
   "id": "6e9eab16",
   "metadata": {},
   "outputs": [
    {
     "name": "stdout",
     "output_type": "stream",
     "text": [
      "Enter any word: hellow\n",
      "hellowing\n"
     ]
    }
   ],
   "source": [
    "word = str(input('Enter any word: '))\n",
    "if word[-1]== 'g' and word[-2] == 'n' and word[-3] == 'i':\n",
    "    print(word+'ly')\n",
    "elif len(word)>= 3:\n",
    "    print(word+'ing')\n",
    "else:\n",
    "    print(word)\n",
    "    "
   ]
  },
  {
   "cell_type": "code",
   "execution_count": 77,
   "id": "f85cc21c",
   "metadata": {},
   "outputs": [
    {
     "name": "stdout",
     "output_type": "stream",
     "text": [
      "Enter any word: learning\n",
      "learningly\n"
     ]
    }
   ],
   "source": [
    "word = str(input('Enter any word: '))\n",
    "if word.endswith('ing'):\n",
    "    print(word+'ly')\n",
    "elif len(word)>= 3:\n",
    "    print(word+'ing')\n",
    "else:\n",
    "    print(word)"
   ]
  },
  {
   "cell_type": "code",
   "execution_count": null,
   "id": "bbd84833",
   "metadata": {},
   "outputs": [],
   "source": []
  },
  {
   "cell_type": "code",
   "execution_count": null,
   "id": "5bf8fee5",
   "metadata": {},
   "outputs": [],
   "source": []
  },
  {
   "cell_type": "code",
   "execution_count": null,
   "id": "d13b1f57",
   "metadata": {},
   "outputs": [],
   "source": []
  }
 ],
 "metadata": {
  "kernelspec": {
   "display_name": "Python 3 (ipykernel)",
   "language": "python",
   "name": "python3"
  },
  "language_info": {
   "codemirror_mode": {
    "name": "ipython",
    "version": 3
   },
   "file_extension": ".py",
   "mimetype": "text/x-python",
   "name": "python",
   "nbconvert_exporter": "python",
   "pygments_lexer": "ipython3",
   "version": "3.11.5"
  }
 },
 "nbformat": 4,
 "nbformat_minor": 5
}
