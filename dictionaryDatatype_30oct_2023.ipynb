{
 "cells": [
  {
   "cell_type": "markdown",
   "id": "2b9fc856",
   "metadata": {},
   "source": [
    "# Dictionary"
   ]
  },
  {
   "cell_type": "code",
   "execution_count": 9,
   "id": "1172727e",
   "metadata": {},
   "outputs": [
    {
     "data": {
      "text/plain": [
       "{1: [1, 2, 3], 'hello': ['hi'], ('f', 'g'): 5}"
      ]
     },
     "execution_count": 9,
     "metadata": {},
     "output_type": "execute_result"
    }
   ],
   "source": [
    "x = {1: [1,2,3], \n",
    "     'hello': (4,5,6), \n",
    "     'hello': ['hi'],\n",
    "     ('f','g'): 5}\n",
    "x"
   ]
  },
  {
   "cell_type": "code",
   "execution_count": 4,
   "id": "eebc7dfc",
   "metadata": {},
   "outputs": [
    {
     "data": {
      "text/plain": [
       "{}"
      ]
     },
     "execution_count": 4,
     "metadata": {},
     "output_type": "execute_result"
    }
   ],
   "source": [
    "x = dict()\n",
    "x"
   ]
  },
  {
   "cell_type": "code",
   "execution_count": 5,
   "id": "ee246b09",
   "metadata": {},
   "outputs": [
    {
     "data": {
      "text/plain": [
       "['__class__',\n",
       " '__class_getitem__',\n",
       " '__contains__',\n",
       " '__delattr__',\n",
       " '__delitem__',\n",
       " '__dir__',\n",
       " '__doc__',\n",
       " '__eq__',\n",
       " '__format__',\n",
       " '__ge__',\n",
       " '__getattribute__',\n",
       " '__getitem__',\n",
       " '__getstate__',\n",
       " '__gt__',\n",
       " '__hash__',\n",
       " '__init__',\n",
       " '__init_subclass__',\n",
       " '__ior__',\n",
       " '__iter__',\n",
       " '__le__',\n",
       " '__len__',\n",
       " '__lt__',\n",
       " '__ne__',\n",
       " '__new__',\n",
       " '__or__',\n",
       " '__reduce__',\n",
       " '__reduce_ex__',\n",
       " '__repr__',\n",
       " '__reversed__',\n",
       " '__ror__',\n",
       " '__setattr__',\n",
       " '__setitem__',\n",
       " '__sizeof__',\n",
       " '__str__',\n",
       " '__subclasshook__',\n",
       " 'clear',\n",
       " 'copy',\n",
       " 'fromkeys',\n",
       " 'get',\n",
       " 'items',\n",
       " 'keys',\n",
       " 'pop',\n",
       " 'popitem',\n",
       " 'setdefault',\n",
       " 'update',\n",
       " 'values']"
      ]
     },
     "execution_count": 5,
     "metadata": {},
     "output_type": "execute_result"
    }
   ],
   "source": [
    "dir(dict)"
   ]
  },
  {
   "cell_type": "code",
   "execution_count": 10,
   "id": "6333d452",
   "metadata": {},
   "outputs": [
    {
     "data": {
      "text/plain": [
       "{1: [1, 2, 3], 'hello': ['hi'], ('f', 'g'): 5}"
      ]
     },
     "execution_count": 10,
     "metadata": {},
     "output_type": "execute_result"
    }
   ],
   "source": [
    "x"
   ]
  },
  {
   "cell_type": "code",
   "execution_count": 11,
   "id": "d2c043f2",
   "metadata": {},
   "outputs": [
    {
     "data": {
      "text/plain": [
       "['hi']"
      ]
     },
     "execution_count": 11,
     "metadata": {},
     "output_type": "execute_result"
    }
   ],
   "source": [
    "x['hello']"
   ]
  },
  {
   "cell_type": "code",
   "execution_count": 14,
   "id": "58c60b80",
   "metadata": {},
   "outputs": [
    {
     "data": {
      "text/plain": [
       "'i'"
      ]
     },
     "execution_count": 14,
     "metadata": {},
     "output_type": "execute_result"
    }
   ],
   "source": [
    "x['hello'][0][1]"
   ]
  },
  {
   "cell_type": "code",
   "execution_count": 16,
   "id": "c9305cca",
   "metadata": {},
   "outputs": [
    {
     "name": "stdout",
     "output_type": "stream",
     "text": [
      "clear copy fromkeys get items keys pop popitem setdefault update values\n"
     ]
    }
   ],
   "source": [
    "print('clear',\n",
    " 'copy',\n",
    " 'fromkeys',\n",
    " 'get',\n",
    " 'items',\n",
    " 'keys',\n",
    " 'pop',\n",
    " 'popitem',\n",
    " 'setdefault',\n",
    " 'update',\n",
    " 'values')"
   ]
  },
  {
   "cell_type": "code",
   "execution_count": 3,
   "id": "4928322e",
   "metadata": {},
   "outputs": [
    {
     "data": {
      "text/plain": [
       "{1: [11, 111], 2: 22}"
      ]
     },
     "execution_count": 3,
     "metadata": {},
     "output_type": "execute_result"
    }
   ],
   "source": [
    "x = dict(((1,[11, 111]),\n",
    "         (2,22)))\n",
    "x # unpacking, dict class accepts a container, normally it have list or touple, each touple should have length 2, "
   ]
  },
  {
   "cell_type": "markdown",
   "id": "3bb4428f",
   "metadata": {},
   "source": [
    "### Get"
   ]
  },
  {
   "cell_type": "code",
   "execution_count": 15,
   "id": "8cd7a2d3",
   "metadata": {},
   "outputs": [
    {
     "data": {
      "text/plain": [
       "3"
      ]
     },
     "execution_count": 15,
     "metadata": {},
     "output_type": "execute_result"
    }
   ],
   "source": [
    "x = {'k1': 1,\n",
    "     'k2':2,\n",
    "     'k3':3}\n",
    "x['k3']"
   ]
  },
  {
   "cell_type": "code",
   "execution_count": 5,
   "id": "00597249",
   "metadata": {},
   "outputs": [
    {
     "data": {
      "text/plain": [
       "3"
      ]
     },
     "execution_count": 5,
     "metadata": {},
     "output_type": "execute_result"
    }
   ],
   "source": [
    "x.get('k3')"
   ]
  },
  {
   "cell_type": "code",
   "execution_count": 6,
   "id": "93ea4d76",
   "metadata": {},
   "outputs": [
    {
     "ename": "KeyError",
     "evalue": "'k'",
     "output_type": "error",
     "traceback": [
      "\u001b[0;31m---------------------------------------------------------------------------\u001b[0m",
      "\u001b[0;31mKeyError\u001b[0m                                  Traceback (most recent call last)",
      "Cell \u001b[0;32mIn[6], line 1\u001b[0m\n\u001b[0;32m----> 1\u001b[0m x[\u001b[38;5;124m'\u001b[39m\u001b[38;5;124mk\u001b[39m\u001b[38;5;124m'\u001b[39m]\n",
      "\u001b[0;31mKeyError\u001b[0m: 'k'"
     ]
    }
   ],
   "source": [
    "x['k'] #throws error"
   ]
  },
  {
   "cell_type": "code",
   "execution_count": 7,
   "id": "212f76cf",
   "metadata": {},
   "outputs": [],
   "source": [
    "x.get('k') #doesnt throw error"
   ]
  },
  {
   "cell_type": "markdown",
   "id": "b6dafbe4",
   "metadata": {},
   "source": [
    "### Update"
   ]
  },
  {
   "cell_type": "code",
   "execution_count": 8,
   "id": "04446473",
   "metadata": {},
   "outputs": [
    {
     "data": {
      "text/plain": [
       "{'k1': 1, 'k2': 2, 'k3': 3}"
      ]
     },
     "execution_count": 8,
     "metadata": {},
     "output_type": "execute_result"
    }
   ],
   "source": [
    "x"
   ]
  },
  {
   "cell_type": "code",
   "execution_count": 9,
   "id": "7f101d1f",
   "metadata": {},
   "outputs": [
    {
     "data": {
      "text/plain": [
       "{'k1': 1, 'k2': 2, 'k3': 3, 'k4': 4}"
      ]
     },
     "execution_count": 9,
     "metadata": {},
     "output_type": "execute_result"
    }
   ],
   "source": [
    "x['k4'] = 4 #updated the new value to the dictionary\n",
    "x"
   ]
  },
  {
   "cell_type": "code",
   "execution_count": 10,
   "id": "2df53284",
   "metadata": {},
   "outputs": [
    {
     "data": {
      "text/plain": [
       "{'k1': 111, 'k2': 2, 'k3': 3, 'k4': 4}"
      ]
     },
     "execution_count": 10,
     "metadata": {},
     "output_type": "execute_result"
    }
   ],
   "source": [
    "x['k1'] = 111 #overwrite the value\n",
    "x"
   ]
  },
  {
   "cell_type": "code",
   "execution_count": 13,
   "id": "db7e3aaf",
   "metadata": {},
   "outputs": [
    {
     "data": {
      "text/plain": [
       "{'k1': 111, 'k2': 2, 'k3': 3, 'k4': 4, 'k5': 5, 'k6': 6}"
      ]
     },
     "execution_count": 13,
     "metadata": {},
     "output_type": "execute_result"
    }
   ],
   "source": [
    "x.update([('k5',5),\n",
    "         ('k6',6)])\n",
    "x"
   ]
  },
  {
   "cell_type": "code",
   "execution_count": 14,
   "id": "a5979f95",
   "metadata": {},
   "outputs": [
    {
     "data": {
      "text/plain": [
       "{'k1': 111, 'k2': 2, 'k3': 3, 'k4': 4, 'k5': 5, 'k6': 6, 'k7': 7, 'k8': 8}"
      ]
     },
     "execution_count": 14,
     "metadata": {},
     "output_type": "execute_result"
    }
   ],
   "source": [
    "x.update({'k7': 7, 'k8': 8})\n",
    "x"
   ]
  },
  {
   "cell_type": "code",
   "execution_count": 15,
   "id": "c1618b20",
   "metadata": {},
   "outputs": [
    {
     "name": "stdout",
     "output_type": "stream",
     "text": [
      "{}\n",
      "<class 'dict'>\n",
      "0x1120c9ec0\n",
      "{'k1': 111, 'k2': 2, 'k3': 3, 'k4': 4, 'k5': 5, 'k6': 6, 'k7': 7, 'k8': 8}\n",
      "<class 'dict'>\n",
      "0x1120c9ec0\n"
     ]
    }
   ],
   "source": [
    "a = {}\n",
    "print(a, type(a), hex(id(a)), sep = '\\n')\n",
    "a.update(x)\n",
    "print(a, type(a), hex(id(a)), sep = '\\n')\n",
    "# both have same memory location #dict is mutable"
   ]
  },
  {
   "cell_type": "code",
   "execution_count": 16,
   "id": "5bd2ee41",
   "metadata": {},
   "outputs": [
    {
     "data": {
      "text/plain": [
       "{'k1': 111, 'k2': 2, 'k3': 3, 'k4': 4, 'k5': 5, 'k6': 6, 'k7': 7, 'k8': 8}"
      ]
     },
     "execution_count": 16,
     "metadata": {},
     "output_type": "execute_result"
    }
   ],
   "source": [
    "a"
   ]
  },
  {
   "cell_type": "markdown",
   "id": "11194b93",
   "metadata": {},
   "source": [
    "### keys\n",
    "* gives keys from the dictionary"
   ]
  },
  {
   "cell_type": "code",
   "execution_count": 17,
   "id": "aba97915",
   "metadata": {},
   "outputs": [
    {
     "name": "stdout",
     "output_type": "stream",
     "text": [
      "dict_keys(['k1', 'k2', 'k3', 'k4', 'k5', 'k6', 'k7', 'k8'])\n",
      "<class 'dict_keys'>\n",
      "8\n",
      "\n",
      "['k1', 'k2', 'k3', 'k4', 'k5', 'k6', 'k7', 'k8']\n",
      "<class 'list'>\n",
      "8\n"
     ]
    }
   ],
   "source": [
    "aKeys= a.keys()\n",
    "print(aKeys, type(aKeys), len(aKeys), sep = '\\n')\n",
    "print()\n",
    "aKeys= list(aKeys)\n",
    "print(aKeys, type(aKeys), len(aKeys), sep = '\\n')\n"
   ]
  },
  {
   "cell_type": "markdown",
   "id": "5660caef",
   "metadata": {},
   "source": [
    "### Values\n",
    "* gives values from the dictionary."
   ]
  },
  {
   "cell_type": "code",
   "execution_count": 18,
   "id": "4342504a",
   "metadata": {},
   "outputs": [
    {
     "data": {
      "text/plain": [
       "dict_values([111, 2, 3, 4, 5, 6, 7, 8])"
      ]
     },
     "execution_count": 18,
     "metadata": {},
     "output_type": "execute_result"
    }
   ],
   "source": [
    "a.values() #object belongs to class 'dict_values'"
   ]
  },
  {
   "cell_type": "markdown",
   "id": "00412b35",
   "metadata": {},
   "source": [
    "### items\n",
    "* it returns key and value as touple.\n"
   ]
  },
  {
   "cell_type": "code",
   "execution_count": 14,
   "id": "cd8d2535",
   "metadata": {},
   "outputs": [
    {
     "ename": "NameError",
     "evalue": "name 'a' is not defined",
     "output_type": "error",
     "traceback": [
      "\u001b[0;31m---------------------------------------------------------------------------\u001b[0m",
      "\u001b[0;31mNameError\u001b[0m                                 Traceback (most recent call last)",
      "Cell \u001b[0;32mIn[14], line 1\u001b[0m\n\u001b[0;32m----> 1\u001b[0m a\n",
      "\u001b[0;31mNameError\u001b[0m: name 'a' is not defined"
     ]
    }
   ],
   "source": [
    "a"
   ]
  },
  {
   "cell_type": "code",
   "execution_count": 20,
   "id": "c0f89f80",
   "metadata": {},
   "outputs": [
    {
     "data": {
      "text/plain": [
       "dict_items([('k1', 111), ('k2', 2), ('k3', 3), ('k4', 4), ('k5', 5), ('k6', 6), ('k7', 7), ('k8', 8)])"
      ]
     },
     "execution_count": 20,
     "metadata": {},
     "output_type": "execute_result"
    }
   ],
   "source": [
    "a.items()"
   ]
  },
  {
   "cell_type": "markdown",
   "id": "ff61dc1f",
   "metadata": {},
   "source": [
    "### pop"
   ]
  },
  {
   "cell_type": "code",
   "execution_count": 21,
   "id": "1e6bd5d8",
   "metadata": {},
   "outputs": [
    {
     "data": {
      "text/plain": [
       "{'k1': 111, 'k2': 2, 'k3': 3, 'k4': 4, 'k5': 5, 'k6': 6, 'k7': 7, 'k8': 8}"
      ]
     },
     "execution_count": 21,
     "metadata": {},
     "output_type": "execute_result"
    }
   ],
   "source": [
    "a"
   ]
  },
  {
   "cell_type": "code",
   "execution_count": 22,
   "id": "5bc71706",
   "metadata": {},
   "outputs": [
    {
     "data": {
      "text/plain": [
       "111"
      ]
     },
     "execution_count": 22,
     "metadata": {},
     "output_type": "execute_result"
    }
   ],
   "source": [
    "a.pop('k1')"
   ]
  },
  {
   "cell_type": "code",
   "execution_count": 23,
   "id": "ba8664f5",
   "metadata": {},
   "outputs": [
    {
     "data": {
      "text/plain": [
       "{'k2': 2, 'k3': 3, 'k4': 4, 'k5': 5, 'k6': 6, 'k7': 7, 'k8': 8}"
      ]
     },
     "execution_count": 23,
     "metadata": {},
     "output_type": "execute_result"
    }
   ],
   "source": [
    "a"
   ]
  },
  {
   "cell_type": "code",
   "execution_count": 24,
   "id": "bcfb4dbf",
   "metadata": {},
   "outputs": [
    {
     "ename": "TypeError",
     "evalue": "pop expected at least 1 argument, got 0",
     "output_type": "error",
     "traceback": [
      "\u001b[0;31m---------------------------------------------------------------------------\u001b[0m",
      "\u001b[0;31mTypeError\u001b[0m                                 Traceback (most recent call last)",
      "Cell \u001b[0;32mIn[24], line 1\u001b[0m\n\u001b[0;32m----> 1\u001b[0m a\u001b[38;5;241m.\u001b[39mpop()\n",
      "\u001b[0;31mTypeError\u001b[0m: pop expected at least 1 argument, got 0"
     ]
    }
   ],
   "source": [
    "a.pop() #throws error"
   ]
  },
  {
   "cell_type": "markdown",
   "id": "9e0978e4",
   "metadata": {},
   "source": [
    "### popitems\n",
    "* it always pops the last key and value.\n",
    "* it doesnt take any key "
   ]
  },
  {
   "cell_type": "code",
   "execution_count": 25,
   "id": "3c32dff7",
   "metadata": {},
   "outputs": [
    {
     "data": {
      "text/plain": [
       "('k8', 8)"
      ]
     },
     "execution_count": 25,
     "metadata": {},
     "output_type": "execute_result"
    }
   ],
   "source": [
    "a.popitem()"
   ]
  },
  {
   "cell_type": "code",
   "execution_count": 13,
   "id": "51676094",
   "metadata": {},
   "outputs": [
    {
     "ename": "NameError",
     "evalue": "name 'a' is not defined",
     "output_type": "error",
     "traceback": [
      "\u001b[0;31m---------------------------------------------------------------------------\u001b[0m",
      "\u001b[0;31mNameError\u001b[0m                                 Traceback (most recent call last)",
      "Cell \u001b[0;32mIn[13], line 1\u001b[0m\n\u001b[0;32m----> 1\u001b[0m a\n",
      "\u001b[0;31mNameError\u001b[0m: name 'a' is not defined"
     ]
    }
   ],
   "source": [
    "a"
   ]
  },
  {
   "cell_type": "markdown",
   "id": "7ac8e6d3",
   "metadata": {},
   "source": [
    "### fromkeys\n",
    "* fromkeys is a last. method, it takes a dic as a input and returns a new dictionary, whose keys are your given dic keys. and values will be none."
   ]
  },
  {
   "cell_type": "code",
   "execution_count": 28,
   "id": "0d1bd557",
   "metadata": {},
   "outputs": [
    {
     "data": {
      "text/plain": [
       "{'k2': 2, 'k3': 3, 'k4': 4, 'k5': 5, 'k6': 6, 'k7': 7}"
      ]
     },
     "execution_count": 28,
     "metadata": {},
     "output_type": "execute_result"
    }
   ],
   "source": [
    "a"
   ]
  },
  {
   "cell_type": "code",
   "execution_count": 12,
   "id": "78349739",
   "metadata": {},
   "outputs": [
    {
     "ename": "NameError",
     "evalue": "name 'a' is not defined",
     "output_type": "error",
     "traceback": [
      "\u001b[0;31m---------------------------------------------------------------------------\u001b[0m",
      "\u001b[0;31mNameError\u001b[0m                                 Traceback (most recent call last)",
      "Cell \u001b[0;32mIn[12], line 1\u001b[0m\n\u001b[0;32m----> 1\u001b[0m b \u001b[38;5;241m=\u001b[39m \u001b[38;5;28mdict\u001b[39m\u001b[38;5;241m.\u001b[39mfromkeys(a)\n\u001b[1;32m      2\u001b[0m b\n",
      "\u001b[0;31mNameError\u001b[0m: name 'a' is not defined"
     ]
    }
   ],
   "source": [
    "b = dict.fromkeys(a)\n",
    "b"
   ]
  },
  {
   "cell_type": "code",
   "execution_count": 30,
   "id": "9f0dc007",
   "metadata": {},
   "outputs": [
    {
     "data": {
      "text/plain": [
       "{'k2': 2, 'k3': 3, 'k4': 4, 'k5': 5, 'k6': 6, 'k7': 7}"
      ]
     },
     "execution_count": 30,
     "metadata": {},
     "output_type": "execute_result"
    }
   ],
   "source": [
    "a"
   ]
  },
  {
   "cell_type": "code",
   "execution_count": 11,
   "id": "66a3ce61",
   "metadata": {},
   "outputs": [
    {
     "ename": "NameError",
     "evalue": "name 'a' is not defined",
     "output_type": "error",
     "traceback": [
      "\u001b[0;31m---------------------------------------------------------------------------\u001b[0m",
      "\u001b[0;31mNameError\u001b[0m                                 Traceback (most recent call last)",
      "Cell \u001b[0;32mIn[11], line 4\u001b[0m\n\u001b[1;32m      1\u001b[0m c \u001b[38;5;241m=\u001b[39m {\u001b[38;5;124m'\u001b[39m\u001b[38;5;124mg\u001b[39m\u001b[38;5;124m'\u001b[39m: \u001b[38;5;124m'\u001b[39m\u001b[38;5;124mgod\u001b[39m\u001b[38;5;124m'\u001b[39m,\n\u001b[1;32m      2\u001b[0m     \u001b[38;5;124m'\u001b[39m\u001b[38;5;124mh\u001b[39m\u001b[38;5;124m'\u001b[39m: \u001b[38;5;124m'\u001b[39m\u001b[38;5;124mhola\u001b[39m\u001b[38;5;124m'\u001b[39m}\n\u001b[0;32m----> 4\u001b[0m z \u001b[38;5;241m=\u001b[39m c\u001b[38;5;241m.\u001b[39mfromkeys(a)\n\u001b[1;32m      5\u001b[0m z\n",
      "\u001b[0;31mNameError\u001b[0m: name 'a' is not defined"
     ]
    }
   ],
   "source": [
    "c = {'g': 'god',\n",
    "    'h': 'hola'}\n",
    "\n",
    "z = c.fromkeys(a)\n",
    "z # whatever is in brackets it workd on that dictionary it doesnt care for 'c'\n",
    "# it is a class method, "
   ]
  },
  {
   "cell_type": "code",
   "execution_count": 32,
   "id": "864771e3",
   "metadata": {},
   "outputs": [
    {
     "name": "stdout",
     "output_type": "stream",
     "text": [
      "Help on built-in function fromkeys:\n",
      "\n",
      "fromkeys(iterable, value=None, /) method of builtins.type instance\n",
      "    Create a new dictionary with keys from iterable and values set to value.\n",
      "\n"
     ]
    }
   ],
   "source": [
    "help(a.fromkeys)"
   ]
  },
  {
   "cell_type": "markdown",
   "id": "1a74374e",
   "metadata": {},
   "source": [
    "## Conditional statements"
   ]
  },
  {
   "cell_type": "code",
   "execution_count": 1,
   "id": "16734201",
   "metadata": {},
   "outputs": [
    {
     "name": "stdout",
     "output_type": "stream",
     "text": [
      "marks scored: 90\n",
      "second round\n"
     ]
    }
   ],
   "source": [
    "arunMarks = int(input('marks scored: '))\n",
    "\n",
    "\n",
    "if arunMarks >= 80:\n",
    "    print('second round')\n",
    "elif arunMarks >= 70:\n",
    "    print('first round')\n",
    "elif arunMarks >= 60:\n",
    "    print('screening round')\n",
    "else:\n",
    "    print('Study hard')"
   ]
  },
  {
   "cell_type": "code",
   "execution_count": 1,
   "id": "e1102b56",
   "metadata": {},
   "outputs": [
    {
     "name": "stdout",
     "output_type": "stream",
     "text": [
      "Study hard\n"
     ]
    }
   ],
   "source": [
    "arunMarks = 55\n",
    "\n",
    "\n",
    "if arunMarks >= 80:\n",
    "    print('second round')\n",
    "elif arunMarks >= 70:\n",
    "    print('first round')\n",
    "elif arunMarks >= 60:\n",
    "    print('screening round')\n",
    "else:\n",
    "    print('Study hard')"
   ]
  },
  {
   "cell_type": "code",
   "execution_count": 7,
   "id": "c4b0112f",
   "metadata": {},
   "outputs": [
    {
     "name": "stdout",
     "output_type": "stream",
     "text": [
      "Study hard\n"
     ]
    }
   ],
   "source": [
    "arunMarks = 59\n",
    "\n",
    "\n",
    "if arunMarks >= 60 and arunMarks < 70:\n",
    "    print('screening round')\n",
    "elif arunMarks >= 70 and arunMarks < 80:\n",
    "    print('second round')\n",
    "elif arunMarks >= 80:\n",
    "    print('first round')\n",
    "else:\n",
    "    print('Study hard')"
   ]
  },
  {
   "cell_type": "code",
   "execution_count": 8,
   "id": "16704763",
   "metadata": {},
   "outputs": [
    {
     "name": "stdout",
     "output_type": "stream",
     "text": [
      "Study hard\n"
     ]
    }
   ],
   "source": [
    "arunMarks = 59\n",
    "\n",
    "if arunMarks >= 80:\n",
    "    print('second round')\n",
    "elif arunMarks >= 70:\n",
    "    print('first round')\n",
    "elif arunMarks >= 60:\n",
    "    print('screening round')\n",
    "else:\n",
    "    print('Study hard')"
   ]
  },
  {
   "cell_type": "code",
   "execution_count": 16,
   "id": "ae7bc5d9",
   "metadata": {},
   "outputs": [
    {
     "name": "stdout",
     "output_type": "stream",
     "text": [
      "Help on built-in function setdefault:\n",
      "\n",
      "setdefault(key, default=None, /) method of builtins.dict instance\n",
      "    Insert key with a value of default if key is not in the dictionary.\n",
      "    \n",
      "    Return the value for key if key is in the dictionary, else default.\n",
      "\n"
     ]
    }
   ],
   "source": [
    "help(x.setdefault)"
   ]
  },
  {
   "cell_type": "code",
   "execution_count": 18,
   "id": "01d0adb2",
   "metadata": {},
   "outputs": [
    {
     "data": {
      "text/plain": [
       "7"
      ]
     },
     "execution_count": 18,
     "metadata": {},
     "output_type": "execute_result"
    }
   ],
   "source": [
    "x = {'k1': 5, 'k2': 6, 'k3': 7}\n",
    "x.setdefault('k3')"
   ]
  },
  {
   "cell_type": "code",
   "execution_count": null,
   "id": "28965163",
   "metadata": {},
   "outputs": [],
   "source": []
  }
 ],
 "metadata": {
  "kernelspec": {
   "display_name": "Python 3 (ipykernel)",
   "language": "python",
   "name": "python3"
  },
  "language_info": {
   "codemirror_mode": {
    "name": "ipython",
    "version": 3
   },
   "file_extension": ".py",
   "mimetype": "text/x-python",
   "name": "python",
   "nbconvert_exporter": "python",
   "pygments_lexer": "ipython3",
   "version": "3.11.5"
  }
 },
 "nbformat": 4,
 "nbformat_minor": 5
}
