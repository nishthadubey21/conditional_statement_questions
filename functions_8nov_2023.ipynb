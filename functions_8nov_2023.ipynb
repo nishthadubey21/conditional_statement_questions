{
 "cells": [
  {
   "cell_type": "code",
   "execution_count": 2,
   "id": "f630212e",
   "metadata": {},
   "outputs": [],
   "source": [
    "#wap which returns \n",
    "s = 'abc#123' #--> 'the first non alpha char is a spe char, #'\n",
    "s = 'abc1#23' #--> 'the first non numeric char is a spe char, #'\n"
   ]
  },
  {
   "cell_type": "code",
   "execution_count": 12,
   "id": "2eea7dcc",
   "metadata": {},
   "outputs": [],
   "source": [
    "def foo1stOc(s):\n",
    "    x = s.casefold()\n",
    "    for char in x:\n",
    "        if char.isnumeric():\n",
    "            print(f'the first non alpha char is a numeric, {char}')\n",
    "            return char\n",
    "        elif char.isalpha() is False:\n",
    "            print(f'the first non alpha char is a splChar, {char}')\n",
    "            return char"
   ]
  },
  {
   "cell_type": "code",
   "execution_count": 13,
   "id": "80449b94",
   "metadata": {},
   "outputs": [
    {
     "name": "stdout",
     "output_type": "stream",
     "text": [
      "the first non alpha char is a splChar, #\n"
     ]
    },
    {
     "data": {
      "text/plain": [
       "'#'"
      ]
     },
     "execution_count": 13,
     "metadata": {},
     "output_type": "execute_result"
    }
   ],
   "source": [
    "foo1stOc('abc#123')"
   ]
  },
  {
   "cell_type": "code",
   "execution_count": 10,
   "id": "5d222183",
   "metadata": {},
   "outputs": [
    {
     "data": {
      "text/plain": [
       "'abc#123'"
      ]
     },
     "execution_count": 10,
     "metadata": {},
     "output_type": "execute_result"
    }
   ],
   "source": [
    "'abc#123'.casefold()"
   ]
  },
  {
   "cell_type": "code",
   "execution_count": 2,
   "id": "a268ff25",
   "metadata": {},
   "outputs": [],
   "source": [
    "def evenOddLists(a:int,b: int):\n",
    "    even_list = [i for i in range(a, b+1) if i%2==0]\n",
    "    odd_list = [i for i in range(a,b+1) if i%2!=0]\n",
    "    return even_list, odd_list\n"
   ]
  },
  {
   "cell_type": "code",
   "execution_count": 3,
   "id": "f6763d61",
   "metadata": {
    "scrolled": true
   },
   "outputs": [
    {
     "data": {
      "text/plain": [
       "([2, 4, 6, 8, 10, 12, 14, 16, 18, 20], [3, 5, 7, 9, 11, 13, 15, 17, 19])"
      ]
     },
     "execution_count": 3,
     "metadata": {},
     "output_type": "execute_result"
    }
   ],
   "source": [
    "evenOddLists(2,20)"
   ]
  },
  {
   "cell_type": "code",
   "execution_count": 12,
   "id": "1d50718e",
   "metadata": {},
   "outputs": [],
   "source": [
    "def fooEvenOdd(a,b):\n",
    "    even, odd = [] , []\n",
    "    s, e = min(a,b), max(a,b)+1\n",
    "    for num in range(s, e):\n",
    "        if num%2==0:\n",
    "            even.append(num)\n",
    "        else:\n",
    "            odd.append(num)\n",
    "    return even, odd\n"
   ]
  },
  {
   "cell_type": "code",
   "execution_count": 13,
   "id": "5fa4f07b",
   "metadata": {},
   "outputs": [
    {
     "data": {
      "text/plain": [
       "([2, 4, 6, 8, 10, 12, 14, 16, 18, 20], [3, 5, 7, 9, 11, 13, 15, 17, 19])"
      ]
     },
     "execution_count": 13,
     "metadata": {},
     "output_type": "execute_result"
    }
   ],
   "source": [
    "fooEvenOdd(2,20)"
   ]
  },
  {
   "cell_type": "code",
   "execution_count": null,
   "id": "bfd33994",
   "metadata": {},
   "outputs": [],
   "source": []
  },
  {
   "cell_type": "code",
   "execution_count": null,
   "id": "456d0d21",
   "metadata": {},
   "outputs": [],
   "source": [
    "\n",
    "\n"
   ]
  }
 ],
 "metadata": {
  "kernelspec": {
   "display_name": "Python 3 (ipykernel)",
   "language": "python",
   "name": "python3"
  },
  "language_info": {
   "codemirror_mode": {
    "name": "ipython",
    "version": 3
   },
   "file_extension": ".py",
   "mimetype": "text/x-python",
   "name": "python",
   "nbconvert_exporter": "python",
   "pygments_lexer": "ipython3",
   "version": "3.11.5"
  }
 },
 "nbformat": 4,
 "nbformat_minor": 5
}
