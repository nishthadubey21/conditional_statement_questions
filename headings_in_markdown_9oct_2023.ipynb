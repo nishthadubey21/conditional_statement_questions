{
 "cells": [
  {
   "cell_type": "markdown",
   "id": "bf466dac",
   "metadata": {},
   "source": [
    "# corePython (heading-1)"
   ]
  },
  {
   "cell_type": "markdown",
   "id": "bf733bef",
   "metadata": {},
   "source": [
    "## introToNotebooks (heading-2)"
   ]
  },
  {
   "cell_type": "markdown",
   "id": "9187c6fd",
   "metadata": {},
   "source": [
    "### markdown"
   ]
  },
  {
   "cell_type": "markdown",
   "id": "bd8b635a",
   "metadata": {},
   "source": [
    "#### text - formatting (heading-4)"
   ]
  },
  {
   "cell_type": "markdown",
   "id": "06714c92",
   "metadata": {},
   "source": [
    "##### Lists - ordered lists (heading - 5)"
   ]
  },
  {
   "cell_type": "markdown",
   "id": "3c5ca7cf",
   "metadata": {},
   "source": [
    "1. step - 1\n",
    "2. step - 2\n",
    "3. step - 3"
   ]
  },
  {
   "cell_type": "markdown",
   "id": "1132dbcc",
   "metadata": {},
   "source": [
    "##### unordered lists (heading - 5)\n"
   ]
  },
  {
   "cell_type": "markdown",
   "id": "d4675e4f",
   "metadata": {},
   "source": [
    "* item - 1\n",
    "* item - 2\n",
    "* item - 3"
   ]
  },
  {
   "cell_type": "markdown",
   "id": "c7e6ea7e",
   "metadata": {},
   "source": [
    "##### nested bullet points"
   ]
  },
  {
   "cell_type": "markdown",
   "id": "5a2d561a",
   "metadata": {},
   "source": [
    "1. Fruits\n",
    "    * apple\n",
    "    * mango\n",
    "    \n",
    "2. vegies\n",
    "    * onions\n",
    "    * tomato"
   ]
  },
  {
   "cell_type": "markdown",
   "id": "1972d024",
   "metadata": {},
   "source": [
    "##### Textformatting - Bold, Italic and Underline"
   ]
  },
  {
   "cell_type": "markdown",
   "id": "dc9356d2",
   "metadata": {},
   "source": [
    "<b> this is bold text </b>\n",
    "<br></br>\n",
    "<i> this is italic text </i>\n",
    "<br></br>\n",
    "<u> this is underlined text </u>\n",
    "<br></br>\n",
    "<u><i> underlined and italic text </i></u>\n",
    "<br></br>\n",
    "<i><b> italic and bold text </b></i>"
   ]
  },
  {
   "cell_type": "markdown",
   "id": "d287ec06",
   "metadata": {},
   "source": [
    "<center> center text </center>"
   ]
  },
  {
   "cell_type": "markdown",
   "id": "2339242f",
   "metadata": {},
   "source": [
    "##### Block Quotes"
   ]
  },
  {
   "cell_type": "markdown",
   "id": "dea0f96a",
   "metadata": {},
   "source": [
    "> topic"
   ]
  },
  {
   "cell_type": "markdown",
   "id": "61cfd653",
   "metadata": {},
   "source": [
    "##### highlight text"
   ]
  },
  {
   "cell_type": "markdown",
   "id": "8ee65754",
   "metadata": {},
   "source": [
    "this is `highlighted`"
   ]
  },
  {
   "cell_type": "markdown",
   "id": "bab31af4",
   "metadata": {},
   "source": [
    "##### hyperlink\n",
    "\n",
    "click [here](https://www.google.com/) to google."
   ]
  },
  {
   "cell_type": "markdown",
   "id": "e0fcb1ec",
   "metadata": {},
   "source": [
    "##### Insert An Image\n",
    "\n",
    "![](https://hips.hearstapps.com/hmg-prod/images/good-morning-quotes-1674144479.jpg?crop=0.668xw:1.00xh;0.202xw,0&resize=1200:*)"
   ]
  },
  {
   "cell_type": "code",
   "execution_count": null,
   "id": "93a110e5",
   "metadata": {},
   "outputs": [],
   "source": []
  }
 ],
 "metadata": {
  "kernelspec": {
   "display_name": "Python 3 (ipykernel)",
   "language": "python",
   "name": "python3"
  },
  "language_info": {
   "codemirror_mode": {
    "name": "ipython",
    "version": 3
   },
   "file_extension": ".py",
   "mimetype": "text/x-python",
   "name": "python",
   "nbconvert_exporter": "python",
   "pygments_lexer": "ipython3",
   "version": "3.11.5"
  }
 },
 "nbformat": 4,
 "nbformat_minor": 5
}
