{
 "cells": [
  {
   "cell_type": "markdown",
   "id": "17b4efa0",
   "metadata": {},
   "source": [
    "# Break\n",
    "* It comes out of the table."
   ]
  },
  {
   "cell_type": "code",
   "execution_count": 3,
   "id": "160db7e4",
   "metadata": {},
   "outputs": [
    {
     "name": "stdout",
     "output_type": "stream",
     "text": [
      "2*1= 2\n",
      "2*2= 4\n",
      "2*3= 6\n",
      "2*4= 8\n",
      "2*5= 10\n",
      "2*6= 12\n",
      "2*7= 14\n",
      "2*8= 16\n",
      "2*9= 18\n",
      "2*10= 20\n",
      "3*1= 3\n",
      "3*2= 6\n",
      "3*3= 9\n",
      "3*4= 12\n",
      "3*5= 15\n",
      "3*6= 18\n",
      "3*7= 21\n",
      "3*8= 24\n",
      "3*9= 27\n",
      "3*10= 30\n"
     ]
    }
   ],
   "source": [
    "x = 1\n",
    "while x <= 2:\n",
    "    y = 1\n",
    "    x+=1 \n",
    "    while True:\n",
    "        print(f'{x}*{y}= {x*y}')\n",
    "        y+=1\n",
    "        if y ==11:\n",
    "            break\n",
    "       "
   ]
  },
  {
   "cell_type": "code",
   "execution_count": 4,
   "id": "605d9b1d",
   "metadata": {},
   "outputs": [
    {
     "name": "stdout",
     "output_type": "stream",
     "text": [
      "1*1= 1\n",
      "1*2= 2\n",
      "1*3= 3\n",
      "1*4= 4\n",
      "1*5= 5\n",
      "1*6= 6\n",
      "1*7= 7\n",
      "1*8= 8\n",
      "1*9= 9\n",
      "1*10= 10\n",
      "2*1= 2\n",
      "2*2= 4\n",
      "2*3= 6\n",
      "2*4= 8\n",
      "2*5= 10\n",
      "2*6= 12\n",
      "2*7= 14\n",
      "2*8= 16\n",
      "2*9= 18\n",
      "2*10= 20\n"
     ]
    }
   ],
   "source": [
    "x = 1\n",
    "while x <= 2:\n",
    "    y = 1\n",
    "    while True:\n",
    "        print(f'{x}*{y}= {x*y}')\n",
    "        y+=1\n",
    "        if y ==11:\n",
    "            break\n",
    "    x+=1        "
   ]
  },
  {
   "cell_type": "code",
   "execution_count": 6,
   "id": "2fc8bd09",
   "metadata": {},
   "outputs": [
    {
     "name": "stdout",
     "output_type": "stream",
     "text": [
      "1*1= 1\n",
      "1*2= 2\n",
      "1*3= 3\n",
      "1*4= 4\n",
      "1*5= 5\n",
      "1*6= 6\n",
      "1*7= 7\n",
      "1*8= 8\n",
      "1*9= 9\n",
      "1*10= 10\n",
      "2*1= 2\n",
      "2*2= 4\n",
      "2*3= 6\n",
      "2*4= 8\n",
      "2*5= 10\n",
      "2*6= 12\n",
      "2*7= 14\n",
      "2*8= 16\n",
      "2*9= 18\n",
      "2*10= 20\n"
     ]
    }
   ],
   "source": [
    "x = 1\n",
    "while x <= 2:\n",
    "    y = 1\n",
    "    while True:\n",
    "        print(f'{x}*{y}= {x*y}') # fstring\n",
    "        y+=1\n",
    "        if y >10:\n",
    "            break #if y > 10 it comes out of the loop \n",
    "    x+=1   "
   ]
  },
  {
   "cell_type": "code",
   "execution_count": null,
   "id": "66f7deef",
   "metadata": {},
   "outputs": [],
   "source": []
  }
 ],
 "metadata": {
  "kernelspec": {
   "display_name": "Python 3 (ipykernel)",
   "language": "python",
   "name": "python3"
  },
  "language_info": {
   "codemirror_mode": {
    "name": "ipython",
    "version": 3
   },
   "file_extension": ".py",
   "mimetype": "text/x-python",
   "name": "python",
   "nbconvert_exporter": "python",
   "pygments_lexer": "ipython3",
   "version": "3.11.5"
  }
 },
 "nbformat": 4,
 "nbformat_minor": 5
}
