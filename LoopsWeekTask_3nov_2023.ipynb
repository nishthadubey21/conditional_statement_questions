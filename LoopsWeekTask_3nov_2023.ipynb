{
 "cells": [
  {
   "cell_type": "markdown",
   "id": "7cfb76dc",
   "metadata": {},
   "source": [
    "# Loops Questions:\n",
    "### Easy Level\n",
    "1. Create a function that takes an array of values resistance that are connected in series, and calculates the total resistance of the circuit in ohms. The ohm is the standard unit of electrical resistance in the International System of Units ( SI ).\n",
    "\n"
   ]
  },
  {
   "cell_type": "code",
   "execution_count": 56,
   "id": "cb80d3ff",
   "metadata": {},
   "outputs": [
    {
     "name": "stdout",
     "output_type": "stream",
     "text": [
      "Enter the resistance value: 1,2,3,a\n",
      "Wrong entry\n"
     ]
    }
   ],
   "source": [
    "#while loop\n",
    "\n",
    "r = input('Enter the resistance value: ').split(',')\n",
    "sum = 0\n",
    "counter = 0\n",
    "if \"\".join(r).isnumeric():\n",
    "    while counter< len(r):\n",
    "        sum += float(r[counter])\n",
    "        counter+=1\n",
    "    print('Total resistance =', sum, 'ohm')    \n",
    "else:\n",
    "    print(\"Wrong entry\")"
   ]
  },
  {
   "cell_type": "code",
   "execution_count": 212,
   "id": "84e4bda6",
   "metadata": {},
   "outputs": [
    {
     "name": "stdout",
     "output_type": "stream",
     "text": [
      "Enter the resistance value: 1,2,3,4\n",
      "Wrong entry\n"
     ]
    }
   ],
   "source": [
    "# #for loop\n",
    "\n",
    "r = input('Enter the resistance value: ').split(',')\n",
    "sum = 0\n",
    "if \"\".join(r).isnumeric():\n",
    "    for i in r:\n",
    "        sum+=float(i)\n",
    "    print(\"Wrong entry\")\n",
    "else:\n",
    "    for i in r:\n",
    "        sum+= float(i)\n",
    "    print('Total resistance =', sum, 'ohm')"
   ]
  },
  {
   "cell_type": "code",
   "execution_count": null,
   "id": "dbd8195b",
   "metadata": {},
   "outputs": [],
   "source": []
  },
  {
   "cell_type": "code",
   "execution_count": null,
   "id": "3a269b0a",
   "metadata": {},
   "outputs": [],
   "source": []
  },
  {
   "cell_type": "markdown",
   "id": "879ec32e",
   "metadata": {},
   "source": [
    "2. Create a function which concatenates the number 7 to the end of every chord in a list. Ignore all chords which already end with 7."
   ]
  },
  {
   "cell_type": "code",
   "execution_count": 107,
   "id": "bbe9d372",
   "metadata": {},
   "outputs": [
    {
     "name": "stdout",
     "output_type": "stream",
     "text": [
      "enter chords: \n",
      "[]\n"
     ]
    }
   ],
   "source": [
    "#while loop\n",
    "l = []\n",
    "chord = input('enter chords: ').split(',')\n",
    "counter = 0\n",
    "if len(chord) == 1 and chord[0] == '':\n",
    "    print([])\n",
    "else:\n",
    "    while counter < len(chord):\n",
    "        if chord[counter].find('7') != -1:\n",
    "            l.append(chord[counter])\n",
    "        else:\n",
    "            l.append(chord[counter]+'7')\n",
    "        counter+=1    \n",
    "    print(l)       \n"
   ]
  },
  {
   "cell_type": "code",
   "execution_count": 126,
   "id": "2c685c63",
   "metadata": {},
   "outputs": [
    {
     "name": "stdout",
     "output_type": "stream",
     "text": [
      "enter chords: \n",
      "[]\n"
     ]
    }
   ],
   "source": [
    "#for loop\n",
    "l = []\n",
    "chord = input('enter chords: ').split(',')\n",
    "if len(chord) == 1 and chord[0] == '':\n",
    "    print([])\n",
    "else:    \n",
    "    for i in chord:\n",
    "        if i.find('7') != -1:\n",
    "            l.append(i)\n",
    "        else:\n",
    "            l.append(i+'7')\n",
    "    print(l)        \n"
   ]
  },
  {
   "cell_type": "markdown",
   "id": "fd39bb89",
   "metadata": {},
   "source": [
    "3. Create a function that returns a base-2 (binary) representation of a base-10 (decimal) string number. "
   ]
  },
  {
   "cell_type": "code",
   "execution_count": 121,
   "id": "dcb4906f",
   "metadata": {},
   "outputs": [
    {
     "name": "stdout",
     "output_type": "stream",
     "text": [
      "Enter an integer: 0\n",
      "0\n"
     ]
    }
   ],
   "source": [
    "#while loop\n",
    "n = int(input('Enter an integer: '))\n",
    "l = []\n",
    "if n == 0:\n",
    "    print(0)\n",
    "else:    \n",
    "    while n > 0:\n",
    "        r = n%2\n",
    "        l.append(r)\n",
    "        n=int(n/2)\n",
    "    print(l[::-1])    "
   ]
  },
  {
   "cell_type": "code",
   "execution_count": 131,
   "id": "5d561d9a",
   "metadata": {},
   "outputs": [
    {
     "name": "stdout",
     "output_type": "stream",
     "text": [
      "Enter an integer: 45\n",
      "[1, 0, 1, 1, 0, 1]\n"
     ]
    }
   ],
   "source": [
    "#for loop\n",
    "n = int(input('Enter an integer: '))\n",
    "l = []\n",
    "if n == 0:\n",
    "    print(0)\n",
    "else:\n",
    "    for i in range(0,n):\n",
    "        if n == 0:\n",
    "            break\n",
    "        else:\n",
    "            i = n%2\n",
    "            l.append(i)\n",
    "            n=int(n/2)\n",
    "    print(l[::-1])    \n"
   ]
  },
  {
   "cell_type": "markdown",
   "id": "15d5cc21",
   "metadata": {},
   "source": [
    "4. Create a function that takes a string and returns the number (count) of vowels contained within it."
   ]
  },
  {
   "cell_type": "code",
   "execution_count": 148,
   "id": "c99f26d8",
   "metadata": {},
   "outputs": [
    {
     "name": "stdout",
     "output_type": "stream",
     "text": [
      "enter any word: asd\n",
      "1\n"
     ]
    }
   ],
   "source": [
    "#while loop\n",
    "s = input('enter any word: ').lower()\n",
    "counter = 0\n",
    "z = 0\n",
    "while counter < len(s):\n",
    "    if 'aeiou'.find(s[counter]) == -1:\n",
    "        pass\n",
    "    else:\n",
    "        z+=1\n",
    "    counter+=1\n",
    "print(z)        \n",
    "    \n",
    "    \n"
   ]
  },
  {
   "cell_type": "code",
   "execution_count": 157,
   "id": "212658f3",
   "metadata": {},
   "outputs": [
    {
     "name": "stdout",
     "output_type": "stream",
     "text": [
      "enter any word: aeiouaeiou\n",
      "10\n"
     ]
    }
   ],
   "source": [
    "#for loop\n",
    "s = input('enter any word: ').lower()\n",
    "z = 0\n",
    "for i in s:\n",
    "    if 'aeiou'.find(i) == -1:\n",
    "        pass\n",
    "    else:\n",
    "        z+=1\n",
    "print(z) \n"
   ]
  },
  {
   "cell_type": "markdown",
   "id": "054b5690",
   "metadata": {},
   "source": [
    "5. Create a function that takes a list and finds the integer which appears an odd number of times."
   ]
  },
  {
   "cell_type": "code",
   "execution_count": 196,
   "id": "c4b14f50",
   "metadata": {},
   "outputs": [
    {
     "name": "stdout",
     "output_type": "stream",
     "text": [
      "enter numbers: 10\n",
      "10\n"
     ]
    }
   ],
   "source": [
    "#while loop\n",
    "# Using Dictionary\n",
    "\n",
    "# a = input('enter numbers: ').split(',')\n",
    "# counter = 0\n",
    "# 1,1,2,-2,5,2,4,4,-1,-2,5\n",
    "# 20,1,1,2,2,3,3,5,5,4,20,4,5\n",
    "# d = {}\n",
    "# while counter<len(a):\n",
    "#     if d.get(a[counter]) == None:\n",
    "#         d[a[counter]] = 1\n",
    "#     else:\n",
    "#         d[a[counter]] += 1\n",
    "#     counter+=1\n",
    "# for i in d:\n",
    "#     if (d[i]%2 != 0):\n",
    "#         print(i)\n",
    "\n",
    "\n",
    "a = input('enter numbers: ').split(',')\n",
    "s = \"\".join(a)\n",
    "counter = 0\n",
    "while counter < len(a):\n",
    "    print\n",
    "    if s.count(a[counter]) %2 != 0:\n",
    "        print(a[counter])\n",
    "        break;\n",
    "    counter+=1"
   ]
  },
  {
   "cell_type": "code",
   "execution_count": 190,
   "id": "ce30ecf7",
   "metadata": {},
   "outputs": [
    {
     "name": "stdout",
     "output_type": "stream",
     "text": [
      "Help on built-in function count:\n",
      "\n",
      "count(...) method of builtins.str instance\n",
      "    S.count(sub[, start[, end]]) -> int\n",
      "    \n",
      "    Return the number of non-overlapping occurrences of substring sub in\n",
      "    string S[start:end].  Optional arguments start and end are\n",
      "    interpreted as in slice notation.\n",
      "\n"
     ]
    }
   ],
   "source": [
    "s = 'string'\n",
    "help(s.count)"
   ]
  },
  {
   "cell_type": "code",
   "execution_count": 172,
   "id": "544b4e0f",
   "metadata": {},
   "outputs": [
    {
     "name": "stdout",
     "output_type": "stream",
     "text": [
      "Help on built-in function get:\n",
      "\n",
      "get(key, default=None, /) method of builtins.dict instance\n",
      "    Return the value for key if key is in the dictionary, else default.\n",
      "\n"
     ]
    }
   ],
   "source": [
    "a={}\n",
    "help(a.get)"
   ]
  },
  {
   "cell_type": "markdown",
   "id": "dbd5f0b7",
   "metadata": {},
   "source": [
    "6. Create a function that computes the hamming distance between two strings.\n",
    "\n"
   ]
  },
  {
   "cell_type": "code",
   "execution_count": null,
   "id": "256a8bd7",
   "metadata": {},
   "outputs": [],
   "source": [
    "s1, s2 = input('entry1: '), input('entry2: ')\n",
    "counter = 0\n",
    "s = 0\n",
    "while s1 < s2:\n",
    "    if s1[0] = s2[0]:\n",
    "        "
   ]
  },
  {
   "cell_type": "code",
   "execution_count": 207,
   "id": "c48567e0",
   "metadata": {},
   "outputs": [
    {
     "name": "stdout",
     "output_type": "stream",
     "text": [
      "Enter a word:abcde\n",
      "Enter a word:fbcef\n",
      "Total match 2\n"
     ]
    }
   ],
   "source": [
    "#while loop\n",
    "s, n = input(\"Enter a word:\"), input(\"Enter a word:\")\n",
    "counter = 0\n",
    "z = 0\n",
    "while counter < len(s):\n",
    "    if s[counter] == n[counter]:\n",
    "        z+=1\n",
    "    counter+=1\n",
    "print(\"Total match\", z)"
   ]
  },
  {
   "cell_type": "code",
   "execution_count": 209,
   "id": "a7f18a2e",
   "metadata": {},
   "outputs": [
    {
     "name": "stdout",
     "output_type": "stream",
     "text": [
      "Enter a word:abcde\n",
      "Enter a word:fghij\n",
      "Total match 0\n"
     ]
    }
   ],
   "source": [
    "#for loop\n",
    "s, n = input(\"Enter a word:\"), input(\"Enter a word:\")\n",
    "z = 0\n",
    "for i in range(0,len(s)):\n",
    "    if s[i] == n[i]:\n",
    "        z+=1\n",
    "print(\"Total match\", z)"
   ]
  },
  {
   "cell_type": "markdown",
   "id": "11c00b5b",
   "metadata": {},
   "source": [
    "7. Create a function that takes a list of non-negative integers and strings and return a new list without the strings."
   ]
  },
  {
   "cell_type": "code",
   "execution_count": 5,
   "id": "1b8e3e7c",
   "metadata": {},
   "outputs": [
    {
     "name": "stdout",
     "output_type": "stream",
     "text": [
      "Enter a list:1,2,s,g,6\n",
      "['1', '2', '6']\n"
     ]
    }
   ],
   "source": [
    "# While loop\n",
    "s = input(\"Enter a list:\").split(',')\n",
    "a = []\n",
    "counter = 0\n",
    "while counter < len(s):\n",
    "    if s[counter].isnumeric():\n",
    "        a.append(s[counter])\n",
    "    counter+=1\n",
    "print(a)"
   ]
  },
  {
   "cell_type": "code",
   "execution_count": 6,
   "id": "f25d2d1f",
   "metadata": {},
   "outputs": [
    {
     "name": "stdout",
     "output_type": "stream",
     "text": [
      "Enter a list:a,d,b,5,6\n",
      "['5', '6']\n"
     ]
    }
   ],
   "source": [
    "# for loop\n",
    "s = input(\"Enter a list:\").split(',')\n",
    "a = []\n",
    "for i in s:\n",
    "    if i.isnumeric():\n",
    "        a.append(i)\n",
    "print(a)"
   ]
  },
  {
   "cell_type": "markdown",
   "id": "50fb01d6",
   "metadata": {},
   "source": [
    "8. Given a list of numbers, create a function which returns the list but with each element's index in the list added to itself. "
   ]
  },
  {
   "cell_type": "code",
   "execution_count": 20,
   "id": "7f794d2d",
   "metadata": {},
   "outputs": [
    {
     "name": "stdout",
     "output_type": "stream",
     "text": [
      "Enter a list: 5,4,3,2,1\n",
      "[5, 5, 5, 5, 5]\n"
     ]
    }
   ],
   "source": [
    "#while loop\n",
    "s = input('Enter a list: ').split(',')\n",
    "a = []\n",
    "counter = 0\n",
    "while counter < len(s):\n",
    "    a.append(counter + int(s[counter]))\n",
    "    counter+=1\n",
    "print(a)\n",
    "    \n",
    "    "
   ]
  },
  {
   "cell_type": "code",
   "execution_count": 32,
   "id": "d3dcc055",
   "metadata": {},
   "outputs": [
    {
     "name": "stdout",
     "output_type": "stream",
     "text": [
      "Enter a list: 3,5,7\n",
      "3\n",
      "6\n",
      "9\n"
     ]
    }
   ],
   "source": [
    "#for loop\n",
    "s = input('Enter a list: ').split(',')\n",
    "a = []\n",
    "for i in s:\n",
    "    print(int(i)+s.index(i))"
   ]
  },
  {
   "cell_type": "markdown",
   "id": "ca122186",
   "metadata": {},
   "source": [
    "9. Write a function that returns the number of dots when given its corresponding triangle number of the sequence.\n",
    "\n"
   ]
  },
  {
   "cell_type": "code",
   "execution_count": null,
   "id": "2c378a62",
   "metadata": {},
   "outputs": [],
   "source": [
    "#while loop\n",
    "s = int(input('enter number: '))\n",
    "counter = 0\n",
    "while counter = len(s):\n",
    "    "
   ]
  }
 ],
 "metadata": {
  "kernelspec": {
   "display_name": "Python 3 (ipykernel)",
   "language": "python",
   "name": "python3"
  },
  "language_info": {
   "codemirror_mode": {
    "name": "ipython",
    "version": 3
   },
   "file_extension": ".py",
   "mimetype": "text/x-python",
   "name": "python",
   "nbconvert_exporter": "python",
   "pygments_lexer": "ipython3",
   "version": "3.11.5"
  }
 },
 "nbformat": 4,
 "nbformat_minor": 5
}
