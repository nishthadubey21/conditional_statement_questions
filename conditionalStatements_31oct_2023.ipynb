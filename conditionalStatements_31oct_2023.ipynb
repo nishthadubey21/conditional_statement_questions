{
 "cells": [
  {
   "cell_type": "markdown",
   "id": "fd268c03",
   "metadata": {},
   "source": [
    "# Conditional Statements"
   ]
  },
  {
   "cell_type": "code",
   "execution_count": 22,
   "id": "dcf9ecc7",
   "metadata": {},
   "outputs": [
    {
     "name": "stdout",
     "output_type": "stream",
     "text": [
      "enter your marks: 121\n",
      "invalid marks\n"
     ]
    }
   ],
   "source": [
    "# above 80 - second round\n",
    "# 70-80    - first round\n",
    "# 60-70    - screening round\n",
    "# below 60 - study hard\n",
    "\n",
    "\n",
    "marks = float(input('enter your marks: '))\n",
    "\n",
    "if marks>= 0 and marks<=100:\n",
    "    if marks >= 80:\n",
    "        print('second round')\n",
    "    elif marks >= 70:\n",
    "        print('first round')\n",
    "    elif marks >= 60:\n",
    "        print('screening round')\n",
    "    else:\n",
    "        print('Study hard')\n",
    "else:\n",
    "    print('invalid marks')"
   ]
  },
  {
   "cell_type": "markdown",
   "id": "6352f09a",
   "metadata": {},
   "source": [
    "## another way"
   ]
  },
  {
   "cell_type": "code",
   "execution_count": 4,
   "id": "9886be36",
   "metadata": {},
   "outputs": [
    {
     "name": "stdout",
     "output_type": "stream",
     "text": [
      "enter your marks: 89\n",
      "Second round\n"
     ]
    }
   ],
   "source": [
    "marks = float(input('enter your marks: '))\n",
    "\n",
    "if marks <= 60:\n",
    "    print('study hard')\n",
    "elif marks <= 70:\n",
    "    print('screening round')\n",
    "elif marks <= 80:\n",
    "    print('first round')\n",
    "else:\n",
    "    print('Second round')\n"
   ]
  },
  {
   "cell_type": "code",
   "execution_count": 3,
   "id": "728f1f93",
   "metadata": {},
   "outputs": [
    {
     "name": "stdout",
     "output_type": "stream",
     "text": [
      "23\n",
      "not div by 6\n"
     ]
    }
   ],
   "source": [
    "num = int(input())\n",
    "if num%2 == 0 and num%3 == 0:\n",
    "   print('div by 6')\n",
    "else:\n",
    "    print('not div by 6')"
   ]
  },
  {
   "cell_type": "code",
   "execution_count": 13,
   "id": "b7b94c0d",
   "metadata": {},
   "outputs": [
    {
     "name": "stdout",
     "output_type": "stream",
     "text": [
      "saS\n",
      "3rd char is uppercase\n"
     ]
    }
   ],
   "source": [
    "s = str(input())\n",
    "if 65<=ord(s[2])<=90:\n",
    "    print('3rd char is uppercase')\n",
    "else:\n",
    "    print('3rd char is not uppercase')"
   ]
  },
  {
   "cell_type": "code",
   "execution_count": 16,
   "id": "ffa667d5",
   "metadata": {},
   "outputs": [
    {
     "name": "stdout",
     "output_type": "stream",
     "text": [
      "aaa\n",
      "3rd char is not uppercase\n"
     ]
    }
   ],
   "source": [
    "s = str(input())\n",
    "if ord(s[2]) in range(65,91):\n",
    "    print('3rd char is uppercase')\n",
    "else:\n",
    "    print('3rd char is not uppercase')"
   ]
  },
  {
   "cell_type": "code",
   "execution_count": 17,
   "id": "a63f0005",
   "metadata": {},
   "outputs": [
    {
     "name": "stdout",
     "output_type": "stream",
     "text": [
      "SuMiT\n",
      "3rd char is uppercase\n"
     ]
    }
   ],
   "source": [
    "s = str(input())\n",
    "if s[2].isupper():\n",
    "    print('3rd char is uppercase')\n",
    "else:\n",
    "    print('3rd char is not uppercase')"
   ]
  },
  {
   "cell_type": "code",
   "execution_count": 21,
   "id": "cae12585",
   "metadata": {},
   "outputs": [
    {
     "name": "stdout",
     "output_type": "stream",
     "text": [
      "45\n"
     ]
    }
   ],
   "source": [
    "#nested if\n",
    "\n",
    "num = int(input()) \n",
    "if num%2 == 0:\n",
    "    if num%3 == 0:\n",
    "         print('div by 6') #if first condition doesnt satisfy it doesnt go to another condition"
   ]
  },
  {
   "cell_type": "code",
   "execution_count": null,
   "id": "4f8db4e7",
   "metadata": {},
   "outputs": [],
   "source": [
    "marks = float(input('enter your marks: '))\n",
    "\n",
    "if 100>= marks >= 80:\n",
    "    print('second round')\n",
    "elif 80> marks >= 70:\n",
    "    print('first round')\n",
    "elif 70> marks >= 60:\n",
    "    print('screening round')\n",
    "elif 60> marks >= 0:\n",
    "        print('Study hard')\n",
    "\n",
    "else:\n",
    "    print('invalid marks')\n"
   ]
  },
  {
   "cell_type": "markdown",
   "id": "36dbac4f",
   "metadata": {},
   "source": [
    "3. Write a program that calculates the Body Mass Index (BMI) of a person. The user should input their weight in kilograms and height in meters. The program should then print whether the person is underweight, normal weight, overweight, or obese."
   ]
  },
  {
   "cell_type": "code",
   "execution_count": null,
   "id": "f24470c0",
   "metadata": {},
   "outputs": [],
   "source": [
    "#BMI calculater\n",
    "\n",
    "weight = float(input('Enter your weight in kg: '))\n",
    "height = float(input('Enter your height in meter: '))\n",
    "BMI = weight/(height*height)\n",
    "\n",
    "if BMI in r"
   ]
  },
  {
   "cell_type": "code",
   "execution_count": 8,
   "id": "de6ea327",
   "metadata": {},
   "outputs": [
    {
     "name": "stdout",
     "output_type": "stream",
     "text": [
      "player - I: r\n",
      "You lose \n",
      " system choice - p\n"
     ]
    }
   ],
   "source": [
    "#rock paper question\n",
    "\n",
    "import random\n",
    "b = list('rps')\n",
    "random.shuffle(b)\n",
    "b = b[0]\n",
    "a = input('player - I: ').lower()\n",
    "if (a == 'p' and b == 'r') or (a == 's' and b == 'p') or (a == 'r' and b == 's'):\n",
    "    print('You win', '\\n','system choice -', b)\n",
    "elif a == b:\n",
    "    print('Its a tie', '\\n','system choice -',b)\n",
    "else:\n",
    "    print('You lose','\\n','system choice -', b)\n",
    "\n"
   ]
  },
  {
   "cell_type": "code",
   "execution_count": 6,
   "id": "51a3e5b4",
   "metadata": {},
   "outputs": [
    {
     "name": "stdout",
     "output_type": "stream",
     "text": [
      "Enter your marks:101\n",
      "Invalid marks\n"
     ]
    }
   ],
   "source": [
    "# A : 90-100\n",
    "# B : 80 - 90\n",
    "# C : 70 - 80\n",
    "# D : 60 - 70\n",
    "# F : Below 60\n",
    "marks = int(input(\"Enter your marks:\"))\n",
    "if marks >=0 and marks <=100:\n",
    "    if marks >=90 and marks <=100:\n",
    "        print('A')\n",
    "    elif marks >=80 and marks <90:\n",
    "        print('B')\n",
    "    elif marks >=70 and marks <80:\n",
    "        print('C')\n",
    "    elif marks >=60 and marks <70:\n",
    "        print('D')\n",
    "    else:\n",
    "        print('Fail')    \n",
    "else:\n",
    "    print('Invalid marks')"
   ]
  },
  {
   "cell_type": "code",
   "execution_count": null,
   "id": "b0b307d4",
   "metadata": {},
   "outputs": [],
   "source": []
  }
 ],
 "metadata": {
  "kernelspec": {
   "display_name": "Python 3 (ipykernel)",
   "language": "python",
   "name": "python3"
  },
  "language_info": {
   "codemirror_mode": {
    "name": "ipython",
    "version": 3
   },
   "file_extension": ".py",
   "mimetype": "text/x-python",
   "name": "python",
   "nbconvert_exporter": "python",
   "pygments_lexer": "ipython3",
   "version": "3.11.5"
  }
 },
 "nbformat": 4,
 "nbformat_minor": 5
}
