{
 "cells": [
  {
   "cell_type": "markdown",
   "id": "51b84f4c",
   "metadata": {},
   "source": [
    "# for loop"
   ]
  },
  {
   "cell_type": "code",
   "execution_count": 2,
   "id": "ce5e5785",
   "metadata": {},
   "outputs": [
    {
     "data": {
      "text/plain": [
       "'\\nfor var in iterator:\\n    \\n    block of code\\n    '"
      ]
     },
     "execution_count": 2,
     "metadata": {},
     "output_type": "execute_result"
    }
   ],
   "source": [
    "'''\n",
    "for var in iterator:\n",
    "    \n",
    "    block of code\n",
    "    '''"
   ]
  },
  {
   "cell_type": "code",
   "execution_count": 5,
   "id": "a8c9d59f",
   "metadata": {},
   "outputs": [
    {
     "name": "stdout",
     "output_type": "stream",
     "text": [
      "1\n",
      "2\n",
      "3\n",
      "4\n",
      "5\n"
     ]
    }
   ],
   "source": [
    "x = [1,2,3,[4,5]] #it should be a container\n",
    "for i in x:\n",
    "    if type(i)==int or type(i)== float:\n",
    "        print(i)\n",
    "    else:\n",
    "        for j in i:\n",
    "            print(j)"
   ]
  },
  {
   "cell_type": "code",
   "execution_count": 17,
   "id": "fe65c156",
   "metadata": {},
   "outputs": [
    {
     "name": "stdout",
     "output_type": "stream",
     "text": [
      "Enter something: hii\n",
      "3*1= 3\n",
      "3*2= 6\n",
      "3*3= 9\n"
     ]
    }
   ],
   "source": [
    "x = str(input('Enter something: '))\n",
    "for i in range(1, len(x)+1):\n",
    "    print(f'{3}*{i}= {3*i}')"
   ]
  },
  {
   "cell_type": "code",
   "execution_count": 21,
   "id": "e9a23e60",
   "metadata": {},
   "outputs": [
    {
     "name": "stdout",
     "output_type": "stream",
     "text": [
      "[2, 4, 6, 8, 10, 12, 14, 16, 18] [1, 3, 5, 7, 9, 11, 13, 15, 17, 19]\n"
     ]
    }
   ],
   "source": [
    "x = range(1,20)\n",
    "even = []\n",
    "odd = []\n",
    "for i in x:\n",
    "    if i%2 == 0:\n",
    "        even.append(i)\n",
    "    else:\n",
    "        odd.append(i)\n",
    "print(even, odd)        \n",
    "        \n",
    "    "
   ]
  },
  {
   "cell_type": "code",
   "execution_count": 23,
   "id": "865d1575",
   "metadata": {},
   "outputs": [
    {
     "name": "stdout",
     "output_type": "stream",
     "text": [
      " enter an integer: 10\n",
      " enter an integer: -10\n",
      "[-10, -8, -6, -4, -2]\n",
      "[2, 4, 6, 8, 10]\n",
      "[-9, -7, -5, -3, -1]\n",
      "[1, 3, 5, 7, 9]\n"
     ]
    }
   ],
   "source": [
    "a, b = int(input(' enter an integer: ')), int(input(' enter an integer: '))\n",
    "maxNum, minNum = max(a,b), min(a,b)\n",
    "even1 = []\n",
    "even2 = []\n",
    "odd1 = []\n",
    "odd2 = []\n",
    "for i in range(minNum, maxNum+1):\n",
    "    if i%2==0 and i>0:\n",
    "        even2.append(i)\n",
    "    elif i%2==0 and i<0:\n",
    "        even1.append(i)\n",
    "    elif i%2!= 0 and i>0:\n",
    "        odd2.append(i)\n",
    "    elif i == 0:\n",
    "        pass\n",
    "    else:\n",
    "        odd1.append(i)\n",
    "print(even1, even2, odd1, odd2, sep= '\\n')        "
   ]
  },
  {
   "cell_type": "code",
   "execution_count": 24,
   "id": "09933466",
   "metadata": {},
   "outputs": [
    {
     "ename": "SyntaxError",
     "evalue": "expected ':' (3724933777.py, line 4)",
     "output_type": "error",
     "traceback": [
      "\u001b[0;36m  Cell \u001b[0;32mIn[24], line 4\u001b[0;36m\u001b[0m\n\u001b[0;31m    if i.find\u001b[0m\n\u001b[0m             ^\u001b[0m\n\u001b[0;31mSyntaxError\u001b[0m\u001b[0;31m:\u001b[0m expected ':'\n"
     ]
    }
   ],
   "source": [
    "a, b, c, d = [], [], [], []\n",
    "x = str(input('enter: '))\n",
    "for i in x:\n",
    "    if i.find\n"
   ]
  },
  {
   "cell_type": "code",
   "execution_count": 26,
   "id": "cddbb31b",
   "metadata": {},
   "outputs": [
    {
     "name": "stdout",
     "output_type": "stream",
     "text": [
      "5 2 3\n"
     ]
    }
   ],
   "source": [
    "print(5,2,3)\n"
   ]
  },
  {
   "cell_type": "code",
   "execution_count": 41,
   "id": "2f0b639a",
   "metadata": {},
   "outputs": [
    {
     "name": "stdout",
     "output_type": "stream",
     "text": [
      "Odd 1\n",
      "Even 2\n",
      "Odd 3\n",
      "Even 4\n",
      "Odd 5\n",
      "Even 6\n",
      "Odd 7\n",
      "Even 8\n",
      "Odd 9\n"
     ]
    }
   ],
   "source": [
    "s = 1\n",
    "\n",
    "while s < 10:\n",
    "    if s%2 == 0:\n",
    "        print('Even', s)\n",
    "    else:\n",
    "        print('Odd', s)\n",
    "    s+=1   "
   ]
  },
  {
   "cell_type": "code",
   "execution_count": null,
   "id": "a70c148a",
   "metadata": {},
   "outputs": [],
   "source": []
  },
  {
   "cell_type": "code",
   "execution_count": null,
   "id": "52e2c41e",
   "metadata": {},
   "outputs": [],
   "source": []
  }
 ],
 "metadata": {
  "kernelspec": {
   "display_name": "Python 3 (ipykernel)",
   "language": "python",
   "name": "python3"
  },
  "language_info": {
   "codemirror_mode": {
    "name": "ipython",
    "version": 3
   },
   "file_extension": ".py",
   "mimetype": "text/x-python",
   "name": "python",
   "nbconvert_exporter": "python",
   "pygments_lexer": "ipython3",
   "version": "3.11.5"
  }
 },
 "nbformat": 4,
 "nbformat_minor": 5
}
