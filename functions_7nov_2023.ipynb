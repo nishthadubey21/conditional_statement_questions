{
 "cells": [
  {
   "cell_type": "markdown",
   "id": "31caee68",
   "metadata": {},
   "source": [
    "# Functions\n"
   ]
  },
  {
   "cell_type": "code",
   "execution_count": 1,
   "id": "9aa0be4a",
   "metadata": {},
   "outputs": [],
   "source": [
    "def fooSum(a, b):\n",
    "    print(a+b)"
   ]
  },
  {
   "cell_type": "code",
   "execution_count": 2,
   "id": "e5a00b60",
   "metadata": {},
   "outputs": [
    {
     "name": "stdout",
     "output_type": "stream",
     "text": [
      "7\n"
     ]
    }
   ],
   "source": [
    "fooSum(2, 5)"
   ]
  },
  {
   "cell_type": "code",
   "execution_count": 3,
   "id": "3a1b0b2b",
   "metadata": {},
   "outputs": [
    {
     "name": "stdout",
     "output_type": "stream",
     "text": [
      "-9\n"
     ]
    }
   ],
   "source": [
    "fooSum(-3, -6)"
   ]
  },
  {
   "cell_type": "code",
   "execution_count": 4,
   "id": "a9a4120f",
   "metadata": {},
   "outputs": [],
   "source": [
    "# positional arguments\n",
    "def fooDivision(n, d):\n",
    "    print(n/d)"
   ]
  },
  {
   "cell_type": "code",
   "execution_count": 5,
   "id": "db488852",
   "metadata": {},
   "outputs": [
    {
     "name": "stdout",
     "output_type": "stream",
     "text": [
      "5.0\n"
     ]
    }
   ],
   "source": [
    "fooDivision(10,2)"
   ]
  },
  {
   "cell_type": "code",
   "execution_count": 6,
   "id": "df8faea8",
   "metadata": {},
   "outputs": [
    {
     "name": "stdout",
     "output_type": "stream",
     "text": [
      "3.0\n"
     ]
    }
   ],
   "source": [
    "fooDivision(n=6, d=2)"
   ]
  },
  {
   "cell_type": "code",
   "execution_count": 7,
   "id": "e6d2ef30",
   "metadata": {},
   "outputs": [],
   "source": [
    "def foofa(a, b, c):\n",
    "    x = a + b\n",
    "    y = x/c\n",
    "    print(y)"
   ]
  },
  {
   "cell_type": "code",
   "execution_count": 9,
   "id": "d60a0034",
   "metadata": {},
   "outputs": [
    {
     "name": "stdout",
     "output_type": "stream",
     "text": [
      "1.0\n"
     ]
    }
   ],
   "source": [
    "#foofa(1,2, a = 3) #can not assign a=3 bcz 1 is already given to a so it will throw an error\n",
    "foofa(1, 2, 3) #correct"
   ]
  },
  {
   "cell_type": "code",
   "execution_count": 10,
   "id": "e2259389",
   "metadata": {},
   "outputs": [],
   "source": [
    "def fooPotentialEnergy(m, h, g=9.8): # if we want to fix any value\n",
    "    print(m*h*g)"
   ]
  },
  {
   "cell_type": "code",
   "execution_count": 12,
   "id": "411ef048",
   "metadata": {},
   "outputs": [
    {
     "name": "stdout",
     "output_type": "stream",
     "text": [
      "490.00000000000006\n"
     ]
    }
   ],
   "source": [
    "fooPotentialEnergy(10,5)"
   ]
  },
  {
   "cell_type": "code",
   "execution_count": 13,
   "id": "421b1095",
   "metadata": {},
   "outputs": [
    {
     "name": "stdout",
     "output_type": "stream",
     "text": [
      "500\n"
     ]
    }
   ],
   "source": [
    "#if u want to change the value of g\n",
    "fooPotentialEnergy(10, 5, 10)"
   ]
  },
  {
   "cell_type": "code",
   "execution_count": 14,
   "id": "73c81f37",
   "metadata": {},
   "outputs": [
    {
     "name": "stdout",
     "output_type": "stream",
     "text": [
      "500\n"
     ]
    }
   ],
   "source": [
    "fooPotentialEnergy(10, 5, g= 10)"
   ]
  },
  {
   "cell_type": "code",
   "execution_count": 15,
   "id": "ae351b57",
   "metadata": {},
   "outputs": [],
   "source": [
    "#\n",
    "def fooDivision(n : float , d : float):\n",
    "    '''\n",
    "    n = numerator      #document string\n",
    "    d = denominator\n",
    "    '''\n",
    "    print(n/d) "
   ]
  },
  {
   "cell_type": "code",
   "execution_count": 16,
   "id": "f72dde42",
   "metadata": {},
   "outputs": [
    {
     "name": "stdout",
     "output_type": "stream",
     "text": [
      "\n",
      "    n = numerator\n",
      "    d = denominator\n",
      "    \n"
     ]
    }
   ],
   "source": [
    "print(fooDivision.__doc__) #to get document string"
   ]
  },
  {
   "cell_type": "code",
   "execution_count": 17,
   "id": "ca019517",
   "metadata": {},
   "outputs": [],
   "source": [
    "def fooConcatenationOfString(s1 : str, s2: '', n = 1):\n",
    "    print((s1+s2)*n)"
   ]
  },
  {
   "cell_type": "code",
   "execution_count": 20,
   "id": "7747d845",
   "metadata": {},
   "outputs": [
    {
     "name": "stdout",
     "output_type": "stream",
     "text": [
      "hihihahahihihaha\n"
     ]
    }
   ],
   "source": [
    "fooConcatenationOfString('hihi', s2 = 'haha', n=2)"
   ]
  },
  {
   "cell_type": "code",
   "execution_count": 25,
   "id": "809eb72c",
   "metadata": {},
   "outputs": [],
   "source": [
    "#greet function\n",
    "def greet(name, greet):\n",
    "    print(greet,name)"
   ]
  },
  {
   "cell_type": "code",
   "execution_count": 26,
   "id": "76a271e2",
   "metadata": {},
   "outputs": [
    {
     "name": "stdout",
     "output_type": "stream",
     "text": [
      "morning kiddo\n"
     ]
    }
   ],
   "source": [
    "greet('kiddo', 'morning')"
   ]
  },
  {
   "cell_type": "code",
   "execution_count": null,
   "id": "2569e8df",
   "metadata": {},
   "outputs": [],
   "source": []
  }
 ],
 "metadata": {
  "kernelspec": {
   "display_name": "Python 3 (ipykernel)",
   "language": "python",
   "name": "python3"
  },
  "language_info": {
   "codemirror_mode": {
    "name": "ipython",
    "version": 3
   },
   "file_extension": ".py",
   "mimetype": "text/x-python",
   "name": "python",
   "nbconvert_exporter": "python",
   "pygments_lexer": "ipython3",
   "version": "3.11.5"
  }
 },
 "nbformat": 4,
 "nbformat_minor": 5
}
