{
 "cells": [
  {
   "cell_type": "markdown",
   "id": "54e5e67a",
   "metadata": {},
   "source": [
    "# List DataType\n",
    " * Sequential\n",
    " * Heterogeneous\n",
    " * Mutable\n",
    " * Enclosed in square bracket "
   ]
  },
  {
   "cell_type": "markdown",
   "id": "d4a9aa0b",
   "metadata": {},
   "source": [
    "## Slicing Indexing"
   ]
  },
  {
   "cell_type": "code",
   "execution_count": 10,
   "id": "4102abc0",
   "metadata": {},
   "outputs": [
    {
     "name": "stdout",
     "output_type": "stream",
     "text": [
      "[1, 2.2, (3+3j), 'four', True, <built-in function print>, <class 'range'>]\n",
      "<class 'list'>\n",
      "4488880256\n",
      "1 <class 'range'>\n",
      "[1, 2.2, (3+3j), 'four', True, <built-in function print>, <class 'range'>]\n",
      "[<class 'range'>, <built-in function print>, True, 'four', (3+3j), 2.2, 1]\n"
     ]
    }
   ],
   "source": [
    "x = [1, 2.2, 3+3j, 'four', True, print, range]\n",
    "print(x, type(x), id(x), sep ='\\n')\n",
    "print(x[0], x[-1])\n",
    "print(x[::], x[::-1], sep ='\\n')\n",
    "#for positive slicing start 0, end is lenght of the list and step size is +1\n",
    "#for negative sclicing strat -1, end is -(n+1), step size is -1 by default"
   ]
  },
  {
   "cell_type": "code",
   "execution_count": 7,
   "id": "3ccf3f9c",
   "metadata": {},
   "outputs": [
    {
     "data": {
      "text/plain": [
       "('s', 'string', 'gnirts')"
      ]
     },
     "execution_count": 7,
     "metadata": {},
     "output_type": "execute_result"
    }
   ],
   "source": [
    "y = 'string'\n",
    "y[0], y[::], y[::-1]"
   ]
  },
  {
   "cell_type": "code",
   "execution_count": 11,
   "id": "c524fb7c",
   "metadata": {},
   "outputs": [
    {
     "data": {
      "text/plain": [
       "6"
      ]
     },
     "execution_count": 11,
     "metadata": {},
     "output_type": "execute_result"
    }
   ],
   "source": [
    "len(y)"
   ]
  },
  {
   "cell_type": "code",
   "execution_count": 12,
   "id": "94a15156",
   "metadata": {},
   "outputs": [
    {
     "data": {
      "text/plain": [
       "0"
      ]
     },
     "execution_count": 12,
     "metadata": {},
     "output_type": "execute_result"
    }
   ],
   "source": [
    "len('') #len of empty list is zero"
   ]
  },
  {
   "cell_type": "code",
   "execution_count": 14,
   "id": "ddc4523a",
   "metadata": {},
   "outputs": [
    {
     "name": "stdout",
     "output_type": "stream",
     "text": [
      "[]\n",
      "<class 'list'>\n",
      "0\n",
      "4488882496\n"
     ]
    }
   ],
   "source": [
    "z =[]\n",
    "print(z, type(z), len(z), id(z), sep='\\n')"
   ]
  },
  {
   "cell_type": "code",
   "execution_count": 16,
   "id": "19e22716",
   "metadata": {},
   "outputs": [
    {
     "name": "stdout",
     "output_type": "stream",
     "text": [
      "[]\n",
      "0\n",
      "0x108b93600\n"
     ]
    }
   ],
   "source": [
    "#creating list by \n",
    "l =list()\n",
    "print(l, len(l), hex(id(l)), sep='\\n')"
   ]
  },
  {
   "cell_type": "code",
   "execution_count": 17,
   "id": "48bd000b",
   "metadata": {},
   "outputs": [
    {
     "name": "stdout",
     "output_type": "stream",
     "text": [
      "['string']\n",
      "<class 'list'>\n",
      "1\n",
      "0x10b926740\n"
     ]
    }
   ],
   "source": [
    "l = ['string']\n",
    "print(l, type(l), len(l), hex(id(l)), sep='\\n')"
   ]
  },
  {
   "cell_type": "code",
   "execution_count": 18,
   "id": "d7d747c7",
   "metadata": {},
   "outputs": [
    {
     "name": "stdout",
     "output_type": "stream",
     "text": [
      "['s', 't', 'r', 'i', 'n', 'g']\n",
      "<class 'list'>\n",
      "6\n",
      "0x10b8e6b80\n"
     ]
    }
   ],
   "source": [
    "l = list('string') #take individual element \n",
    "print(l, type(l), len(l), hex(id(l)), sep='\\n')"
   ]
  },
  {
   "cell_type": "code",
   "execution_count": 19,
   "id": "11627bd4",
   "metadata": {},
   "outputs": [
    {
     "name": "stdout",
     "output_type": "stream",
     "text": [
      "[1, 100, 45, 9999]\n",
      "<class 'list'>\n",
      "4\n",
      "0x10b916e00\n"
     ]
    }
   ],
   "source": [
    "l = list ({100, 1, 45, 9999})\n",
    "print(l, type(l), len(l), hex(id(l)), sep='\\n')"
   ]
  },
  {
   "cell_type": "code",
   "execution_count": 20,
   "id": "b4b2d933",
   "metadata": {},
   "outputs": [
    {
     "data": {
      "text/plain": [
       "['p', 'e', 't', 'e', 'r', ' ', 'p', 'i', 'p', 'e', 'r']"
      ]
     },
     "execution_count": 20,
     "metadata": {},
     "output_type": "execute_result"
    }
   ],
   "source": [
    "x = 'peter piper'\n",
    "list(x)"
   ]
  },
  {
   "cell_type": "code",
   "execution_count": 21,
   "id": "de80bba5",
   "metadata": {},
   "outputs": [
    {
     "data": {
      "text/plain": [
       "{' ', 'e', 'i', 'p', 'r', 't'}"
      ]
     },
     "execution_count": 21,
     "metadata": {},
     "output_type": "execute_result"
    }
   ],
   "source": [
    "set(list(x)) #unique char only"
   ]
  },
  {
   "cell_type": "code",
   "execution_count": 22,
   "id": "9dbce863",
   "metadata": {},
   "outputs": [
    {
     "data": {
      "text/plain": [
       "6"
      ]
     },
     "execution_count": 22,
     "metadata": {},
     "output_type": "execute_result"
    }
   ],
   "source": [
    "len(set(list(x))) "
   ]
  },
  {
   "cell_type": "code",
   "execution_count": 23,
   "id": "2e9ba977",
   "metadata": {},
   "outputs": [
    {
     "name": "stdout",
     "output_type": "stream",
     "text": [
      "[1, 2, 3, [4, 5, 6]]\n",
      "<class 'list'>\n",
      "4\n",
      "0x10b91a5c0\n"
     ]
    }
   ],
   "source": [
    "#nested list -- list within a list\n",
    "l = [1,2,3, [4,5,6]]\n",
    "print(l, type(l), len(l), hex(id(l)), sep='\\n')\n"
   ]
  },
  {
   "cell_type": "code",
   "execution_count": 26,
   "id": "fb74232c",
   "metadata": {},
   "outputs": [
    {
     "data": {
      "text/plain": [
       "[4, 5, 6]"
      ]
     },
     "execution_count": 26,
     "metadata": {},
     "output_type": "execute_result"
    }
   ],
   "source": [
    "l[3] #inner list index"
   ]
  },
  {
   "cell_type": "code",
   "execution_count": 27,
   "id": "1643a85f",
   "metadata": {},
   "outputs": [
    {
     "data": {
      "text/plain": [
       "4"
      ]
     },
     "execution_count": 27,
     "metadata": {},
     "output_type": "execute_result"
    }
   ],
   "source": [
    "l[3][0] #inner list element"
   ]
  },
  {
   "cell_type": "code",
   "execution_count": 28,
   "id": "dcffa129",
   "metadata": {},
   "outputs": [
    {
     "data": {
      "text/plain": [
       "[6, 5, 4]"
      ]
     },
     "execution_count": 28,
     "metadata": {},
     "output_type": "execute_result"
    }
   ],
   "source": [
    "l[3][::-1]"
   ]
  },
  {
   "cell_type": "code",
   "execution_count": 29,
   "id": "cfaa5ab7",
   "metadata": {},
   "outputs": [
    {
     "data": {
      "text/plain": [
       "[6, 4]"
      ]
     },
     "execution_count": 29,
     "metadata": {},
     "output_type": "execute_result"
    }
   ],
   "source": [
    "l[3][::-2]"
   ]
  },
  {
   "cell_type": "code",
   "execution_count": 31,
   "id": "299bfa51",
   "metadata": {},
   "outputs": [
    {
     "name": "stdout",
     "output_type": "stream",
     "text": [
      "range(1, 11)\n",
      "<class 'range'>\n",
      "10\n",
      "0x108ca0b10\n"
     ]
    }
   ],
   "source": [
    "# range -- \n",
    "#range(start, end, step) # end means till end\n",
    "#default value of start n step of range fun is 0, +1 respectively\n",
    "r = range(1,11)\n",
    "print(r, type(r), len(r), hex(id(r)), sep='\\n')\n"
   ]
  },
  {
   "cell_type": "code",
   "execution_count": 32,
   "id": "7f54ba90",
   "metadata": {},
   "outputs": [
    {
     "data": {
      "text/plain": [
       "[1, 2, 3, 4, 5, 6, 7, 8, 9, 10]"
      ]
     },
     "execution_count": 32,
     "metadata": {},
     "output_type": "execute_result"
    }
   ],
   "source": [
    "list(r)"
   ]
  },
  {
   "cell_type": "code",
   "execution_count": 35,
   "id": "2a9bbbee",
   "metadata": {},
   "outputs": [
    {
     "name": "stdout",
     "output_type": "stream",
     "text": [
      "[10, 9, 8, 7, 6, 5, 4, 3, 2]\n",
      "<class 'range'>\n",
      "9\n",
      "0x108c9d6e0\n"
     ]
    }
   ],
   "source": [
    "r = range(10, 1, -1)\n",
    "print(list(r), type(r), len(r), hex(id(r)), sep='\\n')\n"
   ]
  },
  {
   "cell_type": "code",
   "execution_count": 36,
   "id": "42037c5d",
   "metadata": {},
   "outputs": [
    {
     "data": {
      "text/plain": [
       "range(0, 5)"
      ]
     },
     "execution_count": 36,
     "metadata": {},
     "output_type": "execute_result"
    }
   ],
   "source": [
    "range(5)"
   ]
  },
  {
   "cell_type": "code",
   "execution_count": 37,
   "id": "b478b87c",
   "metadata": {},
   "outputs": [
    {
     "data": {
      "text/plain": [
       "['__add__',\n",
       " '__class__',\n",
       " '__class_getitem__',\n",
       " '__contains__',\n",
       " '__delattr__',\n",
       " '__delitem__',\n",
       " '__dir__',\n",
       " '__doc__',\n",
       " '__eq__',\n",
       " '__format__',\n",
       " '__ge__',\n",
       " '__getattribute__',\n",
       " '__getitem__',\n",
       " '__getstate__',\n",
       " '__gt__',\n",
       " '__hash__',\n",
       " '__iadd__',\n",
       " '__imul__',\n",
       " '__init__',\n",
       " '__init_subclass__',\n",
       " '__iter__',\n",
       " '__le__',\n",
       " '__len__',\n",
       " '__lt__',\n",
       " '__mul__',\n",
       " '__ne__',\n",
       " '__new__',\n",
       " '__reduce__',\n",
       " '__reduce_ex__',\n",
       " '__repr__',\n",
       " '__reversed__',\n",
       " '__rmul__',\n",
       " '__setattr__',\n",
       " '__setitem__',\n",
       " '__sizeof__',\n",
       " '__str__',\n",
       " '__subclasshook__',\n",
       " 'append',\n",
       " 'clear',\n",
       " 'copy',\n",
       " 'count',\n",
       " 'extend',\n",
       " 'index',\n",
       " 'insert',\n",
       " 'pop',\n",
       " 'remove',\n",
       " 'reverse',\n",
       " 'sort']"
      ]
     },
     "execution_count": 37,
     "metadata": {},
     "output_type": "execute_result"
    }
   ],
   "source": [
    "dir(l)"
   ]
  },
  {
   "cell_type": "markdown",
   "id": "db4f1a4c",
   "metadata": {},
   "source": [
    "### List Methods \n",
    "'append',\n",
    " 'clear',\n",
    " 'copy',\n",
    " 'count',\n",
    " 'extend',\n",
    " 'index',\n",
    " 'insert',\n",
    " 'pop',\n",
    " 'remove',\n",
    " 'reverse',\n",
    " 'sort'"
   ]
  },
  {
   "cell_type": "code",
   "execution_count": 41,
   "id": "61b2430b",
   "metadata": {},
   "outputs": [
    {
     "name": "stdout",
     "output_type": "stream",
     "text": [
      "[]\n",
      "<class 'list'>\n",
      "0\n",
      "0x10b939380\n"
     ]
    }
   ],
   "source": [
    "l = []\n",
    "print(l, type(l), len(l), hex(id(l)), sep='\\n')\n",
    "\n"
   ]
  },
  {
   "cell_type": "code",
   "execution_count": 42,
   "id": "103de559",
   "metadata": {},
   "outputs": [
    {
     "name": "stdout",
     "output_type": "stream",
     "text": [
      "[[1, 2, 3]]\n",
      "<class 'list'>\n",
      "1\n",
      "0x10b939380\n"
     ]
    }
   ],
   "source": [
    "l.append([1,2,3])\n",
    "print(l, type(l), len(l), hex(id(l)), sep='\\n')\n",
    "# able to change the list nd memory loc is still same\n"
   ]
  },
  {
   "cell_type": "code",
   "execution_count": 63,
   "id": "540f620d",
   "metadata": {},
   "outputs": [
    {
     "name": "stdout",
     "output_type": "stream",
     "text": [
      "Help on built-in function extend:\n",
      "\n",
      "extend(iterable, /) method of builtins.list instance\n",
      "    Extend list by appending elements from the iterable.\n",
      "\n"
     ]
    }
   ],
   "source": [
    "help(l.extend)"
   ]
  },
  {
   "cell_type": "code",
   "execution_count": 44,
   "id": "bc44fcc0",
   "metadata": {},
   "outputs": [],
   "source": [
    "l = [100, [1,2,3]]"
   ]
  },
  {
   "cell_type": "code",
   "execution_count": 45,
   "id": "f5d006bd",
   "metadata": {},
   "outputs": [
    {
     "name": "stdout",
     "output_type": "stream",
     "text": [
      "[100, [1, 2, 3], 4, 5, 6]\n",
      "<class 'list'>\n",
      "5\n",
      "0x10b960700\n"
     ]
    }
   ],
   "source": [
    "l.extend([4,5,6])\n",
    "print(l, type(l), len(l), hex(id(l)), sep='\\n')\n"
   ]
  },
  {
   "cell_type": "code",
   "execution_count": 46,
   "id": "2496f5c1",
   "metadata": {},
   "outputs": [
    {
     "name": "stdout",
     "output_type": "stream",
     "text": [
      "[100, [1, 2, 3], 4, 5, 6, 's', 't', 'r', 'i', 'n', 'g']\n",
      "<class 'list'>\n",
      "11\n",
      "0x10b960700\n"
     ]
    }
   ],
   "source": [
    "l.extend('string')\n",
    "print(l, type(l), len(l), hex(id(l)), sep='\\n')\n"
   ]
  },
  {
   "cell_type": "code",
   "execution_count": 48,
   "id": "18bf517f",
   "metadata": {},
   "outputs": [
    {
     "name": "stdout",
     "output_type": "stream",
     "text": [
      "[100, [1, 2, 3], 4, 5, 6, 's', 't', 'r', 'i', 'n', 'g', 'xyz', 'xyz']\n",
      "<class 'list'>\n",
      "13\n",
      "0x10b960700\n"
     ]
    }
   ],
   "source": [
    "l.append('xyz')\n",
    "print(l, type(l), len(l), hex(id(l)), sep='\\n')\n"
   ]
  },
  {
   "cell_type": "code",
   "execution_count": 49,
   "id": "afdb00b3",
   "metadata": {},
   "outputs": [
    {
     "data": {
      "text/plain": [
       "3"
      ]
     },
     "execution_count": 49,
     "metadata": {},
     "output_type": "execute_result"
    }
   ],
   "source": [
    "[1,2,3,1,5,6,1,9].count(1)"
   ]
  },
  {
   "cell_type": "code",
   "execution_count": 50,
   "id": "f23a7b9f",
   "metadata": {},
   "outputs": [
    {
     "data": {
      "text/plain": [
       "[100, [1, 2, 3], 4, 5, 6, 's', 't', 'r', 'i', 'n', 'g', 'xyz', 'xyz']"
      ]
     },
     "execution_count": 50,
     "metadata": {},
     "output_type": "execute_result"
    }
   ],
   "source": [
    "l"
   ]
  },
  {
   "cell_type": "code",
   "execution_count": 51,
   "id": "402eac2d",
   "metadata": {},
   "outputs": [
    {
     "data": {
      "text/plain": [
       "'xyz'"
      ]
     },
     "execution_count": 51,
     "metadata": {},
     "output_type": "execute_result"
    }
   ],
   "source": [
    "l.pop()"
   ]
  },
  {
   "cell_type": "code",
   "execution_count": 52,
   "id": "a9c6e839",
   "metadata": {},
   "outputs": [
    {
     "data": {
      "text/plain": [
       "[100, [1, 2, 3], 4, 5, 6, 's', 't', 'r', 'i', 'n', 'g', 'xyz']"
      ]
     },
     "execution_count": 52,
     "metadata": {},
     "output_type": "execute_result"
    }
   ],
   "source": [
    "l"
   ]
  },
  {
   "cell_type": "code",
   "execution_count": 53,
   "id": "8d315407",
   "metadata": {},
   "outputs": [
    {
     "data": {
      "text/plain": [
       "[100, 50, [1, 2, 3], 4, 5, 6, 's', 't', 'r', 'i', 'n', 'g', 'xyz']"
      ]
     },
     "execution_count": 53,
     "metadata": {},
     "output_type": "execute_result"
    }
   ],
   "source": [
    "l.insert(1,50) #insert(place, char)\n",
    "l\n",
    "# everything after 50 moved to right side"
   ]
  },
  {
   "cell_type": "code",
   "execution_count": 56,
   "id": "fef62388",
   "metadata": {},
   "outputs": [
    {
     "data": {
      "text/plain": [
       "[100,\n",
       " 50,\n",
       " [1, 2, 3],\n",
       " 4,\n",
       " 5,\n",
       " 6,\n",
       " 's',\n",
       " 't',\n",
       " 'r',\n",
       " 'i',\n",
       " 'n',\n",
       " 'aaa',\n",
       " 'aaa',\n",
       " 'aaa',\n",
       " 'g',\n",
       " 'xyz']"
      ]
     },
     "execution_count": 56,
     "metadata": {},
     "output_type": "execute_result"
    }
   ],
   "source": [
    "l.insert(-2,'aaa')\n",
    "l"
   ]
  },
  {
   "cell_type": "code",
   "execution_count": 57,
   "id": "168ffe99",
   "metadata": {},
   "outputs": [
    {
     "data": {
      "text/plain": [
       "['m', 'a', 'l', 'a', 'y', 'a', 'l', 'a', 'm']"
      ]
     },
     "execution_count": 57,
     "metadata": {},
     "output_type": "execute_result"
    }
   ],
   "source": [
    "x = list('malayalam')\n",
    "x"
   ]
  },
  {
   "cell_type": "code",
   "execution_count": 59,
   "id": "14cc6607",
   "metadata": {},
   "outputs": [
    {
     "data": {
      "text/plain": [
       "['m', 'l', 'y', 'a', 'l', 'a', 'm']"
      ]
     },
     "execution_count": 59,
     "metadata": {},
     "output_type": "execute_result"
    }
   ],
   "source": [
    "x.remove('a')\n",
    "x #removed first occurance of a from left to right"
   ]
  },
  {
   "cell_type": "code",
   "execution_count": 2,
   "id": "32c59cb2",
   "metadata": {},
   "outputs": [
    {
     "data": {
      "text/plain": [
       "5"
      ]
     },
     "execution_count": 2,
     "metadata": {},
     "output_type": "execute_result"
    }
   ],
   "source": [
    "l = [0,1,2,3,4,5]\n",
    "#by default .pop will give last element or value \n",
    "l.pop()"
   ]
  },
  {
   "cell_type": "code",
   "execution_count": 61,
   "id": "57f1fa5e",
   "metadata": {},
   "outputs": [
    {
     "data": {
      "text/plain": [
       "(4, [0, 1, 2, 3])"
      ]
     },
     "execution_count": 61,
     "metadata": {},
     "output_type": "execute_result"
    }
   ],
   "source": [
    "a = l.pop()\n",
    "a, l"
   ]
  },
  {
   "cell_type": "code",
   "execution_count": 62,
   "id": "fa6a2652",
   "metadata": {},
   "outputs": [
    {
     "data": {
      "text/plain": [
       "1"
      ]
     },
     "execution_count": 62,
     "metadata": {},
     "output_type": "execute_result"
    }
   ],
   "source": [
    "l.pop(1)"
   ]
  },
  {
   "cell_type": "code",
   "execution_count": 3,
   "id": "0770b84d",
   "metadata": {},
   "outputs": [
    {
     "data": {
      "text/plain": [
       "[0, 1, 2, 3, 4]"
      ]
     },
     "execution_count": 3,
     "metadata": {},
     "output_type": "execute_result"
    }
   ],
   "source": [
    "l"
   ]
  },
  {
   "cell_type": "code",
   "execution_count": 5,
   "id": "1ab58394",
   "metadata": {},
   "outputs": [
    {
     "name": "stdout",
     "output_type": "stream",
     "text": [
      "Help on built-in function sort:\n",
      "\n",
      "sort(*, key=None, reverse=False) method of builtins.list instance\n",
      "    Sort the list in ascending order and return None.\n",
      "    \n",
      "    The sort is in-place (i.e. the list itself is modified) and stable (i.e. the\n",
      "    order of two equal elements is maintained).\n",
      "    \n",
      "    If a key function is given, apply it once to each list item and sort them,\n",
      "    ascending or descending, according to their function values.\n",
      "    \n",
      "    The reverse flag can be set to sort in descending order.\n",
      "\n"
     ]
    }
   ],
   "source": [
    "help(l.sort)"
   ]
  },
  {
   "cell_type": "code",
   "execution_count": 6,
   "id": "ed2e711b",
   "metadata": {},
   "outputs": [
    {
     "data": {
      "text/plain": [
       "[0, 1, 2, 3, 4]"
      ]
     },
     "execution_count": 6,
     "metadata": {},
     "output_type": "execute_result"
    }
   ],
   "source": [
    "l"
   ]
  },
  {
   "cell_type": "code",
   "execution_count": 7,
   "id": "5f93fa00",
   "metadata": {},
   "outputs": [],
   "source": [
    "x = [ ]"
   ]
  },
  {
   "cell_type": "code",
   "execution_count": 8,
   "id": "b0153196",
   "metadata": {},
   "outputs": [
    {
     "data": {
      "text/plain": [
       "['hello']"
      ]
     },
     "execution_count": 8,
     "metadata": {},
     "output_type": "execute_result"
    }
   ],
   "source": [
    "x.append('hello')\n",
    "x"
   ]
  },
  {
   "cell_type": "code",
   "execution_count": 9,
   "id": "d31ec564",
   "metadata": {},
   "outputs": [],
   "source": [
    "x.extend('hello')"
   ]
  },
  {
   "cell_type": "code",
   "execution_count": 10,
   "id": "849938c6",
   "metadata": {},
   "outputs": [
    {
     "data": {
      "text/plain": [
       "['hello', 'h', 'e', 'l', 'l', 'o']"
      ]
     },
     "execution_count": 10,
     "metadata": {},
     "output_type": "execute_result"
    }
   ],
   "source": [
    "x"
   ]
  },
  {
   "cell_type": "markdown",
   "id": "331ac227",
   "metadata": {},
   "source": [
    "### Sort"
   ]
  },
  {
   "cell_type": "code",
   "execution_count": 11,
   "id": "b1308a38",
   "metadata": {},
   "outputs": [
    {
     "data": {
      "text/plain": [
       "[1, -5, 10, 14, 100, 89, 'a', 'ani', 'b', 'z', 'jolly']"
      ]
     },
     "execution_count": 11,
     "metadata": {},
     "output_type": "execute_result"
    }
   ],
   "source": [
    "x,y = [1, -5,10, 14, 100, 89], ['a', 'ani', 'b', 'z', 'jolly']\n",
    "z = x+y\n",
    "z"
   ]
  },
  {
   "cell_type": "code",
   "execution_count": 13,
   "id": "d58dc22a",
   "metadata": {},
   "outputs": [
    {
     "data": {
      "text/plain": [
       "[-5, 1, 10, 14, 89, 100]"
      ]
     },
     "execution_count": 13,
     "metadata": {},
     "output_type": "execute_result"
    }
   ],
   "source": [
    "x.sort()\n",
    "x"
   ]
  },
  {
   "cell_type": "code",
   "execution_count": 14,
   "id": "48a0bf66",
   "metadata": {},
   "outputs": [
    {
     "data": {
      "text/plain": [
       "['a', 'ani', 'b', 'jolly', 'z']"
      ]
     },
     "execution_count": 14,
     "metadata": {},
     "output_type": "execute_result"
    }
   ],
   "source": [
    "y.sort()\n",
    "y"
   ]
  },
  {
   "cell_type": "code",
   "execution_count": 15,
   "id": "2d4c7fe7",
   "metadata": {},
   "outputs": [
    {
     "data": {
      "text/plain": [
       "[-5, 1, 10, 14, 89, 100]"
      ]
     },
     "execution_count": 15,
     "metadata": {},
     "output_type": "execute_result"
    }
   ],
   "source": [
    "x"
   ]
  },
  {
   "cell_type": "code",
   "execution_count": 17,
   "id": "1ab82c88",
   "metadata": {},
   "outputs": [
    {
     "data": {
      "text/plain": [
       "['AAA', 'a.s', 'aaa', 'abhi', 'anu', 'ayesha']"
      ]
     },
     "execution_count": 17,
     "metadata": {},
     "output_type": "execute_result"
    }
   ],
   "source": [
    "a = ['abhi', 'AAA', 'ayesha' , 'aaa', 'a.s' , 'anu']\n",
    "a.sort()\n",
    "a\n",
    "#sort by ascii number #ascending order"
   ]
  },
  {
   "cell_type": "code",
   "execution_count": 18,
   "id": "344b68dc",
   "metadata": {},
   "outputs": [
    {
     "data": {
      "text/plain": [
       "[78, 56, 1, -8]"
      ]
     },
     "execution_count": 18,
     "metadata": {},
     "output_type": "execute_result"
    }
   ],
   "source": [
    "aa = [1, -8, 56, 78]\n",
    "aa.sort(reverse=True) #by mention this we can sort it into descending order\n",
    "aa"
   ]
  },
  {
   "cell_type": "markdown",
   "id": "8307ac20",
   "metadata": {},
   "source": [
    "### Index"
   ]
  },
  {
   "cell_type": "code",
   "execution_count": 19,
   "id": "1b48ba43",
   "metadata": {},
   "outputs": [
    {
     "data": {
      "text/plain": [
       "[1, -5, 10, 14, 100, 89, 'a', 'ani', 'b', 'z', 'jolly']"
      ]
     },
     "execution_count": 19,
     "metadata": {},
     "output_type": "execute_result"
    }
   ],
   "source": [
    "z"
   ]
  },
  {
   "cell_type": "code",
   "execution_count": 20,
   "id": "0d30535e",
   "metadata": {},
   "outputs": [
    {
     "data": {
      "text/plain": [
       "2"
      ]
     },
     "execution_count": 20,
     "metadata": {},
     "output_type": "execute_result"
    }
   ],
   "source": [
    "z.index(10) #gives the index number"
   ]
  },
  {
   "cell_type": "markdown",
   "id": "1c12c9c4",
   "metadata": {},
   "source": [
    "### Reverse"
   ]
  },
  {
   "cell_type": "code",
   "execution_count": 21,
   "id": "9c013f82",
   "metadata": {},
   "outputs": [
    {
     "data": {
      "text/plain": [
       "[1, -5, 10, 14, 100, 89, 'a', 'ani', 'b', 'z', 'jolly']"
      ]
     },
     "execution_count": 21,
     "metadata": {},
     "output_type": "execute_result"
    }
   ],
   "source": [
    "z"
   ]
  },
  {
   "cell_type": "code",
   "execution_count": 22,
   "id": "dcc90794",
   "metadata": {},
   "outputs": [
    {
     "data": {
      "text/plain": [
       "['jolly', 'z', 'b', 'ani', 'a', 89, 100, 14, 10, -5, 1]"
      ]
     },
     "execution_count": 22,
     "metadata": {},
     "output_type": "execute_result"
    }
   ],
   "source": [
    "z.reverse()\n",
    "z"
   ]
  },
  {
   "cell_type": "code",
   "execution_count": 28,
   "id": "967a92f7",
   "metadata": {},
   "outputs": [
    {
     "data": {
      "text/plain": [
       "[]"
      ]
     },
     "execution_count": 28,
     "metadata": {},
     "output_type": "execute_result"
    }
   ],
   "source": [
    "x"
   ]
  },
  {
   "cell_type": "markdown",
   "id": "41eb6743",
   "metadata": {},
   "source": [
    "### Clear"
   ]
  },
  {
   "cell_type": "code",
   "execution_count": 27,
   "id": "6a22da74",
   "metadata": {},
   "outputs": [
    {
     "name": "stdout",
     "output_type": "stream",
     "text": [
      "[]\n"
     ]
    },
    {
     "data": {
      "text/plain": [
       "[]"
      ]
     },
     "execution_count": 27,
     "metadata": {},
     "output_type": "execute_result"
    }
   ],
   "source": [
    "print(x)\n",
    "x.clear()\n",
    "x"
   ]
  },
  {
   "cell_type": "code",
   "execution_count": 25,
   "id": "674281b0",
   "metadata": {},
   "outputs": [
    {
     "data": {
      "text/plain": [
       "[]"
      ]
     },
     "execution_count": 25,
     "metadata": {},
     "output_type": "execute_result"
    }
   ],
   "source": [
    "x"
   ]
  },
  {
   "cell_type": "code",
   "execution_count": 29,
   "id": "5d5e3335",
   "metadata": {},
   "outputs": [
    {
     "data": {
      "text/plain": [
       "['jolly', 'z', 'b', 'ani', 'a', 89, 100, 14, 10, -5, 1]"
      ]
     },
     "execution_count": 29,
     "metadata": {},
     "output_type": "execute_result"
    }
   ],
   "source": [
    "z"
   ]
  },
  {
   "cell_type": "code",
   "execution_count": 30,
   "id": "63ad7123",
   "metadata": {},
   "outputs": [
    {
     "data": {
      "text/plain": [
       "[]"
      ]
     },
     "execution_count": 30,
     "metadata": {},
     "output_type": "execute_result"
    }
   ],
   "source": [
    "z.clear()\n",
    "z"
   ]
  },
  {
   "cell_type": "markdown",
   "id": "a1b5d61c",
   "metadata": {},
   "source": [
    "### Copy"
   ]
  },
  {
   "cell_type": "code",
   "execution_count": 34,
   "id": "242abef4",
   "metadata": {},
   "outputs": [
    {
     "name": "stdout",
     "output_type": "stream",
     "text": [
      "[11, 22, 33] 0x10f926180\n",
      "[11, 22, 33] 0x10f926180\n",
      "[11, 22, 33, 44]\n",
      "0x10999ce98 0x10999ce98\n"
     ]
    }
   ],
   "source": [
    "x = [11, 22, 33]\n",
    "print(x, hex(id(x)))\n",
    "\n",
    "y = x\n",
    "print(y, hex(id(y)))\n",
    "\n",
    "x.append(44)\n",
    "print(y)\n",
    "print(hex(id(x[0])), hex(id(y[0])))"
   ]
  },
  {
   "cell_type": "code",
   "execution_count": 36,
   "id": "14e1eef1",
   "metadata": {},
   "outputs": [
    {
     "name": "stdout",
     "output_type": "stream",
     "text": [
      "[11, 22, 33, 44] 0x10f9498c0\n",
      "0x10999ce98\n"
     ]
    }
   ],
   "source": [
    "z = x.copy()\n",
    "x.append(55)\n",
    "print(z, hex(id(z)))\n",
    "print(hex(id(z[0])))"
   ]
  },
  {
   "cell_type": "code",
   "execution_count": 37,
   "id": "43e0cd38",
   "metadata": {},
   "outputs": [
    {
     "name": "stdout",
     "output_type": "stream",
     "text": [
      "[1, [4, 5, 6]] [4, 5, 6] 0x10f948dc0 0x10f948e40\n",
      "[1, [4, 5, 6]] [4, 5, 6] 0x10f945dc0 0x10f948e40\n"
     ]
    }
   ],
   "source": [
    "a = [1, [4, 5 ,6]]\n",
    "print(a, a[1], hex(id(a)), hex(id(a[1])))\n",
    "b = a.copy()\n",
    "print(b, b[1], hex(id(b)), hex(id(b[1])))"
   ]
  },
  {
   "cell_type": "code",
   "execution_count": 38,
   "id": "c69c6d38",
   "metadata": {},
   "outputs": [
    {
     "name": "stdout",
     "output_type": "stream",
     "text": [
      "[1, [4, 5, 6, 7]]\n",
      "[1, [4, 5, 6, 7]]\n"
     ]
    }
   ],
   "source": [
    "a[1].append(7)\n",
    "print(a)\n",
    "print(b)"
   ]
  },
  {
   "cell_type": "code",
   "execution_count": null,
   "id": "75ae3397",
   "metadata": {},
   "outputs": [],
   "source": [
    "import copy"
   ]
  }
 ],
 "metadata": {
  "kernelspec": {
   "display_name": "Python 3 (ipykernel)",
   "language": "python",
   "name": "python3"
  },
  "language_info": {
   "codemirror_mode": {
    "name": "ipython",
    "version": 3
   },
   "file_extension": ".py",
   "mimetype": "text/x-python",
   "name": "python",
   "nbconvert_exporter": "python",
   "pygments_lexer": "ipython3",
   "version": "3.11.5"
  }
 },
 "nbformat": 4,
 "nbformat_minor": 5
}
