{
 "cells": [
  {
   "cell_type": "markdown",
   "id": "4c90db15",
   "metadata": {},
   "source": [
    "## Strings\n",
    "\n",
    "\n",
    "   * strings are sequence of chars, enclosed in quotes(single, double, triple-double quotes)\n",
    "   * triple quotes are used as multiline strings, multiline comments and doc strings."
   ]
  },
  {
   "cell_type": "markdown",
   "id": "f5ee29b0",
   "metadata": {},
   "source": [
    "### Creating a string \n",
    "#### Escape char"
   ]
  },
  {
   "cell_type": "code",
   "execution_count": 2,
   "id": "9c30ac84",
   "metadata": {},
   "outputs": [
    {
     "name": "stdout",
     "output_type": "stream",
     "text": [
      "this is a string, enclosed in single quotes/nthis is a string, enclosed in double quotes/nthis is a multi-string, \n",
      "enclosed in triple single quotes \n"
     ]
    },
    {
     "data": {
      "text/plain": [
       "'this is an informative\\n   multiline comment, \\n   enclosed in triple double quotes'"
      ]
     },
     "execution_count": 2,
     "metadata": {},
     "output_type": "execute_result"
    }
   ],
   "source": [
    "s1='this is a string, enclosed in single quotes'\n",
    "s2=\"this is a string, enclosed in double quotes\"\n",
    "s3='''this is a multi-string, \n",
    "enclosed in triple single quotes '''\n",
    "print(s1, s2, s3, sep='/n')\n",
    "\"\"\"this is an informative\n",
    "   multiline comment, \n",
    "   enclosed in triple double quotes\"\"\""
   ]
  },
  {
   "cell_type": "code",
   "execution_count": 9,
   "id": "e16a0e5a",
   "metadata": {},
   "outputs": [
    {
     "name": "stdout",
     "output_type": "stream",
     "text": [
      "this cup now belong's to India\n"
     ]
    },
    {
     "data": {
      "text/plain": [
       "\"this cup now belong's to India\""
      ]
     },
     "execution_count": 9,
     "metadata": {},
     "output_type": "execute_result"
    }
   ],
   "source": [
    "a=\"this cup now belong's to India\"\n",
    "print(a)\n",
    "a='this cup now belong\\'s to India' #escape char\n",
    "a"
   ]
  },
  {
   "cell_type": "code",
   "execution_count": 7,
   "id": "45a075b1",
   "metadata": {},
   "outputs": [
    {
     "name": "stdout",
     "output_type": "stream",
     "text": [
      "a\n",
      "b\n",
      "a\tb\n",
      "a b\r",
      "c d\n"
     ]
    }
   ],
   "source": [
    "print('a\\nb') #next line\n",
    "print('a\\tb') #tab distance\n",
    "print('a b\\rc d') #begins writting from the start"
   ]
  },
  {
   "cell_type": "markdown",
   "id": "ac9f791f",
   "metadata": {},
   "source": [
    "### Raw-string and f-strings"
   ]
  },
  {
   "cell_type": "code",
   "execution_count": 8,
   "id": "db043a59",
   "metadata": {},
   "outputs": [
    {
     "name": "stdout",
     "output_type": "stream",
     "text": [
      "c:\u0007bc\n",
      "ewfolder\\j.jpg\n",
      "c:\\abc\\newfolder\\j.jpg\n",
      "c:\\abc\\newfolder\\j.jpg\n"
     ]
    }
   ],
   "source": [
    "print('c:\\abc\\newfolder\\j.jpg') # considers \\ as \\n\n",
    "print('c:\\\\abc\\\\newfolder\\\\j.jpg') # adding \\ prints the string same\n",
    "print(r'c:\\abc\\newfolder\\j.jpg') #adding r prints the string as it is # r string"
   ]
  },
  {
   "cell_type": "code",
   "execution_count": 9,
   "id": "954da0d8",
   "metadata": {},
   "outputs": [
    {
     "name": "stdout",
     "output_type": "stream",
     "text": [
      "the volume of a cyl, whose radius is 5 whose h is 7 is 550.0\n",
      "the vol of cyl whose r and h are 5 and 7 respectively is 550.0\n"
     ]
    }
   ],
   "source": [
    "r,h=5,7\n",
    "vol = (22/7)*(r**2)*h\n",
    "print('the volume of a cyl, whose radius is', r, 'whose h is', h, 'is',vol)\n",
    "print(f'the vol of cyl whose r and h are {r} and {h} respectively is {vol}') #f string"
   ]
  },
  {
   "cell_type": "code",
   "execution_count": 16,
   "id": "7a50667c",
   "metadata": {},
   "outputs": [
    {
     "name": "stdout",
     "output_type": "stream",
     "text": [
      "the vol of sphere whose d is 10 is 523.81\n"
     ]
    }
   ],
   "source": [
    "d=10\n",
    "vol = (4/3)*(22/7)*(d/2)**3\n",
    "print(f'the vol of sphere whose d is {d} is {round(vol,2)}')"
   ]
  },
  {
   "cell_type": "markdown",
   "id": "6e6943e4",
   "metadata": {},
   "source": [
    "### Strings can be indexed"
   ]
  },
  {
   "cell_type": "code",
   "execution_count": 13,
   "id": "88f15645",
   "metadata": {},
   "outputs": [
    {
     "name": "stdout",
     "output_type": "stream",
     "text": [
      "h\n"
     ]
    }
   ],
   "source": [
    "x= 'Python'\n",
    "print(x[3]) #accessing 'h'"
   ]
  },
  {
   "cell_type": "code",
   "execution_count": 15,
   "id": "e5c4f2e3",
   "metadata": {},
   "outputs": [
    {
     "name": "stdout",
     "output_type": "stream",
     "text": [
      "t\n"
     ]
    }
   ],
   "source": [
    "print(x[-4]) #accessing 't' by reverse accessing"
   ]
  },
  {
   "cell_type": "markdown",
   "id": "c34bc0a8",
   "metadata": {},
   "source": [
    "* In positive indexing, we from left to right and start index is '0' and the end index is 'n-1', where n is the length of string.\n",
    "* In negative indexing, we from right to left and start index is '-1' and the end index is '-n', where n is the length of string."
   ]
  },
  {
   "cell_type": "markdown",
   "id": "4dd32304",
   "metadata": {},
   "source": [
    "### Slicing"
   ]
  },
  {
   "cell_type": "code",
   "execution_count": 19,
   "id": "83234a01",
   "metadata": {},
   "outputs": [
    {
     "name": "stdout",
     "output_type": "stream",
     "text": [
      "40\n",
      "I am not sure\n",
      "I am not sure what to take as an example\n",
      "Ia o uewa otk sa xml\n",
      "I am not sure what to take as an example\n",
      "I am not sure what to take as an example\n",
      "what\n"
     ]
    }
   ],
   "source": [
    "x='I am not sure what to take as an example'\n",
    "print(len(x))\n",
    "print(x[0:13]) #string from 0 to 13 index\n",
    "print(x[0:41]) #string from 0 to 41th index\n",
    "print(x[0:41:2]) #jumping one step from 0 to 40th index\n",
    "print(x[0:41:1]) #counting each step from 0 to 40\n",
    "print(x[::]) #default value whatever is given\n",
    "print(x[14:18]) #printing what by slicing"
   ]
  },
  {
   "cell_type": "code",
   "execution_count": 26,
   "id": "31089c66",
   "metadata": {},
   "outputs": [
    {
     "name": "stdout",
     "output_type": "stream",
     "text": [
      "python\n",
      "nohtyp\n",
      "nohtyp\n",
      "ohtyp\n",
      "nohty\n",
      "\n",
      "\n"
     ]
    }
   ],
   "source": [
    "x= 'python'\n",
    "print(x)\n",
    "print(x[::-1]) #reverse string\n",
    "print(x[-1:-7:-1]) #indexing starts from rhs if we put '-'\n",
    "# sign determines the direction from which side you move. no sign is '+' \n",
    "print(x[4::-1]) #reverse string with positive indexing \n",
    "print(x[5:0:-1])\n",
    "print(x[0:6:-1]) #empty string\n",
    "print(x[-2:-6])"
   ]
  },
  {
   "cell_type": "code",
   "execution_count": 35,
   "id": "b3b45b77",
   "metadata": {},
   "outputs": [
    {
     "data": {
      "text/plain": [
       "'innominds'"
      ]
     },
     "execution_count": 35,
     "metadata": {},
     "output_type": "execute_result"
    }
   ],
   "source": [
    "a,b='inno','minds'\n",
    "c=a+b #concatination\n",
    "c"
   ]
  },
  {
   "cell_type": "code",
   "execution_count": 30,
   "id": "eabe52b2",
   "metadata": {},
   "outputs": [
    {
     "data": {
      "text/plain": [
       "'innomindsinnomindsinnominds'"
      ]
     },
     "execution_count": 30,
     "metadata": {},
     "output_type": "execute_result"
    }
   ],
   "source": [
    "c*3 #c+c+c"
   ]
  },
  {
   "cell_type": "code",
   "execution_count": 32,
   "id": "99c574e4",
   "metadata": {},
   "outputs": [],
   "source": [
    "c*=3"
   ]
  },
  {
   "cell_type": "code",
   "execution_count": 10,
   "id": "04f8bf74",
   "metadata": {},
   "outputs": [
    {
     "data": {
      "text/plain": [
       "65"
      ]
     },
     "execution_count": 10,
     "metadata": {},
     "output_type": "execute_result"
    }
   ],
   "source": [
    "ord('A') #ascii value of char"
   ]
  },
  {
   "cell_type": "code",
   "execution_count": 11,
   "id": "b1d8c826",
   "metadata": {},
   "outputs": [
    {
     "data": {
      "text/plain": [
       "97"
      ]
     },
     "execution_count": 11,
     "metadata": {},
     "output_type": "execute_result"
    }
   ],
   "source": [
    "ord('a')"
   ]
  },
  {
   "cell_type": "code",
   "execution_count": 12,
   "id": "b10f29fc",
   "metadata": {},
   "outputs": [
    {
     "data": {
      "text/plain": [
       "122"
      ]
     },
     "execution_count": 12,
     "metadata": {},
     "output_type": "execute_result"
    }
   ],
   "source": [
    "ord('z')"
   ]
  },
  {
   "cell_type": "code",
   "execution_count": 22,
   "id": "a0484a91",
   "metadata": {},
   "outputs": [
    {
     "data": {
      "text/plain": [
       "90"
      ]
     },
     "execution_count": 22,
     "metadata": {},
     "output_type": "execute_result"
    }
   ],
   "source": [
    "ord('Z')"
   ]
  },
  {
   "cell_type": "markdown",
   "id": "f6360b7b",
   "metadata": {},
   "source": [
    "## 18oct_2023"
   ]
  },
  {
   "cell_type": "code",
   "execution_count": 18,
   "id": "d859bd9f",
   "metadata": {},
   "outputs": [
    {
     "name": "stdout",
     "output_type": "stream",
     "text": [
      "python <class 'str'>\n"
     ]
    }
   ],
   "source": [
    "x='python'\n",
    "print(x, type(x))"
   ]
  },
  {
   "cell_type": "code",
   "execution_count": 20,
   "id": "20d0fdf4",
   "metadata": {},
   "outputs": [
    {
     "name": "stdout",
     "output_type": "stream",
     "text": [
      "['__add__', '__class__', '__contains__', '__delattr__', '__dir__', '__doc__', '__eq__', '__format__', '__ge__', '__getattribute__', '__getitem__', '__getnewargs__', '__getstate__', '__gt__', '__hash__', '__init__', '__init_subclass__', '__iter__', '__le__', '__len__', '__lt__', '__mod__', '__mul__', '__ne__', '__new__', '__reduce__', '__reduce_ex__', '__repr__', '__rmod__', '__rmul__', '__setattr__', '__sizeof__', '__str__', '__subclasshook__', 'capitalize', 'casefold', 'center', 'count', 'encode', 'endswith', 'expandtabs', 'find', 'format', 'format_map', 'index', 'isalnum', 'isalpha', 'isascii', 'isdecimal', 'isdigit', 'isidentifier', 'islower', 'isnumeric', 'isprintable', 'isspace', 'istitle', 'isupper', 'join', 'ljust', 'lower', 'lstrip', 'maketrans', 'partition', 'removeprefix', 'removesuffix', 'replace', 'rfind', 'rindex', 'rjust', 'rpartition', 'rsplit', 'rstrip', 'split', 'splitlines', 'startswith', 'strip', 'swapcase', 'title', 'translate', 'upper', 'zfill']\n"
     ]
    }
   ],
   "source": [
    "print(dir(x))"
   ]
  },
  {
   "cell_type": "code",
   "execution_count": 21,
   "id": "3a683439",
   "metadata": {},
   "outputs": [
    {
     "data": {
      "text/plain": [
       "'PYTHON'"
      ]
     },
     "execution_count": 21,
     "metadata": {},
     "output_type": "execute_result"
    }
   ],
   "source": [
    "x.upper() #converts to uppercase"
   ]
  },
  {
   "cell_type": "code",
   "execution_count": 24,
   "id": "77f8f29f",
   "metadata": {},
   "outputs": [
    {
     "data": {
      "text/plain": [
       "'fgjsdvbjhg'"
      ]
     },
     "execution_count": 24,
     "metadata": {},
     "output_type": "execute_result"
    }
   ],
   "source": [
    "x='fgjSdvbjhg'\n",
    "\n",
    "x.lower() #converts to lowercase"
   ]
  },
  {
   "cell_type": "markdown",
   "id": "cab60d52",
   "metadata": {},
   "source": [
    "### String methods"
   ]
  },
  {
   "cell_type": "code",
   "execution_count": 25,
   "id": "0fcdb80d",
   "metadata": {},
   "outputs": [],
   "source": [
    "a='kaccha papad pakka papad'"
   ]
  },
  {
   "cell_type": "markdown",
   "id": "e181b41d",
   "metadata": {},
   "source": [
    "#### Upper\n",
    "##### Strings are immutable"
   ]
  },
  {
   "cell_type": "code",
   "execution_count": 35,
   "id": "2672d113",
   "metadata": {},
   "outputs": [
    {
     "name": "stdout",
     "output_type": "stream",
     "text": [
      "kaccha papad pakka papad\n",
      "KACCHA PAPAD PAKKA PAPAD\n"
     ]
    }
   ],
   "source": [
    "print(a)\n",
    "au = a.upper()\n",
    "print(au)"
   ]
  },
  {
   "cell_type": "code",
   "execution_count": 36,
   "id": "9eded03c",
   "metadata": {},
   "outputs": [
    {
     "name": "stdout",
     "output_type": "stream",
     "text": [
      "4584451936\n",
      "4584834672\n"
     ]
    }
   ],
   "source": [
    "print(id(a))\n",
    "print(id(au)) #strings are immutable i.e. cannot be changed or modified"
   ]
  },
  {
   "cell_type": "markdown",
   "id": "4adb86b6",
   "metadata": {},
   "source": [
    "* strings are immutablde, the resulting strings from string methods have a new memory location\n",
    "* In order to use these strings, we need to reassign it to a variable"
   ]
  },
  {
   "cell_type": "markdown",
   "id": "39173043",
   "metadata": {},
   "source": [
    "#### Lower"
   ]
  },
  {
   "cell_type": "code",
   "execution_count": 37,
   "id": "884affb7",
   "metadata": {},
   "outputs": [
    {
     "name": "stdout",
     "output_type": "stream",
     "text": [
      "kaccha papad pakka papad\n"
     ]
    }
   ],
   "source": [
    "al= au.lower()\n",
    "print(al)"
   ]
  },
  {
   "cell_type": "markdown",
   "id": "22836584",
   "metadata": {},
   "source": [
    "#### Capitalize"
   ]
  },
  {
   "cell_type": "code",
   "execution_count": 40,
   "id": "05519ff9",
   "metadata": {},
   "outputs": [
    {
     "name": "stdout",
     "output_type": "stream",
     "text": [
      "Kaccha papad pakka papad\n"
     ]
    }
   ],
   "source": [
    "ac= al.capitalize()\n",
    "print(ac)"
   ]
  },
  {
   "cell_type": "markdown",
   "id": "c539a450",
   "metadata": {},
   "source": [
    "#### Title"
   ]
  },
  {
   "cell_type": "code",
   "execution_count": 41,
   "id": "3ff8e965",
   "metadata": {},
   "outputs": [
    {
     "name": "stdout",
     "output_type": "stream",
     "text": [
      "Kaccha Papad Pakka Papad\n"
     ]
    }
   ],
   "source": [
    "at= al.title()\n",
    "print(at) #every word starts with capital letter"
   ]
  },
  {
   "cell_type": "code",
   "execution_count": 42,
   "id": "44592031",
   "metadata": {},
   "outputs": [
    {
     "data": {
      "text/plain": [
       "'123Abs 567Ngchy'"
      ]
     },
     "execution_count": 42,
     "metadata": {},
     "output_type": "execute_result"
    }
   ],
   "source": [
    "'123Abs 567ngchy'.title()"
   ]
  },
  {
   "cell_type": "markdown",
   "id": "248a022d",
   "metadata": {},
   "source": [
    "#### Swapcase"
   ]
  },
  {
   "cell_type": "code",
   "execution_count": 45,
   "id": "41d8bc55",
   "metadata": {},
   "outputs": [
    {
     "data": {
      "text/plain": [
       "'kACCHA pAPAD pAKKA pAPAD'"
      ]
     },
     "execution_count": 45,
     "metadata": {},
     "output_type": "execute_result"
    }
   ],
   "source": [
    "asc= at.swapcase()\n",
    "asc"
   ]
  },
  {
   "cell_type": "markdown",
   "id": "4328b3d0",
   "metadata": {},
   "source": [
    "#### Casefold\n",
    "* casefold acts on unicode level and lower case acts on ascii level."
   ]
  },
  {
   "cell_type": "code",
   "execution_count": 46,
   "id": "ecc6ca44",
   "metadata": {},
   "outputs": [
    {
     "name": "stdout",
     "output_type": "stream",
     "text": [
      "german ss is ß\n",
      "german ss is ss\n"
     ]
    }
   ],
   "source": [
    "g = 'German ss is ß'\n",
    "print(g.lower())\n",
    "print(g.casefold())"
   ]
  },
  {
   "cell_type": "markdown",
   "id": "52fb161a",
   "metadata": {},
   "source": [
    "#### Task (C)"
   ]
  },
  {
   "cell_type": "code",
   "execution_count": 9,
   "id": "a71bcb84",
   "metadata": {},
   "outputs": [
    {
     "name": "stdout",
     "output_type": "stream",
     "text": [
      "lufituaeb\n",
      "beautifulday\n",
      "yduiue\n"
     ]
    }
   ],
   "source": [
    "a='beautiful'\n",
    "b='day'\n",
    "\n",
    "#reverse string\n",
    "print(a[::-1])\n",
    " \n",
    "#concatination of two strings\n",
    "c=a+b\n",
    "print(c)\n",
    "\n",
    "#\n",
    "print((c)[::-2])\n"
   ]
  },
  {
   "cell_type": "markdown",
   "id": "1d851d54",
   "metadata": {},
   "source": [
    "## 19oct_2023"
   ]
  },
  {
   "cell_type": "markdown",
   "id": "e2c53cf6",
   "metadata": {},
   "source": [
    "### Find"
   ]
  },
  {
   "cell_type": "code",
   "execution_count": 25,
   "id": "23c8026c",
   "metadata": {},
   "outputs": [
    {
     "name": "stdout",
     "output_type": "stream",
     "text": [
      "Help on built-in function find:\n",
      "\n",
      "find(...) method of builtins.str instance\n",
      "    S.find(sub[, start[, end]]) -> int\n",
      "    \n",
      "    Return the lowest index in S where substring sub is found,\n",
      "    such that sub is contained within S[start:end].  Optional\n",
      "    arguments start and end are interpreted as in slice notation.\n",
      "    \n",
      "    Return -1 on failure.\n",
      "\n"
     ]
    }
   ],
   "source": [
    "help(xl.find)"
   ]
  },
  {
   "cell_type": "code",
   "execution_count": 12,
   "id": "657b1cff",
   "metadata": {},
   "outputs": [
    {
     "data": {
      "text/plain": [
       "'Peter Piper picked a peck of pickled peppers.\\nA peck of pickled peppers Peter Piper picked.\\nIf Peter Piper picked a peck of pickled peppers,\\nWhere’s the peck of pickled peppers Peter Piper picked?'"
      ]
     },
     "execution_count": 12,
     "metadata": {},
     "output_type": "execute_result"
    }
   ],
   "source": [
    "xl= '''Peter Piper picked a peck of pickled peppers.\n",
    "A peck of pickled peppers Peter Piper picked.\n",
    "If Peter Piper picked a peck of pickled peppers,\n",
    "Where’s the peck of pickled peppers Peter Piper picked?'''\n",
    "xl"
   ]
  },
  {
   "cell_type": "code",
   "execution_count": 14,
   "id": "0ded2578",
   "metadata": {},
   "outputs": [
    {
     "data": {
      "text/plain": [
       "19"
      ]
     },
     "execution_count": 14,
     "metadata": {},
     "output_type": "execute_result"
    }
   ],
   "source": [
    "xl.find('a')"
   ]
  },
  {
   "cell_type": "code",
   "execution_count": 16,
   "id": "ec8600cb",
   "metadata": {},
   "outputs": [
    {
     "data": {
      "text/plain": [
       "114"
      ]
     },
     "execution_count": 16,
     "metadata": {},
     "output_type": "execute_result"
    }
   ],
   "source": [
    "xl.find('a',20)"
   ]
  },
  {
   "cell_type": "code",
   "execution_count": 17,
   "id": "8f7fb8f2",
   "metadata": {},
   "outputs": [
    {
     "data": {
      "text/plain": [
       "46"
      ]
     },
     "execution_count": 17,
     "metadata": {},
     "output_type": "execute_result"
    }
   ],
   "source": [
    "xl.find('A')"
   ]
  },
  {
   "cell_type": "markdown",
   "id": "81f976dc",
   "metadata": {},
   "source": [
    "### Count"
   ]
  },
  {
   "cell_type": "code",
   "execution_count": 20,
   "id": "11009f6e",
   "metadata": {},
   "outputs": [
    {
     "data": {
      "text/plain": [
       "'peter piper picked a peck of pickled peppers.\\na peck of pickled peppers peter piper picked.\\nif peter piper picked a peck of pickled peppers,\\nwhere’s the peck of pickled peppers peter piper picked?'"
      ]
     },
     "execution_count": 20,
     "metadata": {},
     "output_type": "execute_result"
    }
   ],
   "source": [
    "xr= xl.lower()\n",
    "xr"
   ]
  },
  {
   "cell_type": "code",
   "execution_count": 21,
   "id": "5d7cc1c9",
   "metadata": {},
   "outputs": [
    {
     "name": "stdout",
     "output_type": "stream",
     "text": [
      "Help on built-in function count:\n",
      "\n",
      "count(...) method of builtins.str instance\n",
      "    S.count(sub[, start[, end]]) -> int\n",
      "    \n",
      "    Return the number of non-overlapping occurrences of substring sub in\n",
      "    string S[start:end].  Optional arguments start and end are\n",
      "    interpreted as in slice notation.\n",
      "\n"
     ]
    }
   ],
   "source": [
    "help(xr.count)"
   ]
  },
  {
   "cell_type": "code",
   "execution_count": 22,
   "id": "b6d3c766",
   "metadata": {},
   "outputs": [
    {
     "data": {
      "text/plain": [
       "3"
      ]
     },
     "execution_count": 22,
     "metadata": {},
     "output_type": "execute_result"
    }
   ],
   "source": [
    "xr.count('a')"
   ]
  },
  {
   "cell_type": "code",
   "execution_count": 23,
   "id": "7317c44e",
   "metadata": {},
   "outputs": [
    {
     "data": {
      "text/plain": [
       "4"
      ]
     },
     "execution_count": 23,
     "metadata": {},
     "output_type": "execute_result"
    }
   ],
   "source": [
    "xr.count('peter')"
   ]
  },
  {
   "cell_type": "code",
   "execution_count": 24,
   "id": "34f349e5",
   "metadata": {},
   "outputs": [
    {
     "data": {
      "text/plain": [
       "2"
      ]
     },
     "execution_count": 24,
     "metadata": {},
     "output_type": "execute_result"
    }
   ],
   "source": [
    "xr.count('a',20)"
   ]
  },
  {
   "cell_type": "markdown",
   "id": "bc236454",
   "metadata": {},
   "source": [
    "### rfind \n",
    " * finds from right to left and doesnt come with negative indexing."
   ]
  },
  {
   "cell_type": "code",
   "execution_count": 26,
   "id": "ec138302",
   "metadata": {},
   "outputs": [
    {
     "name": "stdout",
     "output_type": "stream",
     "text": [
      "Help on method_descriptor:\n",
      "\n",
      "rfind(...)\n",
      "    S.rfind(sub[, start[, end]]) -> int\n",
      "    \n",
      "    Return the highest index in S where substring sub is found,\n",
      "    such that sub is contained within S[start:end].  Optional\n",
      "    arguments start and end are interpreted as in slice notation.\n",
      "    \n",
      "    Return -1 on failure.\n",
      "\n"
     ]
    }
   ],
   "source": [
    "help(str.rfind)"
   ]
  },
  {
   "cell_type": "code",
   "execution_count": 29,
   "id": "04fcdf69",
   "metadata": {},
   "outputs": [
    {
     "data": {
      "text/plain": [
       "114"
      ]
     },
     "execution_count": 29,
     "metadata": {},
     "output_type": "execute_result"
    }
   ],
   "source": [
    "xr.rfind('a') # gives first a from right side"
   ]
  },
  {
   "cell_type": "code",
   "execution_count": 28,
   "id": "866b7fe5",
   "metadata": {},
   "outputs": [
    {
     "data": {
      "text/plain": [
       "-1"
      ]
     },
     "execution_count": 28,
     "metadata": {},
     "output_type": "execute_result"
    }
   ],
   "source": [
    "xr.rfind('a',120,111) # -1 stands for not find "
   ]
  },
  {
   "cell_type": "code",
   "execution_count": 30,
   "id": "e512dcf4",
   "metadata": {},
   "outputs": [
    {
     "data": {
      "text/plain": [
       "7"
      ]
     },
     "execution_count": 30,
     "metadata": {},
     "output_type": "execute_result"
    }
   ],
   "source": [
    "'malayalam'.rfind('a',2)"
   ]
  },
  {
   "cell_type": "code",
   "execution_count": 32,
   "id": "cd6bf383",
   "metadata": {},
   "outputs": [
    {
     "data": {
      "text/plain": [
       "5"
      ]
     },
     "execution_count": 32,
     "metadata": {},
     "output_type": "execute_result"
    }
   ],
   "source": [
    "'malayalam'.rfind('a',2,7) # (what to find, starting point, ending point)"
   ]
  },
  {
   "cell_type": "markdown",
   "id": "dd9dc871",
   "metadata": {},
   "source": [
    "### Index()"
   ]
  },
  {
   "cell_type": "code",
   "execution_count": 36,
   "id": "59f1e432",
   "metadata": {},
   "outputs": [
    {
     "data": {
      "text/plain": [
       "(1, 3)"
      ]
     },
     "execution_count": 36,
     "metadata": {},
     "output_type": "execute_result"
    }
   ],
   "source": [
    "m = 'malayalam'\n",
    "m.find('a'), m.index('a',2,7) #gives index of a char of string, same as find"
   ]
  },
  {
   "cell_type": "code",
   "execution_count": 39,
   "id": "346c4f52",
   "metadata": {},
   "outputs": [],
   "source": [
    "#m.find('z'), m.index('z') #wen something is not present in the string, index gives error but find gives '-1'\n",
    "#uncomment to see the error"
   ]
  },
  {
   "cell_type": "markdown",
   "id": "aa38d7e0",
   "metadata": {},
   "source": [
    "### rindex()\n",
    "* tells index from right side"
   ]
  },
  {
   "cell_type": "code",
   "execution_count": 41,
   "id": "c2935ac7",
   "metadata": {},
   "outputs": [
    {
     "data": {
      "text/plain": [
       "7"
      ]
     },
     "execution_count": 41,
     "metadata": {},
     "output_type": "execute_result"
    }
   ],
   "source": [
    "m.rindex('a') #same as rfind, throws an error when a particular char is not there"
   ]
  },
  {
   "cell_type": "markdown",
   "id": "269ceb23",
   "metadata": {},
   "source": [
    "### Replace()\n"
   ]
  },
  {
   "cell_type": "code",
   "execution_count": 42,
   "id": "d0950510",
   "metadata": {},
   "outputs": [
    {
     "data": {
      "text/plain": [
       "'malayalam'"
      ]
     },
     "execution_count": 42,
     "metadata": {},
     "output_type": "execute_result"
    }
   ],
   "source": [
    "m"
   ]
  },
  {
   "cell_type": "code",
   "execution_count": 44,
   "id": "b4e28e0e",
   "metadata": {},
   "outputs": [
    {
     "name": "stdout",
     "output_type": "stream",
     "text": [
      "Help on built-in function replace:\n",
      "\n",
      "replace(old, new, count=-1, /) method of builtins.str instance\n",
      "    Return a copy with all occurrences of substring old replaced by new.\n",
      "    \n",
      "      count\n",
      "        Maximum number of occurrences to replace.\n",
      "        -1 (the default value) means replace all occurrences.\n",
      "    \n",
      "    If the optional argument count is given, only the first count occurrences are\n",
      "    replaced.\n",
      "\n"
     ]
    }
   ],
   "source": [
    "help(m.replace)"
   ]
  },
  {
   "cell_type": "code",
   "execution_count": 47,
   "id": "e4248f56",
   "metadata": {},
   "outputs": [
    {
     "data": {
      "text/plain": [
       "'MalayalaM'"
      ]
     },
     "execution_count": 47,
     "metadata": {},
     "output_type": "execute_result"
    }
   ],
   "source": [
    "m.replace('m','M') #all m's are replace"
   ]
  },
  {
   "cell_type": "code",
   "execution_count": 46,
   "id": "b853a0d8",
   "metadata": {},
   "outputs": [
    {
     "data": {
      "text/plain": [
       "'mAlAyalam'"
      ]
     },
     "execution_count": 46,
     "metadata": {},
     "output_type": "execute_result"
    }
   ],
   "source": [
    "m.replace('a','A',2) #first 2 a's asre replaced"
   ]
  },
  {
   "cell_type": "code",
   "execution_count": 48,
   "id": "4f8cba5a",
   "metadata": {},
   "outputs": [
    {
     "data": {
      "text/plain": [
       "'MalayalaM'"
      ]
     },
     "execution_count": 48,
     "metadata": {},
     "output_type": "execute_result"
    }
   ],
   "source": [
    "m[::-1].replace('m', 'M')"
   ]
  },
  {
   "cell_type": "code",
   "execution_count": 49,
   "id": "b33a3782",
   "metadata": {},
   "outputs": [
    {
     "data": {
      "text/plain": [
       "'Malayalam'"
      ]
     },
     "execution_count": 49,
     "metadata": {},
     "output_type": "execute_result"
    }
   ],
   "source": [
    "m[::-1].replace('m', 'M', 1)"
   ]
  },
  {
   "cell_type": "markdown",
   "id": "e05181f3",
   "metadata": {},
   "source": [
    "### Split()"
   ]
  },
  {
   "cell_type": "code",
   "execution_count": 50,
   "id": "8577d09d",
   "metadata": {},
   "outputs": [
    {
     "data": {
      "text/plain": [
       "'peter piper picked a peck of pickled peppers.\\na peck of pickled peppers peter piper picked.\\nif peter piper picked a peck of pickled peppers,\\nwhere’s the peck of pickled peppers peter piper picked?'"
      ]
     },
     "execution_count": 50,
     "metadata": {},
     "output_type": "execute_result"
    }
   ],
   "source": [
    "xr"
   ]
  },
  {
   "cell_type": "code",
   "execution_count": 54,
   "id": "ae35025d",
   "metadata": {},
   "outputs": [
    {
     "data": {
      "text/plain": [
       "['peter',\n",
       " 'piper',\n",
       " 'picked',\n",
       " 'a',\n",
       " 'peck',\n",
       " 'of',\n",
       " 'pickled',\n",
       " 'peppers.',\n",
       " 'a',\n",
       " 'peck',\n",
       " 'of',\n",
       " 'pickled',\n",
       " 'peppers',\n",
       " 'peter',\n",
       " 'piper',\n",
       " 'picked.',\n",
       " 'if',\n",
       " 'peter',\n",
       " 'piper',\n",
       " 'picked',\n",
       " 'a',\n",
       " 'peck',\n",
       " 'of',\n",
       " 'pickled',\n",
       " 'peppers,',\n",
       " 'where’s',\n",
       " 'the',\n",
       " 'peck',\n",
       " 'of',\n",
       " 'pickled',\n",
       " 'peppers',\n",
       " 'peter',\n",
       " 'piper',\n",
       " 'picked?']"
      ]
     },
     "execution_count": 54,
     "metadata": {},
     "output_type": "execute_result"
    }
   ],
   "source": [
    "xr.split() #splits the tring from each space gap"
   ]
  },
  {
   "cell_type": "code",
   "execution_count": 55,
   "id": "780e2747",
   "metadata": {},
   "outputs": [
    {
     "name": "stdout",
     "output_type": "stream",
     "text": [
      "Help on built-in function split:\n",
      "\n",
      "split(sep=None, maxsplit=-1) method of builtins.str instance\n",
      "    Return a list of the substrings in the string, using sep as the separator string.\n",
      "    \n",
      "      sep\n",
      "        The separator used to split the string.\n",
      "    \n",
      "        When set to None (the default value), will split on any whitespace\n",
      "        character (including \\\\n \\\\r \\\\t \\\\f and spaces) and will discard\n",
      "        empty strings from the result.\n",
      "      maxsplit\n",
      "        Maximum number of splits (starting from the left).\n",
      "        -1 (the default value) means no limit.\n",
      "    \n",
      "    Note, str.split() is mainly useful for data that has been intentionally\n",
      "    delimited.  With natural text that includes punctuation, consider using\n",
      "    the regular expression module.\n",
      "\n"
     ]
    }
   ],
   "source": [
    "help(xr.split)"
   ]
  },
  {
   "cell_type": "code",
   "execution_count": 60,
   "id": "1e369f09",
   "metadata": {},
   "outputs": [
    {
     "data": {
      "text/plain": [
       "['peter',\n",
       " 'piper',\n",
       " 'picked',\n",
       " 'a',\n",
       " 'peck',\n",
       " 'of pickled peppers.\\na peck of pickled peppers peter piper picked.\\nif peter piper picked a peck of pickled peppers,\\nwhere’s the peck of pickled peppers peter piper picked?']"
      ]
     },
     "execution_count": 60,
     "metadata": {},
     "output_type": "execute_result"
    }
   ],
   "source": [
    "xr.split(' ', 5) #splits from left side"
   ]
  },
  {
   "cell_type": "markdown",
   "id": "ef8e04f4",
   "metadata": {},
   "source": [
    "### rsplit()\n",
    "* splits from right, only shows when we give maxsplit"
   ]
  },
  {
   "cell_type": "code",
   "execution_count": 63,
   "id": "0973f7a6",
   "metadata": {},
   "outputs": [
    {
     "data": {
      "text/plain": [
       "['peter piper picked a peck of pickled peppers.\\na peck of pickled peppers peter piper picked.\\nif peter piper picked a peck of pickled peppers,\\nwhere’s the peck of pickled',\n",
       " 'peppers',\n",
       " 'peter',\n",
       " 'piper',\n",
       " 'picked?']"
      ]
     },
     "execution_count": 63,
     "metadata": {},
     "output_type": "execute_result"
    }
   ],
   "source": [
    "xr.rsplit(' ', 4) #splits from right side"
   ]
  },
  {
   "cell_type": "code",
   "execution_count": 64,
   "id": "8c9ba063",
   "metadata": {},
   "outputs": [
    {
     "data": {
      "text/plain": [
       "['how are', 'you', '?']"
      ]
     },
     "execution_count": 64,
     "metadata": {},
     "output_type": "execute_result"
    }
   ],
   "source": [
    "'how are you ?'.rsplit(' ',2)"
   ]
  },
  {
   "cell_type": "code",
   "execution_count": 65,
   "id": "202e3bde",
   "metadata": {},
   "outputs": [
    {
     "data": {
      "text/plain": [
       "['how', 'are', 'you ?']"
      ]
     },
     "execution_count": 65,
     "metadata": {},
     "output_type": "execute_result"
    }
   ],
   "source": [
    "'how are you ?'.split(' ',2)"
   ]
  },
  {
   "cell_type": "markdown",
   "id": "3e9a4803",
   "metadata": {},
   "source": [
    "### Partition(), rpartition()"
   ]
  },
  {
   "cell_type": "code",
   "execution_count": 66,
   "id": "731c15b8",
   "metadata": {},
   "outputs": [
    {
     "data": {
      "text/plain": [
       "'peter piper picked a peck of pickled peppers.\\na peck of pickled peppers peter piper picked.\\nif peter piper picked a peck of pickled peppers,\\nwhere’s the peck of pickled peppers peter piper picked?'"
      ]
     },
     "execution_count": 66,
     "metadata": {},
     "output_type": "execute_result"
    }
   ],
   "source": [
    "xr"
   ]
  },
  {
   "cell_type": "code",
   "execution_count": 67,
   "id": "2b38c185",
   "metadata": {},
   "outputs": [
    {
     "data": {
      "text/plain": [
       "('Peter',\n",
       " ' ',\n",
       " 'Piper picked a peck of pickled peppers.\\nA peck of pickled peppers Peter Piper picked.\\nIf Peter Piper picked a peck of pickled peppers,\\nWhere’s the peck of pickled peppers Peter Piper picked?')"
      ]
     },
     "execution_count": 67,
     "metadata": {},
     "output_type": "execute_result"
    }
   ],
   "source": [
    "xl.partition(' ')"
   ]
  },
  {
   "cell_type": "code",
   "execution_count": 68,
   "id": "696dc7c9",
   "metadata": {},
   "outputs": [
    {
     "data": {
      "text/plain": [
       "'malayalam'"
      ]
     },
     "execution_count": 68,
     "metadata": {},
     "output_type": "execute_result"
    }
   ],
   "source": [
    "m"
   ]
  },
  {
   "cell_type": "code",
   "execution_count": 69,
   "id": "c517110d",
   "metadata": {},
   "outputs": [
    {
     "data": {
      "text/plain": [
       "['m', 'l', 'y', 'l', 'm']"
      ]
     },
     "execution_count": 69,
     "metadata": {},
     "output_type": "execute_result"
    }
   ],
   "source": [
    "m.split('a') # a is not in the result"
   ]
  },
  {
   "cell_type": "code",
   "execution_count": 73,
   "id": "62ecddc8",
   "metadata": {},
   "outputs": [
    {
     "data": {
      "text/plain": [
       "(('m', 'a', 'layalam'), ('mala', 'y', 'alam'))"
      ]
     },
     "execution_count": 73,
     "metadata": {},
     "output_type": "execute_result"
    }
   ],
   "source": [
    "m.partition('a'), m.partition('y') # a, y is included and rest is patitioned"
   ]
  },
  {
   "cell_type": "code",
   "execution_count": 74,
   "id": "58baf60a",
   "metadata": {},
   "outputs": [
    {
     "data": {
      "text/plain": [
       "('malayalam', '', '')"
      ]
     },
     "execution_count": 74,
     "metadata": {},
     "output_type": "execute_result"
    }
   ],
   "source": [
    "m.partition('z') #gives empty strings, always gives 3 partition"
   ]
  },
  {
   "cell_type": "code",
   "execution_count": 76,
   "id": "7bde7828",
   "metadata": {},
   "outputs": [
    {
     "data": {
      "text/plain": [
       "'malayalam'"
      ]
     },
     "execution_count": 76,
     "metadata": {},
     "output_type": "execute_result"
    }
   ],
   "source": [
    "m.partition('z')[0]+ m.partition('z')[1]+ m.partition('z')[2] # when you concatinate the parted strings \n",
    "#it will always give the original string #[0],[1],[2] are result strings above "
   ]
  },
  {
   "cell_type": "code",
   "execution_count": 77,
   "id": "1ecbcc0d",
   "metadata": {},
   "outputs": [
    {
     "data": {
      "text/plain": [
       "('malayal', 'a', 'm')"
      ]
     },
     "execution_count": 77,
     "metadata": {},
     "output_type": "execute_result"
    }
   ],
   "source": [
    "m.rpartition('a') # gives partition from right"
   ]
  },
  {
   "cell_type": "code",
   "execution_count": 78,
   "id": "98cdb38b",
   "metadata": {},
   "outputs": [
    {
     "data": {
      "text/plain": [
       "('', '', 'malayalam')"
      ]
     },
     "execution_count": 78,
     "metadata": {},
     "output_type": "execute_result"
    }
   ],
   "source": [
    "m.rpartition('z')"
   ]
  },
  {
   "cell_type": "markdown",
   "id": "a68f7b52",
   "metadata": {},
   "source": [
    "### Splitlines()"
   ]
  },
  {
   "cell_type": "code",
   "execution_count": 79,
   "id": "ca413573",
   "metadata": {},
   "outputs": [
    {
     "name": "stdout",
     "output_type": "stream",
     "text": [
      "Help on method_descriptor:\n",
      "\n",
      "splitlines(self, /, keepends=False)\n",
      "    Return a list of the lines in the string, breaking at line boundaries.\n",
      "    \n",
      "    Line breaks are not included in the resulting list unless keepends is given and\n",
      "    true.\n",
      "\n"
     ]
    }
   ],
   "source": [
    "help(str.splitlines)"
   ]
  },
  {
   "cell_type": "code",
   "execution_count": 80,
   "id": "505705d9",
   "metadata": {},
   "outputs": [
    {
     "data": {
      "text/plain": [
       "'peter piper picked a peck of pickled peppers.\\na peck of pickled peppers peter piper picked.\\nif peter piper picked a peck of pickled peppers,\\nwhere’s the peck of pickled peppers peter piper picked?'"
      ]
     },
     "execution_count": 80,
     "metadata": {},
     "output_type": "execute_result"
    }
   ],
   "source": [
    "xr"
   ]
  },
  {
   "cell_type": "code",
   "execution_count": 83,
   "id": "1faad092",
   "metadata": {},
   "outputs": [
    {
     "data": {
      "text/plain": [
       "['peter piper picked a peck of pickled peppers.',\n",
       " 'a peck of pickled peppers peter piper picked.',\n",
       " 'if peter piper picked a peck of pickled peppers,',\n",
       " 'where’s the peck of pickled peppers peter piper picked?']"
      ]
     },
     "execution_count": 83,
     "metadata": {},
     "output_type": "execute_result"
    }
   ],
   "source": [
    "xr.split('\\n')"
   ]
  },
  {
   "cell_type": "code",
   "execution_count": 89,
   "id": "661404ed",
   "metadata": {},
   "outputs": [
    {
     "data": {
      "text/plain": [
       "['peter piper picked a peck of pickled peppers.',\n",
       " 'a peck of pickled peppers peter piper picked.',\n",
       " 'if peter piper picked a peck of pickled peppers,',\n",
       " 'where’s the peck of pickled peppers peter piper picked?']"
      ]
     },
     "execution_count": 89,
     "metadata": {},
     "output_type": "execute_result"
    }
   ],
   "source": [
    "xr.splitlines()"
   ]
  },
  {
   "cell_type": "code",
   "execution_count": 85,
   "id": "9aa176f1",
   "metadata": {},
   "outputs": [
    {
     "data": {
      "text/plain": [
       "'peter piper picked a peck of pickled peppers.\\na peck of pickled peppers peter piper picked.\\nif peter piper picked a peck of pickled peppers,\\nwhere’s the peck of pickled peppers peter piper picked?'"
      ]
     },
     "execution_count": 85,
     "metadata": {},
     "output_type": "execute_result"
    }
   ],
   "source": [
    "xr"
   ]
  },
  {
   "cell_type": "code",
   "execution_count": 87,
   "id": "4d0034a6",
   "metadata": {},
   "outputs": [
    {
     "data": {
      "text/plain": [
       "str"
      ]
     },
     "execution_count": 87,
     "metadata": {},
     "output_type": "execute_result"
    }
   ],
   "source": [
    "str"
   ]
  },
  {
   "cell_type": "markdown",
   "id": "8f77fe25",
   "metadata": {},
   "source": [
    "## 20oct_2023"
   ]
  },
  {
   "cell_type": "markdown",
   "id": "dc45ce5b",
   "metadata": {},
   "source": [
    "### Center"
   ]
  },
  {
   "cell_type": "code",
   "execution_count": 1,
   "id": "fe904da6",
   "metadata": {},
   "outputs": [
    {
     "data": {
      "text/plain": [
       "'malayalam'"
      ]
     },
     "execution_count": 1,
     "metadata": {},
     "output_type": "execute_result"
    }
   ],
   "source": [
    "m = 'malayalam'\n",
    "m"
   ]
  },
  {
   "cell_type": "code",
   "execution_count": 2,
   "id": "86b7f0d0",
   "metadata": {},
   "outputs": [
    {
     "data": {
      "text/plain": [
       "'*****malayalam******'"
      ]
     },
     "execution_count": 2,
     "metadata": {},
     "output_type": "execute_result"
    }
   ],
   "source": [
    "m.center(20,'*') #you can only give one char with cdentre *"
   ]
  },
  {
   "cell_type": "code",
   "execution_count": 3,
   "id": "5e1d20da",
   "metadata": {},
   "outputs": [
    {
     "ename": "TypeError",
     "evalue": "The fill character must be exactly one character long",
     "output_type": "error",
     "traceback": [
      "\u001b[0;31m---------------------------------------------------------------------------\u001b[0m",
      "\u001b[0;31mTypeError\u001b[0m                                 Traceback (most recent call last)",
      "Cell \u001b[0;32mIn[3], line 1\u001b[0m\n\u001b[0;32m----> 1\u001b[0m m\u001b[38;5;241m.\u001b[39mcenter(\u001b[38;5;241m20\u001b[39m,\u001b[38;5;124m'\u001b[39m\u001b[38;5;124m*#\u001b[39m\u001b[38;5;124m'\u001b[39m)\n",
      "\u001b[0;31mTypeError\u001b[0m: The fill character must be exactly one character long"
     ]
    }
   ],
   "source": [
    "m.center(20,'*#') #gives n error with more than 1 char"
   ]
  },
  {
   "cell_type": "code",
   "execution_count": 9,
   "id": "d707277d",
   "metadata": {},
   "outputs": [
    {
     "data": {
      "text/plain": [
       "'---------------------malayalam---------------------'"
      ]
     },
     "execution_count": 9,
     "metadata": {},
     "output_type": "execute_result"
    }
   ],
   "source": [
    "m.center(51,'-') #whatever number we give it includes it with the word which has to be in center"
   ]
  },
  {
   "cell_type": "code",
   "execution_count": 10,
   "id": "9091fbc1",
   "metadata": {},
   "outputs": [
    {
     "data": {
      "text/plain": [
       "'malayalam'"
      ]
     },
     "execution_count": 10,
     "metadata": {},
     "output_type": "execute_result"
    }
   ],
   "source": [
    "m.center(5,'*') #if number is less than the whole string, it gives string only"
   ]
  },
  {
   "cell_type": "markdown",
   "id": "51d35faa",
   "metadata": {},
   "source": [
    "### ljust"
   ]
  },
  {
   "cell_type": "code",
   "execution_count": 11,
   "id": "045eeac1",
   "metadata": {},
   "outputs": [
    {
     "data": {
      "text/plain": [
       "'malayalam           '"
      ]
     },
     "execution_count": 11,
     "metadata": {},
     "output_type": "execute_result"
    }
   ],
   "source": [
    "m.ljust(20) #if no char is given by default it considers space, adjusts the string to the left of margin"
   ]
  },
  {
   "cell_type": "code",
   "execution_count": 12,
   "id": "92ebbab9",
   "metadata": {},
   "outputs": [
    {
     "data": {
      "text/plain": [
       "'malayalam***********'"
      ]
     },
     "execution_count": 12,
     "metadata": {},
     "output_type": "execute_result"
    }
   ],
   "source": [
    "m.ljust(20,'*') #wen char is given"
   ]
  },
  {
   "cell_type": "markdown",
   "id": "f0d8a251",
   "metadata": {},
   "source": [
    "### rjust"
   ]
  },
  {
   "cell_type": "code",
   "execution_count": 13,
   "id": "48348e3d",
   "metadata": {},
   "outputs": [
    {
     "data": {
      "text/plain": [
       "'           malayalam'"
      ]
     },
     "execution_count": 13,
     "metadata": {},
     "output_type": "execute_result"
    }
   ],
   "source": [
    "m.rjust(20) #same as ijust but string goes to right side"
   ]
  },
  {
   "cell_type": "code",
   "execution_count": 16,
   "id": "06d28b8f",
   "metadata": {},
   "outputs": [
    {
     "data": {
      "text/plain": [
       "'----------------------malayalam'"
      ]
     },
     "execution_count": 16,
     "metadata": {},
     "output_type": "execute_result"
    }
   ],
   "source": [
    "m.rjust(31,'-')"
   ]
  },
  {
   "cell_type": "markdown",
   "id": "c08ff49f",
   "metadata": {},
   "source": [
    "### zfill"
   ]
  },
  {
   "cell_type": "code",
   "execution_count": 19,
   "id": "5a5e48b2",
   "metadata": {},
   "outputs": [
    {
     "data": {
      "text/plain": [
       "'00000000000malayalam'"
      ]
     },
     "execution_count": 19,
     "metadata": {},
     "output_type": "execute_result"
    }
   ],
   "source": [
    "m.zfill(20) #all the zeros will be on the left side and string will be in right side\n",
    "#fills with zero on the left only"
   ]
  },
  {
   "cell_type": "markdown",
   "id": "db00388f",
   "metadata": {},
   "source": [
    "### Strip"
   ]
  },
  {
   "cell_type": "code",
   "execution_count": 20,
   "id": "4763c0a0",
   "metadata": {},
   "outputs": [
    {
     "data": {
      "text/plain": [
       "'!@#malayalam#@!'"
      ]
     },
     "execution_count": 20,
     "metadata": {},
     "output_type": "execute_result"
    }
   ],
   "source": [
    "a = '!@#' + m + '#@!'\n",
    "a"
   ]
  },
  {
   "cell_type": "code",
   "execution_count": 21,
   "id": "8f638d43",
   "metadata": {},
   "outputs": [],
   "source": [
    "mc, ms = m.center(20), m.center(20,'*')"
   ]
  },
  {
   "cell_type": "code",
   "execution_count": 22,
   "id": "1d96ba5a",
   "metadata": {},
   "outputs": [
    {
     "data": {
      "text/plain": [
       "('     malayalam      ', '*****malayalam******')"
      ]
     },
     "execution_count": 22,
     "metadata": {},
     "output_type": "execute_result"
    }
   ],
   "source": [
    "mc , ms"
   ]
  },
  {
   "cell_type": "code",
   "execution_count": 23,
   "id": "0a4fd55d",
   "metadata": {},
   "outputs": [
    {
     "data": {
      "text/plain": [
       "'malayalam'"
      ]
     },
     "execution_count": 23,
     "metadata": {},
     "output_type": "execute_result"
    }
   ],
   "source": [
    "mc.strip() #it removes white spaces by default"
   ]
  },
  {
   "cell_type": "code",
   "execution_count": 26,
   "id": "712e644c",
   "metadata": {},
   "outputs": [
    {
     "data": {
      "text/plain": [
       "'malayalam'"
      ]
     },
     "execution_count": 26,
     "metadata": {},
     "output_type": "execute_result"
    }
   ],
   "source": [
    "ms.strip('*') #if any char is given the it strips it from the sides of string"
   ]
  },
  {
   "cell_type": "code",
   "execution_count": 27,
   "id": "d707f2c6",
   "metadata": {},
   "outputs": [
    {
     "data": {
      "text/plain": [
       "'!@#malayalam#@!'"
      ]
     },
     "execution_count": 27,
     "metadata": {},
     "output_type": "execute_result"
    }
   ],
   "source": [
    "a.strip() #nothing happened bcz no white space in the string"
   ]
  },
  {
   "cell_type": "code",
   "execution_count": 28,
   "id": "c57fa72c",
   "metadata": {},
   "outputs": [
    {
     "data": {
      "text/plain": [
       "'@#malayalam#@'"
      ]
     },
     "execution_count": 28,
     "metadata": {},
     "output_type": "execute_result"
    }
   ],
   "source": [
    "a.strip('!')"
   ]
  },
  {
   "cell_type": "code",
   "execution_count": 29,
   "id": "91cb0cbf",
   "metadata": {},
   "outputs": [
    {
     "data": {
      "text/plain": [
       "'#malayalam#'"
      ]
     },
     "execution_count": 29,
     "metadata": {},
     "output_type": "execute_result"
    }
   ],
   "source": [
    "a.strip('!@') # it removes from both the sides bcz order doesnt matter, it doesnt look for string, only looks for char"
   ]
  },
  {
   "cell_type": "code",
   "execution_count": 31,
   "id": "d1463df8",
   "metadata": {},
   "outputs": [
    {
     "data": {
      "text/plain": [
       "'malayalam'"
      ]
     },
     "execution_count": 31,
     "metadata": {},
     "output_type": "execute_result"
    }
   ],
   "source": [
    "a.strip('@!#') #same reason"
   ]
  },
  {
   "cell_type": "code",
   "execution_count": 35,
   "id": "50d758b4",
   "metadata": {},
   "outputs": [
    {
     "data": {
      "text/plain": [
       "'!@#malayalam#^@!'"
      ]
     },
     "execution_count": 35,
     "metadata": {},
     "output_type": "execute_result"
    }
   ],
   "source": [
    "aa = a[:-2] + '^' + a[-2:]\n",
    "aa"
   ]
  },
  {
   "cell_type": "code",
   "execution_count": 37,
   "id": "06260885",
   "metadata": {},
   "outputs": [
    {
     "data": {
      "text/plain": [
       "'malayalam#^'"
      ]
     },
     "execution_count": 37,
     "metadata": {},
     "output_type": "execute_result"
    }
   ],
   "source": [
    "aa.strip('!@#$%') #if gioven char are in left and right it removes it, wen finds diff char it stops"
   ]
  },
  {
   "cell_type": "code",
   "execution_count": 38,
   "id": "12a0a8f1",
   "metadata": {},
   "outputs": [
    {
     "data": {
      "text/plain": [
       "' !@#malayalam#^@! '"
      ]
     },
     "execution_count": 38,
     "metadata": {},
     "output_type": "execute_result"
    }
   ],
   "source": [
    "aa = ' ' + a[:-2] + '^' + a[-2:] + ' '\n",
    "aa"
   ]
  },
  {
   "cell_type": "code",
   "execution_count": 39,
   "id": "17b75942",
   "metadata": {},
   "outputs": [
    {
     "data": {
      "text/plain": [
       "' !@#malayalam#^@! '"
      ]
     },
     "execution_count": 39,
     "metadata": {},
     "output_type": "execute_result"
    }
   ],
   "source": [
    "aa.strip('!@#$') #doesnt remove anything bcz first char is space whicgh is not matching the given char to be stripped"
   ]
  },
  {
   "cell_type": "markdown",
   "id": "2d165b07",
   "metadata": {},
   "source": [
    "### lstrip and rstrip\n",
    "\n",
    "* removes given char from left and right side of a string, removes white spaces by default."
   ]
  },
  {
   "cell_type": "code",
   "execution_count": 41,
   "id": "eae4eba4",
   "metadata": {},
   "outputs": [
    {
     "data": {
      "text/plain": [
       "'#malayalam#^@! '"
      ]
     },
     "execution_count": 41,
     "metadata": {},
     "output_type": "execute_result"
    }
   ],
   "source": [
    "aa.lstrip(' @!') # removes the given char from left side of the given string"
   ]
  },
  {
   "cell_type": "code",
   "execution_count": 43,
   "id": "f295d1e3",
   "metadata": {},
   "outputs": [
    {
     "data": {
      "text/plain": [
       "'  hello how is life going. '"
      ]
     },
     "execution_count": 43,
     "metadata": {},
     "output_type": "execute_result"
    }
   ],
   "source": [
    "p = '  hello how is life going. '\n",
    "p"
   ]
  },
  {
   "cell_type": "code",
   "execution_count": 44,
   "id": "3dcc4b1b",
   "metadata": {},
   "outputs": [
    {
     "data": {
      "text/plain": [
       "'hello how is life going. '"
      ]
     },
     "execution_count": 44,
     "metadata": {},
     "output_type": "execute_result"
    }
   ],
   "source": [
    "p.lstrip() #removes white space from the left by default"
   ]
  },
  {
   "cell_type": "code",
   "execution_count": 45,
   "id": "0da40f68",
   "metadata": {},
   "outputs": [
    {
     "data": {
      "text/plain": [
       "'w is life going. '"
      ]
     },
     "execution_count": 45,
     "metadata": {},
     "output_type": "execute_result"
    }
   ],
   "source": [
    "p.lstrip(' hello')"
   ]
  },
  {
   "cell_type": "code",
   "execution_count": 46,
   "id": "5dc241f5",
   "metadata": {},
   "outputs": [
    {
     "data": {
      "text/plain": [
       "'  hello how is life going.'"
      ]
     },
     "execution_count": 46,
     "metadata": {},
     "output_type": "execute_result"
    }
   ],
   "source": [
    "p.rstrip() #by default it strips space from right"
   ]
  },
  {
   "cell_type": "code",
   "execution_count": 48,
   "id": "d3c8b1ef",
   "metadata": {},
   "outputs": [
    {
     "data": {
      "text/plain": [
       "'  hello how is life goin'"
      ]
     },
     "execution_count": 48,
     "metadata": {},
     "output_type": "execute_result"
    }
   ],
   "source": [
    "p.rstrip(' .g')"
   ]
  },
  {
   "cell_type": "code",
   "execution_count": 49,
   "id": "1057e1eb",
   "metadata": {},
   "outputs": [
    {
     "data": {
      "text/plain": [
       "'  hello how is life going. '"
      ]
     },
     "execution_count": 49,
     "metadata": {},
     "output_type": "execute_result"
    }
   ],
   "source": [
    "p.rstrip('@#') #nothing will happen bcz char is not matching to the string which is to be removed, "
   ]
  },
  {
   "cell_type": "markdown",
   "id": "6db5a497",
   "metadata": {},
   "source": [
    "### Join"
   ]
  },
  {
   "cell_type": "code",
   "execution_count": 53,
   "id": "bca3b054",
   "metadata": {},
   "outputs": [
    {
     "data": {
      "text/plain": [
       "'a-b-c'"
      ]
     },
     "execution_count": 53,
     "metadata": {},
     "output_type": "execute_result"
    }
   ],
   "source": [
    "'-'.join(['a','b','c']) #joins the strip, list and touple"
   ]
  },
  {
   "cell_type": "code",
   "execution_count": 54,
   "id": "2b6ac083",
   "metadata": {},
   "outputs": [
    {
     "data": {
      "text/plain": [
       "'gravity high'"
      ]
     },
     "execution_count": 54,
     "metadata": {},
     "output_type": "execute_result"
    }
   ],
   "source": [
    "' '.join(['gravity','high']) #joins by space"
   ]
  },
  {
   "cell_type": "code",
   "execution_count": 55,
   "id": "0102e35d",
   "metadata": {},
   "outputs": [
    {
     "data": {
      "text/plain": [
       "'s8t8r8i8n8g'"
      ]
     },
     "execution_count": 55,
     "metadata": {},
     "output_type": "execute_result"
    }
   ],
   "source": [
    "'8'.join('string')"
   ]
  },
  {
   "cell_type": "code",
   "execution_count": 56,
   "id": "712383bb",
   "metadata": {},
   "outputs": [
    {
     "data": {
      "text/plain": [
       "'*!a!Q'"
      ]
     },
     "execution_count": 56,
     "metadata": {},
     "output_type": "execute_result"
    }
   ],
   "source": [
    "y=['*','a','Q']\n",
    "'!'.join(y)"
   ]
  },
  {
   "cell_type": "code",
   "execution_count": 60,
   "id": "2b2940e4",
   "metadata": {},
   "outputs": [
    {
     "data": {
      "text/plain": [
       "['jai', 'mata', 'di']"
      ]
     },
     "execution_count": 60,
     "metadata": {},
     "output_type": "execute_result"
    }
   ],
   "source": [
    "z = 'jai mata di'\n",
    "y = z.split()\n",
    "y"
   ]
  },
  {
   "cell_type": "code",
   "execution_count": 61,
   "id": "6bb8aef7",
   "metadata": {},
   "outputs": [
    {
     "data": {
      "text/plain": [
       "'jai**mata**di'"
      ]
     },
     "execution_count": 61,
     "metadata": {},
     "output_type": "execute_result"
    }
   ],
   "source": [
    "'**'.join(y)"
   ]
  },
  {
   "cell_type": "code",
   "execution_count": 68,
   "id": "6e4d46b5",
   "metadata": {},
   "outputs": [
    {
     "data": {
      "text/plain": [
       "'JAI**MATA**DI'"
      ]
     },
     "execution_count": 68,
     "metadata": {},
     "output_type": "execute_result"
    }
   ],
   "source": [
    "'**'.join(z.split()).center(31,'-').upper().strip('-')"
   ]
  },
  {
   "cell_type": "markdown",
   "id": "b3c48b94",
   "metadata": {},
   "source": [
    "## task for holiday(strings for boolean)"
   ]
  },
  {
   "cell_type": "code",
   "execution_count": 69,
   "id": "27b88e01",
   "metadata": {},
   "outputs": [
    {
     "data": {
      "text/plain": [
       "True"
      ]
     },
     "execution_count": 69,
     "metadata": {},
     "output_type": "execute_result"
    }
   ],
   "source": [
    "'ABC'.isupper()"
   ]
  },
  {
   "cell_type": "code",
   "execution_count": 73,
   "id": "5d2a9d72",
   "metadata": {},
   "outputs": [
    {
     "data": {
      "text/plain": [
       "False"
      ]
     },
     "execution_count": 73,
     "metadata": {},
     "output_type": "execute_result"
    }
   ],
   "source": [
    "'A BC'.islower() #only checks alphabret"
   ]
  },
  {
   "cell_type": "code",
   "execution_count": 72,
   "id": "e0b04d33",
   "metadata": {},
   "outputs": [
    {
     "data": {
      "text/plain": [
       "True"
      ]
     },
     "execution_count": 72,
     "metadata": {},
     "output_type": "execute_result"
    }
   ],
   "source": [
    "'A BC!'.isupper() #is only checks an alphabdet"
   ]
  },
  {
   "cell_type": "code",
   "execution_count": 75,
   "id": "685ad004",
   "metadata": {},
   "outputs": [
    {
     "data": {
      "text/plain": [
       "False"
      ]
     },
     "execution_count": 75,
     "metadata": {},
     "output_type": "execute_result"
    }
   ],
   "source": [
    "'A BCz'.islower() #not all alphabet are lowercase"
   ]
  },
  {
   "cell_type": "code",
   "execution_count": 76,
   "id": "c5afabea",
   "metadata": {},
   "outputs": [
    {
     "data": {
      "text/plain": [
       "True"
      ]
     },
     "execution_count": 76,
     "metadata": {},
     "output_type": "execute_result"
    }
   ],
   "source": [
    "'A BC z!'.startswith('A')"
   ]
  },
  {
   "cell_type": "code",
   "execution_count": 77,
   "id": "15eaee37",
   "metadata": {},
   "outputs": [
    {
     "data": {
      "text/plain": [
       "False"
      ]
     },
     "execution_count": 77,
     "metadata": {},
     "output_type": "execute_result"
    }
   ],
   "source": [
    "'A BC z!'.startswith('ABC')"
   ]
  },
  {
   "cell_type": "code",
   "execution_count": 78,
   "id": "93c9573e",
   "metadata": {},
   "outputs": [
    {
     "data": {
      "text/plain": [
       "True"
      ]
     },
     "execution_count": 78,
     "metadata": {},
     "output_type": "execute_result"
    }
   ],
   "source": [
    "'A BC z!'.startswith('A ')"
   ]
  },
  {
   "cell_type": "code",
   "execution_count": 79,
   "id": "30c8db88",
   "metadata": {},
   "outputs": [
    {
     "data": {
      "text/plain": [
       "False"
      ]
     },
     "execution_count": 79,
     "metadata": {},
     "output_type": "execute_result"
    }
   ],
   "source": [
    "'5.5'.isdecimal()"
   ]
  },
  {
   "cell_type": "code",
   "execution_count": 82,
   "id": "e19a3fc1",
   "metadata": {},
   "outputs": [
    {
     "data": {
      "text/plain": [
       "['__add__',\n",
       " '__class__',\n",
       " '__contains__',\n",
       " '__delattr__',\n",
       " '__dir__',\n",
       " '__doc__',\n",
       " '__eq__',\n",
       " '__format__',\n",
       " '__ge__',\n",
       " '__getattribute__',\n",
       " '__getitem__',\n",
       " '__getnewargs__',\n",
       " '__getstate__',\n",
       " '__gt__',\n",
       " '__hash__',\n",
       " '__init__',\n",
       " '__init_subclass__',\n",
       " '__iter__',\n",
       " '__le__',\n",
       " '__len__',\n",
       " '__lt__',\n",
       " '__mod__',\n",
       " '__mul__',\n",
       " '__ne__',\n",
       " '__new__',\n",
       " '__reduce__',\n",
       " '__reduce_ex__',\n",
       " '__repr__',\n",
       " '__rmod__',\n",
       " '__rmul__',\n",
       " '__setattr__',\n",
       " '__sizeof__',\n",
       " '__str__',\n",
       " '__subclasshook__',\n",
       " 'capitalize',\n",
       " 'casefold',\n",
       " 'center',\n",
       " 'count',\n",
       " 'encode',\n",
       " 'endswith',\n",
       " 'expandtabs',\n",
       " 'find',\n",
       " 'format',\n",
       " 'format_map',\n",
       " 'index',\n",
       " 'isalnum',\n",
       " 'isalpha',\n",
       " 'isascii',\n",
       " 'isdecimal',\n",
       " 'isdigit',\n",
       " 'isidentifier',\n",
       " 'islower',\n",
       " 'isnumeric',\n",
       " 'isprintable',\n",
       " 'isspace',\n",
       " 'istitle',\n",
       " 'isupper',\n",
       " 'join',\n",
       " 'ljust',\n",
       " 'lower',\n",
       " 'lstrip',\n",
       " 'maketrans',\n",
       " 'partition',\n",
       " 'removeprefix',\n",
       " 'removesuffix',\n",
       " 'replace',\n",
       " 'rfind',\n",
       " 'rindex',\n",
       " 'rjust',\n",
       " 'rpartition',\n",
       " 'rsplit',\n",
       " 'rstrip',\n",
       " 'split',\n",
       " 'splitlines',\n",
       " 'startswith',\n",
       " 'strip',\n",
       " 'swapcase',\n",
       " 'title',\n",
       " 'translate',\n",
       " 'upper',\n",
       " 'zfill']"
      ]
     },
     "execution_count": 82,
     "metadata": {},
     "output_type": "execute_result"
    }
   ],
   "source": [
    "dir(str)"
   ]
  },
  {
   "cell_type": "code",
   "execution_count": null,
   "id": "131a85e4",
   "metadata": {},
   "outputs": [],
   "source": []
  }
 ],
 "metadata": {
  "kernelspec": {
   "display_name": "Python 3 (ipykernel)",
   "language": "python",
   "name": "python3"
  },
  "language_info": {
   "codemirror_mode": {
    "name": "ipython",
    "version": 3
   },
   "file_extension": ".py",
   "mimetype": "text/x-python",
   "name": "python",
   "nbconvert_exporter": "python",
   "pygments_lexer": "ipython3",
   "version": "3.11.5"
  }
 },
 "nbformat": 4,
 "nbformat_minor": 5
}
