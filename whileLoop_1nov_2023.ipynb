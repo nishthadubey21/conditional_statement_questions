{
 "cells": [
  {
   "cell_type": "markdown",
   "id": "2507fbba",
   "metadata": {},
   "source": [
    "# Loops"
   ]
  },
  {
   "cell_type": "markdown",
   "id": "91034d93",
   "metadata": {},
   "source": [
    "### While Loop\n",
    "* while statement is a looping statement which works on a condition, if the condition output is true, till the condition turns out to be false\n",
    "* Note: Normally a while loop will have a block of code, which will eventually makes the conditional statement as false"
   ]
  },
  {
   "cell_type": "code",
   "execution_count": 1,
   "id": "dbf88ab4",
   "metadata": {},
   "outputs": [
    {
     "name": "stdout",
     "output_type": "stream",
     "text": [
      "enter an integer: 13\n",
      "14\n",
      "15\n",
      "16\n",
      "17\n",
      "18\n",
      "19\n",
      "20\n",
      "21\n",
      "22\n",
      "23\n"
     ]
    }
   ],
   "source": [
    "#print next 10 numbers of given integer\n",
    "\n",
    "num1 = int(input('enter an integer: '))\n",
    "num2 = num1+10\n",
    "while num1 < num2:\n",
    "    num1+=1\n",
    "    print(num1)"
   ]
  },
  {
   "cell_type": "code",
   "execution_count": 5,
   "id": "7758c80e",
   "metadata": {},
   "outputs": [
    {
     "name": "stdout",
     "output_type": "stream",
     "text": [
      "enter an integer: 34\n",
      "35\n",
      "36\n",
      "37\n",
      "38\n",
      "39\n",
      "40\n",
      "41\n",
      "42\n",
      "43\n",
      "44\n"
     ]
    }
   ],
   "source": [
    "# another method\n",
    "num1 = int(input('enter an integer: '))\n",
    "num2 = 0\n",
    "while num2 in range (10):\n",
    "        num1+=1\n",
    "        num2+=1\n",
    "        print(num1)\n"
   ]
  },
  {
   "cell_type": "code",
   "execution_count": 13,
   "id": "f05ffa95",
   "metadata": {},
   "outputs": [
    {
     "name": "stdout",
     "output_type": "stream",
     "text": [
      "enter an integer: 2\n",
      "enter an integer: 10\n",
      "2\n",
      "4\n",
      "6\n",
      "8\n"
     ]
    }
   ],
   "source": [
    "a, b = int(input('enter an integer: ')) , int(input('enter an integer: '))\n",
    "maxi = max(a,b)\n",
    "mini = min(a,b)\n",
    "x = mini\n",
    "while x in range(mini, maxi):\n",
    "    if x%2 == 0:\n",
    "        print(x)\n",
    "    x+=1    "
   ]
  },
  {
   "cell_type": "code",
   "execution_count": 19,
   "id": "cbc7a358",
   "metadata": {},
   "outputs": [
    {
     "name": "stdout",
     "output_type": "stream",
     "text": [
      "enter an integer: 2\n",
      "enter an integer: 20\n",
      "Even [2, 4, 6, 8, 10, 12, 14, 16, 18] \n",
      " Odd [3, 5, 7, 9, 11, 13, 15, 17, 19]\n"
     ]
    }
   ],
   "source": [
    "# list of odd and even number between given integer.\n",
    "a, b = int(input('enter an integer: ')) , int(input('enter an integer: '))\n",
    "maxi = max(a,b)\n",
    "mini = min(a,b)\n",
    "even = []\n",
    "odd = []\n",
    "x = mini\n",
    "while x in range(mini, maxi):\n",
    "    if x%2 == 0:\n",
    "        even.append(x)\n",
    "    else:\n",
    "        odd.append(x)\n",
    "    x+=1\n",
    "print('Even' ,even ,'\\n', 'Odd', odd)\n",
    "        "
   ]
  },
  {
   "cell_type": "code",
   "execution_count": null,
   "id": "ec9478ca",
   "metadata": {},
   "outputs": [],
   "source": []
  }
 ],
 "metadata": {
  "kernelspec": {
   "display_name": "Python 3 (ipykernel)",
   "language": "python",
   "name": "python3"
  },
  "language_info": {
   "codemirror_mode": {
    "name": "ipython",
    "version": 3
   },
   "file_extension": ".py",
   "mimetype": "text/x-python",
   "name": "python",
   "nbconvert_exporter": "python",
   "pygments_lexer": "ipython3",
   "version": "3.11.5"
  }
 },
 "nbformat": 4,
 "nbformat_minor": 5
}
