{
 "cells": [
  {
   "cell_type": "code",
   "execution_count": 6,
   "id": "f339562b",
   "metadata": {},
   "outputs": [],
   "source": [
    "# ques no. 771\n",
    "def numJewelsInStones(jewels: str, stones: str):\n",
    "    counter = 0\n",
    "    for i in stones:\n",
    "        if jewels.find(i) == -1:\n",
    "            pass\n",
    "        else:\n",
    "            counter+=1\n",
    "    return counter;"
   ]
  },
  {
   "cell_type": "code",
   "execution_count": 7,
   "id": "d6a75aa3",
   "metadata": {},
   "outputs": [
    {
     "data": {
      "text/plain": [
       "3"
      ]
     },
     "execution_count": 7,
     "metadata": {},
     "output_type": "execute_result"
    }
   ],
   "source": [
    "numJewelsInStones(\"aA\", \"aAAbbbb\")"
   ]
  },
  {
   "cell_type": "code",
   "execution_count": 8,
   "id": "e68393e2",
   "metadata": {},
   "outputs": [],
   "source": [
    "# ques no. 2894\n",
    "def calculate_num1_num2(n: int, m: int):\n",
    "    num1 = sum(i for i in range(1, n+1) if i % m != 0)\n",
    "    num2 = sum(i for i in range(1, n+1) if i % m == 0)\n",
    "    return num1 - num2"
   ]
  },
  {
   "cell_type": "code",
   "execution_count": 9,
   "id": "f4bd4002",
   "metadata": {},
   "outputs": [
    {
     "data": {
      "text/plain": [
       "19"
      ]
     },
     "execution_count": 9,
     "metadata": {},
     "output_type": "execute_result"
    }
   ],
   "source": [
    "calculate_num1_num2(10, 3)"
   ]
  },
  {
   "cell_type": "code",
   "execution_count": 10,
   "id": "a5668ca9",
   "metadata": {},
   "outputs": [],
   "source": [
    "#ques no. 2798\n",
    "def num_employees(hours, target):\n",
    "    return sum(1 for h in hours if h >= target)"
   ]
  },
  {
   "cell_type": "code",
   "execution_count": 11,
   "id": "ad283c01",
   "metadata": {},
   "outputs": [
    {
     "data": {
      "text/plain": [
       "3"
      ]
     },
     "execution_count": 11,
     "metadata": {},
     "output_type": "execute_result"
    }
   ],
   "source": [
    "num_employees([0,1,2,3,4],2)"
   ]
  },
  {
   "cell_type": "code",
   "execution_count": 12,
   "id": "117a33eb",
   "metadata": {},
   "outputs": [
    {
     "data": {
      "text/plain": [
       "0"
      ]
     },
     "execution_count": 12,
     "metadata": {},
     "output_type": "execute_result"
    }
   ],
   "source": [
    "num_employees([5,1,4,2,2],6)"
   ]
  },
  {
   "cell_type": "code",
   "execution_count": 13,
   "id": "0cfac45a",
   "metadata": {},
   "outputs": [],
   "source": [
    "#ques no. 2859\n",
    "def sum_indices_with_k_set_bits(nums, k):\n",
    "    return sum(nums[i] for i in range(len(nums)) if bin(i).count('1') == k)"
   ]
  },
  {
   "cell_type": "code",
   "execution_count": 14,
   "id": "27d96fd7",
   "metadata": {},
   "outputs": [
    {
     "data": {
      "text/plain": [
       "13"
      ]
     },
     "execution_count": 14,
     "metadata": {},
     "output_type": "execute_result"
    }
   ],
   "source": [
    "sum_indices_with_k_set_bits([5,10,1,5,2],1)"
   ]
  },
  {
   "cell_type": "code",
   "execution_count": 23,
   "id": "b7e13d2f",
   "metadata": {},
   "outputs": [],
   "source": [
    "#ques no. 2828\n",
    "def is_acronym(words, s):\n",
    "    return ''.join(word[0] for word in words) == s"
   ]
  },
  {
   "cell_type": "code",
   "execution_count": 24,
   "id": "b766ec70",
   "metadata": {},
   "outputs": [
    {
     "data": {
      "text/plain": [
       "True"
      ]
     },
     "execution_count": 24,
     "metadata": {},
     "output_type": "execute_result"
    }
   ],
   "source": [
    "is_acronym(words = [\"alice\",\"bob\",\"charlie\"], s = \"abc\")"
   ]
  },
  {
   "cell_type": "code",
   "execution_count": 25,
   "id": "ee270574",
   "metadata": {},
   "outputs": [
    {
     "data": {
      "text/plain": [
       "False"
      ]
     },
     "execution_count": 25,
     "metadata": {},
     "output_type": "execute_result"
    }
   ],
   "source": [
    "is_acronym(words = [\"an\",\"apple\"], s = \"a\")"
   ]
  },
  {
   "cell_type": "code",
   "execution_count": null,
   "id": "77d4f7be",
   "metadata": {},
   "outputs": [],
   "source": []
  }
 ],
 "metadata": {
  "kernelspec": {
   "display_name": "Python 3 (ipykernel)",
   "language": "python",
   "name": "python3"
  },
  "language_info": {
   "codemirror_mode": {
    "name": "ipython",
    "version": 3
   },
   "file_extension": ".py",
   "mimetype": "text/x-python",
   "name": "python",
   "nbconvert_exporter": "python",
   "pygments_lexer": "ipython3",
   "version": "3.11.5"
  }
 },
 "nbformat": 4,
 "nbformat_minor": 5
}
