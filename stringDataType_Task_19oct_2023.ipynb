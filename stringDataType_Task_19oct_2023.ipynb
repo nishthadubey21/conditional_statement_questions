{
 "cells": [
  {
   "cell_type": "markdown",
   "id": "68d579c1",
   "metadata": {},
   "source": [
    "# StringMethods"
   ]
  },
  {
   "cell_type": "markdown",
   "id": "115c4798",
   "metadata": {},
   "source": [
    " * 'capitalize',\n",
    " * 'casefold',\n",
    " * 'center',\n",
    " * 'count',\n",
    " * 'encode',\n",
    " * 'endswith',\n",
    " * 'expandtabs',\n",
    " * 'find',\n",
    " * 'format',\n",
    " * 'format_map',\n",
    " * 'index',\n",
    " * 'isalnum',\n",
    " * 'isalpha',\n",
    " * 'isascii',\n",
    " * 'isdecimal',\n",
    " * 'isdigit',\n",
    " * 'isidentifier',\n",
    " * 'islower',\n",
    " * 'isnumeric',\n",
    " * 'isprintable',\n",
    " * 'isspace',\n",
    " * 'istitle',\n",
    " * 'isupper'\n",
    " * 'join',\n",
    " * 'ljust',\n",
    " * 'lower',\n",
    " * 'lstrip',\n",
    " * 'maketrans',\n",
    " * 'partition',\n",
    " * 'removeprefix',\n",
    " * 'removesuffix',\n",
    " * 'replace',\n",
    " * 'rfind',\n",
    " * 'rindex',\n",
    " * 'rjust',\n",
    " * 'rpartition',\n",
    " * 'rsplit',\n",
    " * 'rstrip',\n",
    " * 'split',\n",
    " * 'splitlines',\n",
    " * 'startswith',\n",
    " * 'strip',\n",
    " * 'swapcase',\n",
    " * 'title',\n",
    " * translate',\n",
    " * 'upper',\n",
    " * 'zfill'\n",
    " * Find\n",
    " * rfind\n",
    " * count\n",
    " * Index\n",
    " * rindex\n",
    " * Replace\n",
    " * Split\n",
    " * rsplit\n",
    " * Partition\n",
    " * rpartition\n",
    " * Splitlines"
   ]
  },
  {
   "cell_type": "markdown",
   "id": "10053ada",
   "metadata": {},
   "source": [
    "## > Capitalize\n",
    "\n",
    "* It returns a copy of the string with its first character capitalized and the rest lowercased.\n",
    "* Working Rule:\n",
    "    * string.capitalize()\n",
    "* Returns capitalized string.\n"
   ]
  },
  {
   "cell_type": "code",
   "execution_count": 1,
   "id": "5b4a4d5b",
   "metadata": {},
   "outputs": [
    {
     "data": {
      "text/plain": [
       "'Hello cutie!'"
      ]
     },
     "execution_count": 1,
     "metadata": {},
     "output_type": "execute_result"
    }
   ],
   "source": [
    "# example 1\n",
    "str1 = 'hello cutie!'\n",
    "str1.capitalize() # converted a sentence initial into capital letter"
   ]
  },
  {
   "cell_type": "code",
   "execution_count": 141,
   "id": "16e4a985",
   "metadata": {},
   "outputs": [
    {
     "data": {
      "text/plain": [
       "'A loyal warrior will rarely worry why we rule.'"
      ]
     },
     "execution_count": 141,
     "metadata": {},
     "output_type": "execute_result"
    }
   ],
   "source": [
    "# example 2\n",
    "str2 = 'a loyal warrior will rarely worry why we rule.'\n",
    "str2.capitalize()"
   ]
  },
  {
   "cell_type": "markdown",
   "id": "ace304e0",
   "metadata": {},
   "source": [
    "#### Document of capitalize"
   ]
  },
  {
   "cell_type": "code",
   "execution_count": 3,
   "id": "af0924ef",
   "metadata": {},
   "outputs": [
    {
     "name": "stdout",
     "output_type": "stream",
     "text": [
      "Help on built-in function capitalize:\n",
      "\n",
      "capitalize() method of builtins.str instance\n",
      "    Return a capitalized version of the string.\n",
      "    \n",
      "    More specifically, make the first character have upper case and the rest lower\n",
      "    case.\n",
      "\n"
     ]
    }
   ],
   "source": [
    "help(str1.capitalize)"
   ]
  },
  {
   "cell_type": "markdown",
   "id": "f2e06327",
   "metadata": {},
   "source": [
    "## > Casefold\n",
    "* It converts all the uppercase letters in a string to lowercase letters. casefold() is similar to the lower() method, but is stronger and helps with changing letters to lowercase in other languages.\n",
    "* The difference between casefold and lower is: casefold works on unicode level and lower works on ascii level.\n",
    "* Working rule:\n",
    "   * string.casefold()  \n",
    "   \n",
    "#### Examples:   "
   ]
  },
  {
   "cell_type": "code",
   "execution_count": 5,
   "id": "f97d83ec",
   "metadata": {},
   "outputs": [
    {
     "data": {
      "text/plain": [
       "'hello cutie'"
      ]
     },
     "execution_count": 5,
     "metadata": {},
     "output_type": "execute_result"
    }
   ],
   "source": [
    "# Example1\n",
    "str3 = 'hello CUTIE'\n",
    "str3.casefold() #converted uppercase into lower in this example"
   ]
  },
  {
   "cell_type": "code",
   "execution_count": 6,
   "id": "befda5ef",
   "metadata": {},
   "outputs": [
    {
     "data": {
      "text/plain": [
       "'germen ss is ss'"
      ]
     },
     "execution_count": 6,
     "metadata": {},
     "output_type": "execute_result"
    }
   ],
   "source": [
    "# Example 2\n",
    "str4 = 'Germen ss is ß'\n",
    "str4.casefold() # converted special char into lower case and uppercase into lower case \n"
   ]
  },
  {
   "cell_type": "markdown",
   "id": "883b21f1",
   "metadata": {},
   "source": [
    "#### Document of casefold"
   ]
  },
  {
   "cell_type": "code",
   "execution_count": 7,
   "id": "9e5303da",
   "metadata": {},
   "outputs": [
    {
     "name": "stdout",
     "output_type": "stream",
     "text": [
      "Help on built-in function casefold:\n",
      "\n",
      "casefold() method of builtins.str instance\n",
      "    Return a version of the string suitable for caseless comparisons.\n",
      "\n"
     ]
    }
   ],
   "source": [
    "help(str4.casefold)"
   ]
  },
  {
   "cell_type": "markdown",
   "id": "4f319d01",
   "metadata": {},
   "source": [
    "## > Center\n",
    "* It returns the string centered in a string of length width. Padding can be done using the specified fillchar (the default padding uses an space). \n",
    "* The original string is returned if width is less than or equal to length of string.\n",
    "* The fillchsar must be 1 char long.\n",
    "* Fillchar and the string length gives the total length in result whatever we width we give to it.\n",
    "* Working rule:\n",
    "     *  String.center(width, 'char')\n",
    "\n",
    "#### Examples:"
   ]
  },
  {
   "cell_type": "code",
   "execution_count": 8,
   "id": "dcefa8a1",
   "metadata": {},
   "outputs": [
    {
     "data": {
      "text/plain": [
       "'        om namah shivay        '"
      ]
     },
     "execution_count": 8,
     "metadata": {},
     "output_type": "execute_result"
    }
   ],
   "source": [
    "# Example 1\n",
    "str5 = 'om namah shivay'\n",
    "str5.center(31,' ')\n",
    "# here width 31 and char space is given.\n"
   ]
  },
  {
   "cell_type": "code",
   "execution_count": 9,
   "id": "0d7d2fb7",
   "metadata": {},
   "outputs": [
    {
     "data": {
      "text/plain": [
       "'__________________om namah shivay__________________'"
      ]
     },
     "execution_count": 9,
     "metadata": {},
     "output_type": "execute_result"
    }
   ],
   "source": [
    "# Example2\n",
    "str5.center(51,'_') # here width is 51 and fillchar is underscore."
   ]
  },
  {
   "cell_type": "code",
   "execution_count": 11,
   "id": "eb69026d",
   "metadata": {},
   "outputs": [
    {
     "data": {
      "text/plain": [
       "'om namah shivay'"
      ]
     },
     "execution_count": 11,
     "metadata": {},
     "output_type": "execute_result"
    }
   ],
   "source": [
    "#Example 3\n",
    "str5.center(5) #here width is less than the length of string and no char is given for filling so it returned the \n",
    "#original string."
   ]
  },
  {
   "cell_type": "markdown",
   "id": "ac0e2018",
   "metadata": {},
   "source": [
    "#### Document of center"
   ]
  },
  {
   "cell_type": "code",
   "execution_count": 10,
   "id": "814f0da4",
   "metadata": {},
   "outputs": [
    {
     "name": "stdout",
     "output_type": "stream",
     "text": [
      "Help on built-in function center:\n",
      "\n",
      "center(width, fillchar=' ', /) method of builtins.str instance\n",
      "    Return a centered string of length width.\n",
      "    \n",
      "    Padding is done using the specified fill character (default is a space).\n",
      "\n"
     ]
    }
   ],
   "source": [
    "help(str5.center)"
   ]
  },
  {
   "cell_type": "markdown",
   "id": "db1832f9",
   "metadata": {},
   "source": [
    "## > Count\n",
    "* It returns the number of non-overlapping occurrences of substring (sub) in the range (start, end). Optional arguments startand end are interpreted as in slice notation.\n",
    "* Working Rule: \n",
    "  * string.count('substring',start,end), if start, end is not mention ed it counts the occurance from the whole string.\n",
    "\n",
    "#### Examples:"
   ]
  },
  {
   "cell_type": "code",
   "execution_count": 12,
   "id": "b735b6e5",
   "metadata": {},
   "outputs": [
    {
     "data": {
      "text/plain": [
       "'a loyal warrior will rarely worry why we rule.'"
      ]
     },
     "execution_count": 12,
     "metadata": {},
     "output_type": "execute_result"
    }
   ],
   "source": [
    "str2"
   ]
  },
  {
   "cell_type": "code",
   "execution_count": 14,
   "id": "57bc5348",
   "metadata": {},
   "outputs": [
    {
     "data": {
      "text/plain": [
       "5"
      ]
     },
     "execution_count": 14,
     "metadata": {},
     "output_type": "execute_result"
    }
   ],
   "source": [
    "str2.count('w') #Here starting and end point is not given so it counted 'w' from whole the string."
   ]
  },
  {
   "cell_type": "code",
   "execution_count": 15,
   "id": "09827e4f",
   "metadata": {},
   "outputs": [
    {
     "data": {
      "text/plain": [
       "4"
      ]
     },
     "execution_count": 15,
     "metadata": {},
     "output_type": "execute_result"
    }
   ],
   "source": [
    "str2.count('y') #similarly y is counted"
   ]
  },
  {
   "cell_type": "code",
   "execution_count": 17,
   "id": "68c43a5d",
   "metadata": {},
   "outputs": [
    {
     "data": {
      "text/plain": [
       "1"
      ]
     },
     "execution_count": 17,
     "metadata": {},
     "output_type": "execute_result"
    }
   ],
   "source": [
    "str2.count('y',2,10) #counted y from 2nd index to 10th index of string."
   ]
  },
  {
   "cell_type": "code",
   "execution_count": 19,
   "id": "d45d376d",
   "metadata": {},
   "outputs": [
    {
     "data": {
      "text/plain": [
       "1"
      ]
     },
     "execution_count": 19,
     "metadata": {},
     "output_type": "execute_result"
    }
   ],
   "source": [
    "str2.count('we') # we appeared  1 time in string"
   ]
  },
  {
   "cell_type": "code",
   "execution_count": 22,
   "id": "9ac0a1b8",
   "metadata": {},
   "outputs": [
    {
     "data": {
      "text/plain": [
       "8"
      ]
     },
     "execution_count": 22,
     "metadata": {},
     "output_type": "execute_result"
    }
   ],
   "source": [
    "str2.count(' ') #counted space char from the string"
   ]
  },
  {
   "cell_type": "markdown",
   "id": "552f392d",
   "metadata": {},
   "source": [
    "#### Document of count"
   ]
  },
  {
   "cell_type": "code",
   "execution_count": 23,
   "id": "2f7db974",
   "metadata": {},
   "outputs": [
    {
     "name": "stdout",
     "output_type": "stream",
     "text": [
      "Help on built-in function count:\n",
      "\n",
      "count(...) method of builtins.str instance\n",
      "    S.count(sub[, start[, end]]) -> int\n",
      "    \n",
      "    Return the number of non-overlapping occurrences of substring sub in\n",
      "    string S[start:end].  Optional arguments start and end are\n",
      "    interpreted as in slice notation.\n",
      "\n"
     ]
    }
   ],
   "source": [
    "help(str2.count)"
   ]
  },
  {
   "cell_type": "markdown",
   "id": "c8a4139a",
   "metadata": {},
   "source": [
    "## > Encode:\n",
    "* Returns an encoded version of the string as a bytes object. The default encoding is utf-8. errors may be given to set a different error handling scheme. The possible value for errors are:\n",
    "strict (encoding errors raise a UnicodeError)\n",
    "\n",
    "ignore\n",
    "\n",
    "replace\n",
    "\n",
    "xmlcharrefreplace\n",
    "\n",
    "backslashreplace\n",
    "\n",
    "any other name registered\n",
    "\n",
    "\n",
    "#### Example\n"
   ]
  },
  {
   "cell_type": "code",
   "execution_count": 138,
   "id": "6dc4e490",
   "metadata": {},
   "outputs": [
    {
     "name": "stdout",
     "output_type": "stream",
     "text": [
      "The string is: python!\n"
     ]
    }
   ],
   "source": [
    "mystr = 'python!'\n",
    ">>> print('The string is:', mystr)"
   ]
  },
  {
   "cell_type": "code",
   "execution_count": null,
   "id": "b7c4c73e",
   "metadata": {},
   "outputs": [],
   "source": []
  },
  {
   "cell_type": "markdown",
   "id": "637c7f8d",
   "metadata": {},
   "source": [
    "## > Endswith\n",
    "* It returns True if the string ends with the specified suffix, otherwise it returns False.\n",
    "* It is a boolean string method.\n",
    "* It can take multiple char as suffix.\n",
    "* Working Rule: \n",
    "  * string.endswith('substring')\n",
    "\n",
    "\n",
    "#### Examples:"
   ]
  },
  {
   "cell_type": "code",
   "execution_count": 29,
   "id": "2a89077e",
   "metadata": {},
   "outputs": [
    {
     "data": {
      "text/plain": [
       "'om namah shivay'"
      ]
     },
     "execution_count": 29,
     "metadata": {},
     "output_type": "execute_result"
    }
   ],
   "source": [
    "str5"
   ]
  },
  {
   "cell_type": "code",
   "execution_count": 30,
   "id": "d5d5e1c3",
   "metadata": {},
   "outputs": [
    {
     "data": {
      "text/plain": [
       "True"
      ]
     },
     "execution_count": 30,
     "metadata": {},
     "output_type": "execute_result"
    }
   ],
   "source": [
    "# Example 1\n",
    "str5.endswith('y')"
   ]
  },
  {
   "cell_type": "code",
   "execution_count": 32,
   "id": "841a5f8f",
   "metadata": {},
   "outputs": [
    {
     "data": {
      "text/plain": [
       "False"
      ]
     },
     "execution_count": 32,
     "metadata": {},
     "output_type": "execute_result"
    }
   ],
   "source": [
    "#example2\n",
    "str5.endswith('ya') # if given sequence of sabstring doesnt match with string then it gives \"false\""
   ]
  },
  {
   "cell_type": "code",
   "execution_count": 34,
   "id": "fcf7a297",
   "metadata": {},
   "outputs": [
    {
     "data": {
      "text/plain": [
       "True"
      ]
     },
     "execution_count": 34,
     "metadata": {},
     "output_type": "execute_result"
    }
   ],
   "source": [
    "#wxample3\n",
    "str5.endswith('ay') # if sequence is correct then its true."
   ]
  },
  {
   "cell_type": "markdown",
   "id": "2a07eeea",
   "metadata": {},
   "source": [
    "#### Document of Endswith"
   ]
  },
  {
   "cell_type": "code",
   "execution_count": 35,
   "id": "f5900787",
   "metadata": {},
   "outputs": [
    {
     "name": "stdout",
     "output_type": "stream",
     "text": [
      "Help on built-in function endswith:\n",
      "\n",
      "endswith(...) method of builtins.str instance\n",
      "    S.endswith(suffix[, start[, end]]) -> bool\n",
      "    \n",
      "    Return True if S ends with the specified suffix, False otherwise.\n",
      "    With optional start, test S beginning at that position.\n",
      "    With optional end, stop comparing S at that position.\n",
      "    suffix can also be a tuple of strings to try.\n",
      "\n"
     ]
    }
   ],
   "source": [
    "help(str5.endswith)"
   ]
  },
  {
   "cell_type": "markdown",
   "id": "1ad7fa48",
   "metadata": {},
   "source": [
    "## > Expandtabs\n",
    "* Returns a copy of the string where all tab characters are replaced by one or more spaces, depending on the current column and the given tab size.\n",
    "\n",
    "\n",
    "#### Example"
   ]
  },
  {
   "cell_type": "code",
   "execution_count": 139,
   "id": "fe5e3fc0",
   "metadata": {},
   "outputs": [
    {
     "name": "stdout",
     "output_type": "stream",
     "text": [
      "1\t2\t3\n"
     ]
    }
   ],
   "source": [
    "mystr = \"1\\t2\\t3\"\n",
    "print(mystr)"
   ]
  },
  {
   "cell_type": "code",
   "execution_count": 140,
   "id": "14725bf9",
   "metadata": {},
   "outputs": [
    {
     "name": "stdout",
     "output_type": "stream",
     "text": [
      "1       2       3\n"
     ]
    }
   ],
   "source": [
    "print(mystr.expandtabs())"
   ]
  },
  {
   "cell_type": "code",
   "execution_count": null,
   "id": "faa3a077",
   "metadata": {},
   "outputs": [],
   "source": []
  },
  {
   "cell_type": "code",
   "execution_count": null,
   "id": "ce891810",
   "metadata": {},
   "outputs": [],
   "source": []
  },
  {
   "cell_type": "markdown",
   "id": "27122c80",
   "metadata": {},
   "source": [
    "## > Find\n",
    "\n",
    "* This method is used to find index of any particular charactor.\n",
    "* find always tells the index from left to right of that particular string.\n",
    "* If we specify about index from which we need to find, we can mention that also."
   ]
  },
  {
   "cell_type": "markdown",
   "id": "c0991e1a",
   "metadata": {},
   "source": [
    "#### Here is example of find()"
   ]
  },
  {
   "cell_type": "code",
   "execution_count": 8,
   "id": "6c79d709",
   "metadata": {},
   "outputs": [
    {
     "data": {
      "text/plain": [
       "'betty botter bought some butter\\nbut she said the butter’s bitter\\nif i put it in my batter, it will make my batter bitter\\nbut a bit of better butter will make my batter better\\nso ‘twas better betty botter bought a bit of better butter'"
      ]
     },
     "execution_count": 8,
     "metadata": {},
     "output_type": "execute_result"
    }
   ],
   "source": [
    "x = '''Betty Botter bought some butter\n",
    "But she said the butter’s bitter\n",
    "If I put it in my batter, it will make my batter bitter\n",
    "But a bit of better butter will make my batter better\n",
    "So ‘twas better Betty Botter bought a bit of better butter'''\n",
    "x\n",
    "xl = x.lower() #lowercases the string\n",
    "xl\n",
    "\n",
    "#We will operate methods on xl"
   ]
  },
  {
   "cell_type": "code",
   "execution_count": 10,
   "id": "d0329726",
   "metadata": {},
   "outputs": [
    {
     "data": {
      "text/plain": [
       "4"
      ]
     },
     "execution_count": 10,
     "metadata": {},
     "output_type": "execute_result"
    }
   ],
   "source": [
    "xl.find('y')"
   ]
  },
  {
   "cell_type": "markdown",
   "id": "30db0236",
   "metadata": {},
   "source": [
    "##### document of find()"
   ]
  },
  {
   "cell_type": "code",
   "execution_count": 5,
   "id": "e1656c59",
   "metadata": {},
   "outputs": [
    {
     "name": "stdout",
     "output_type": "stream",
     "text": [
      "Help on built-in function find:\n",
      "\n",
      "find(...) method of builtins.str instance\n",
      "    S.find(sub[, start[, end]]) -> int\n",
      "    \n",
      "    Return the lowest index in S where substring sub is found,\n",
      "    such that sub is contained within S[start:end].  Optional\n",
      "    arguments start and end are interpreted as in slice notation.\n",
      "    \n",
      "    Return -1 on failure.\n",
      "\n"
     ]
    }
   ],
   "source": [
    "help(xl.find)"
   ]
  },
  {
   "cell_type": "markdown",
   "id": "5ea154ce",
   "metadata": {},
   "source": [
    "* it says that for this we need to code find(subs, start, end)\n",
    "  returns the lowest or ery first index of the substring or char.\n",
    "  returns -1 on failure or if doesnot find"
   ]
  },
  {
   "cell_type": "code",
   "execution_count": 11,
   "id": "a7829a5e",
   "metadata": {},
   "outputs": [
    {
     "data": {
      "text/plain": [
       "20"
      ]
     },
     "execution_count": 11,
     "metadata": {},
     "output_type": "execute_result"
    }
   ],
   "source": [
    "# For example if we find again\n",
    "xl.find('some')"
   ]
  },
  {
   "cell_type": "code",
   "execution_count": 12,
   "id": "f4933b30",
   "metadata": {},
   "outputs": [
    {
     "data": {
      "text/plain": [
       "-1"
      ]
     },
     "execution_count": 12,
     "metadata": {},
     "output_type": "execute_result"
    }
   ],
   "source": [
    "xl.find('z') # gives -1 because 'z' is not present in the string"
   ]
  },
  {
   "cell_type": "markdown",
   "id": "ca155bf8",
   "metadata": {},
   "source": [
    "##  > rfind\n",
    "\n",
    "* Works exactly like find but from right to left of the string\n",
    "\n",
    "\n",
    "#### Document of rfind()"
   ]
  },
  {
   "cell_type": "code",
   "execution_count": 13,
   "id": "074e5735",
   "metadata": {},
   "outputs": [
    {
     "name": "stdout",
     "output_type": "stream",
     "text": [
      "Help on built-in function rfind:\n",
      "\n",
      "rfind(...) method of builtins.str instance\n",
      "    S.rfind(sub[, start[, end]]) -> int\n",
      "    \n",
      "    Return the highest index in S where substring sub is found,\n",
      "    such that sub is contained within S[start:end].  Optional\n",
      "    arguments start and end are interpreted as in slice notation.\n",
      "    \n",
      "    Return -1 on failure.\n",
      "\n"
     ]
    }
   ],
   "source": [
    "help(xl.rfind)"
   ]
  },
  {
   "cell_type": "markdown",
   "id": "eb3c9abc",
   "metadata": {},
   "source": [
    "#### Example of rfind"
   ]
  },
  {
   "cell_type": "code",
   "execution_count": 14,
   "id": "73280bad",
   "metadata": {},
   "outputs": [
    {
     "data": {
      "text/plain": [
       "'betty botter bought some butter\\nbut she said the butter’s bitter\\nif i put it in my batter, it will make my batter bitter\\nbut a bit of better butter will make my batter better\\nso ‘twas better betty botter bought a bit of better butter'"
      ]
     },
     "execution_count": 14,
     "metadata": {},
     "output_type": "execute_result"
    }
   ],
   "source": [
    "xl"
   ]
  },
  {
   "cell_type": "markdown",
   "id": "aab749c8",
   "metadata": {},
   "source": [
    "* <u>gives only positive index but find a particular char or substring from right to left of the string </u>"
   ]
  },
  {
   "cell_type": "code",
   "execution_count": 15,
   "id": "6ca21c67",
   "metadata": {},
   "outputs": [
    {
     "data": {
      "text/plain": [
       "211"
      ]
     },
     "execution_count": 15,
     "metadata": {},
     "output_type": "execute_result"
    }
   ],
   "source": [
    "xl.rfind('a')"
   ]
  },
  {
   "cell_type": "code",
   "execution_count": 16,
   "id": "84aec4d1",
   "metadata": {},
   "outputs": [
    {
     "data": {
      "text/plain": [
       "204"
      ]
     },
     "execution_count": 16,
     "metadata": {},
     "output_type": "execute_result"
    }
   ],
   "source": [
    "xl.rfind('bought')"
   ]
  },
  {
   "cell_type": "markdown",
   "id": "601a584a",
   "metadata": {},
   "source": [
    "## > Count\n",
    "\n",
    "* it helps to find the occurance of particular substring in the given string.\n",
    "* execution is S.count('subs', start, end)"
   ]
  },
  {
   "cell_type": "markdown",
   "id": "bc03edf2",
   "metadata": {},
   "source": [
    "#### Document of count"
   ]
  },
  {
   "cell_type": "code",
   "execution_count": 20,
   "id": "6dca18c5",
   "metadata": {},
   "outputs": [
    {
     "name": "stdout",
     "output_type": "stream",
     "text": [
      "Help on built-in function count:\n",
      "\n",
      "count(...) method of builtins.str instance\n",
      "    S.count(sub[, start[, end]]) -> int\n",
      "    \n",
      "    Return the number of non-overlapping occurrences of substring sub in\n",
      "    string S[start:end].  Optional arguments start and end are\n",
      "    interpreted as in slice notation.\n",
      "\n"
     ]
    }
   ],
   "source": [
    "help(xl.count)"
   ]
  },
  {
   "cell_type": "markdown",
   "id": "8e5efce4",
   "metadata": {},
   "source": [
    "##### Here is the example of count"
   ]
  },
  {
   "cell_type": "code",
   "execution_count": 17,
   "id": "cc02a618",
   "metadata": {},
   "outputs": [
    {
     "data": {
      "text/plain": [
       "'betty botter bought some butter\\nbut she said the butter’s bitter\\nif i put it in my batter, it will make my batter bitter\\nbut a bit of better butter will make my batter better\\nso ‘twas better betty botter bought a bit of better butter'"
      ]
     },
     "execution_count": 17,
     "metadata": {},
     "output_type": "execute_result"
    }
   ],
   "source": [
    "xl"
   ]
  },
  {
   "cell_type": "code",
   "execution_count": 19,
   "id": "a3633046",
   "metadata": {},
   "outputs": [
    {
     "data": {
      "text/plain": [
       "2"
      ]
     },
     "execution_count": 19,
     "metadata": {},
     "output_type": "execute_result"
    }
   ],
   "source": [
    "xl.count('bought')"
   ]
  },
  {
   "cell_type": "markdown",
   "id": "aa4cd5fa",
   "metadata": {},
   "source": [
    " Hence bought is coming 2 times in given string"
   ]
  },
  {
   "cell_type": "markdown",
   "id": "4cdf1a46",
   "metadata": {},
   "source": [
    "## > Index\n",
    "\n",
    "* Index is used to find the index of that particular substring of a string.\n",
    "* This works from left to right of a string and gives the first occuring index of that string\n",
    "* this exactly works like <u>find</u> method but in failure it gives an error\n",
    "\n",
    "\n",
    "#### Document of index"
   ]
  },
  {
   "cell_type": "code",
   "execution_count": 21,
   "id": "45ff5798",
   "metadata": {},
   "outputs": [
    {
     "name": "stdout",
     "output_type": "stream",
     "text": [
      "Help on built-in function index:\n",
      "\n",
      "index(...) method of builtins.str instance\n",
      "    S.index(sub[, start[, end]]) -> int\n",
      "    \n",
      "    Return the lowest index in S where substring sub is found,\n",
      "    such that sub is contained within S[start:end].  Optional\n",
      "    arguments start and end are interpreted as in slice notation.\n",
      "    \n",
      "    Raises ValueError when the substring is not found.\n",
      "\n"
     ]
    }
   ],
   "source": [
    "help(xl.index)"
   ]
  },
  {
   "cell_type": "markdown",
   "id": "7277961d",
   "metadata": {},
   "source": [
    "#### Here is an example of index"
   ]
  },
  {
   "cell_type": "code",
   "execution_count": 22,
   "id": "10d0e65e",
   "metadata": {},
   "outputs": [
    {
     "data": {
      "text/plain": [
       "'betty botter bought some butter\\nbut she said the butter’s bitter\\nif i put it in my batter, it will make my batter bitter\\nbut a bit of better butter will make my batter better\\nso ‘twas better betty botter bought a bit of better butter'"
      ]
     },
     "execution_count": 22,
     "metadata": {},
     "output_type": "execute_result"
    }
   ],
   "source": [
    "xl"
   ]
  },
  {
   "cell_type": "code",
   "execution_count": 23,
   "id": "8c4bf0a1",
   "metadata": {},
   "outputs": [
    {
     "data": {
      "text/plain": [
       "36"
      ]
     },
     "execution_count": 23,
     "metadata": {},
     "output_type": "execute_result"
    }
   ],
   "source": [
    "xl.index('she')"
   ]
  },
  {
   "cell_type": "code",
   "execution_count": 24,
   "id": "3ef4bb61",
   "metadata": {},
   "outputs": [
    {
     "data": {
      "text/plain": [
       "15"
      ]
     },
     "execution_count": 24,
     "metadata": {},
     "output_type": "execute_result"
    }
   ],
   "source": [
    "xl.index('u')"
   ]
  },
  {
   "cell_type": "markdown",
   "id": "8279af48",
   "metadata": {},
   "source": [
    "## > rindex\n",
    " * This gives index from right to left from the string.\n",
    " * This exactly works like rfind except in failure it throws an error\n",
    " \n",
    " \n",
    "#### Doc of rindex "
   ]
  },
  {
   "cell_type": "code",
   "execution_count": 25,
   "id": "2dd6df86",
   "metadata": {},
   "outputs": [
    {
     "name": "stdout",
     "output_type": "stream",
     "text": [
      "Help on built-in function rindex:\n",
      "\n",
      "rindex(...) method of builtins.str instance\n",
      "    S.rindex(sub[, start[, end]]) -> int\n",
      "    \n",
      "    Return the highest index in S where substring sub is found,\n",
      "    such that sub is contained within S[start:end].  Optional\n",
      "    arguments start and end are interpreted as in slice notation.\n",
      "    \n",
      "    Raises ValueError when the substring is not found.\n",
      "\n"
     ]
    }
   ],
   "source": [
    "help(xl.rindex)"
   ]
  },
  {
   "cell_type": "markdown",
   "id": "f76df600",
   "metadata": {},
   "source": [
    "#### Example of rindex()"
   ]
  },
  {
   "cell_type": "code",
   "execution_count": 26,
   "id": "acc0a765",
   "metadata": {},
   "outputs": [
    {
     "data": {
      "text/plain": [
       "'betty botter bought some butter\\nbut she said the butter’s bitter\\nif i put it in my batter, it will make my batter bitter\\nbut a bit of better butter will make my batter better\\nso ‘twas better betty botter bought a bit of better butter'"
      ]
     },
     "execution_count": 26,
     "metadata": {},
     "output_type": "execute_result"
    }
   ],
   "source": [
    "xl"
   ]
  },
  {
   "cell_type": "code",
   "execution_count": 28,
   "id": "1f876d4f",
   "metadata": {},
   "outputs": [
    {
     "data": {
      "text/plain": [
       "217"
      ]
     },
     "execution_count": 28,
     "metadata": {},
     "output_type": "execute_result"
    }
   ],
   "source": [
    "xl.rindex('of')"
   ]
  },
  {
   "cell_type": "markdown",
   "id": "554e3560",
   "metadata": {},
   "source": [
    "## > Replace\n",
    "\n",
    "* In this method we can replace any substring by whatever we want to\n",
    "* we can code s.replace('old char', 'new char')"
   ]
  },
  {
   "cell_type": "markdown",
   "id": "dcaed018",
   "metadata": {},
   "source": [
    "#### Doc of replace()"
   ]
  },
  {
   "cell_type": "code",
   "execution_count": 29,
   "id": "6a60ef25",
   "metadata": {},
   "outputs": [
    {
     "name": "stdout",
     "output_type": "stream",
     "text": [
      "Help on built-in function replace:\n",
      "\n",
      "replace(old, new, count=-1, /) method of builtins.str instance\n",
      "    Return a copy with all occurrences of substring old replaced by new.\n",
      "    \n",
      "      count\n",
      "        Maximum number of occurrences to replace.\n",
      "        -1 (the default value) means replace all occurrences.\n",
      "    \n",
      "    If the optional argument count is given, only the first count occurrences are\n",
      "    replaced.\n",
      "\n"
     ]
    }
   ],
   "source": [
    "help(xl.replace)"
   ]
  },
  {
   "cell_type": "markdown",
   "id": "216a8a56",
   "metadata": {},
   "source": [
    "#### Example of replace"
   ]
  },
  {
   "cell_type": "code",
   "execution_count": 30,
   "id": "469a6abb",
   "metadata": {},
   "outputs": [
    {
     "data": {
      "text/plain": [
       "'betty botter bought some butter\\nbut she said the butter’s bitter\\nif i put it in my batter, it will make my batter bitter\\nbut a bit of better butter will make my batter better\\nso ‘twas better betty botter bought a bit of better butter'"
      ]
     },
     "execution_count": 30,
     "metadata": {},
     "output_type": "execute_result"
    }
   ],
   "source": [
    "xl"
   ]
  },
  {
   "cell_type": "code",
   "execution_count": 31,
   "id": "79cdd6a4",
   "metadata": {},
   "outputs": [
    {
     "data": {
      "text/plain": [
       "'betty botter bought some bubble\\nbut she said the bubble’s bitter\\nif i put it in my batter, it will make my batter bitter\\nbut a bit of better bubble will make my batter better\\nso ‘twas better betty botter bought a bit of better bubble'"
      ]
     },
     "execution_count": 31,
     "metadata": {},
     "output_type": "execute_result"
    }
   ],
   "source": [
    "xl.replace('butter', 'bubble')"
   ]
  },
  {
   "cell_type": "code",
   "execution_count": 32,
   "id": "eae627d8",
   "metadata": {},
   "outputs": [
    {
     "data": {
      "text/plain": [
       "'MalayalaM'"
      ]
     },
     "execution_count": 32,
     "metadata": {},
     "output_type": "execute_result"
    }
   ],
   "source": [
    "m = 'malayalam'\n",
    "m.replace('m', 'M')"
   ]
  },
  {
   "cell_type": "markdown",
   "id": "2d3d2971",
   "metadata": {},
   "source": [
    "## > Split\n",
    "\n",
    "* Splits from each space gap of string.\n",
    "* We can code for split S.split(sep=none, maxsplit=-1)\n",
    "* We can add maxsplit by putting no of splits or breaks we want.\n",
    "\n",
    "#### Doc of split()"
   ]
  },
  {
   "cell_type": "code",
   "execution_count": 33,
   "id": "730a1f58",
   "metadata": {},
   "outputs": [
    {
     "name": "stdout",
     "output_type": "stream",
     "text": [
      "Help on built-in function split:\n",
      "\n",
      "split(sep=None, maxsplit=-1) method of builtins.str instance\n",
      "    Return a list of the substrings in the string, using sep as the separator string.\n",
      "    \n",
      "      sep\n",
      "        The separator used to split the string.\n",
      "    \n",
      "        When set to None (the default value), will split on any whitespace\n",
      "        character (including \\\\n \\\\r \\\\t \\\\f and spaces) and will discard\n",
      "        empty strings from the result.\n",
      "      maxsplit\n",
      "        Maximum number of splits (starting from the left).\n",
      "        -1 (the default value) means no limit.\n",
      "    \n",
      "    Note, str.split() is mainly useful for data that has been intentionally\n",
      "    delimited.  With natural text that includes punctuation, consider using\n",
      "    the regular expression module.\n",
      "\n"
     ]
    }
   ],
   "source": [
    "help(xl.split)"
   ]
  },
  {
   "cell_type": "markdown",
   "id": "74ab197a",
   "metadata": {},
   "source": [
    "#### Example of Split\n"
   ]
  },
  {
   "cell_type": "code",
   "execution_count": 35,
   "id": "b4eecfb8",
   "metadata": {},
   "outputs": [
    {
     "data": {
      "text/plain": [
       "['betty',\n",
       " 'botter',\n",
       " 'bought',\n",
       " 'some',\n",
       " 'butter',\n",
       " 'but',\n",
       " 'she',\n",
       " 'said',\n",
       " 'the',\n",
       " 'butter’s',\n",
       " 'bitter',\n",
       " 'if',\n",
       " 'i',\n",
       " 'put',\n",
       " 'it',\n",
       " 'in',\n",
       " 'my',\n",
       " 'batter,',\n",
       " 'it',\n",
       " 'will',\n",
       " 'make',\n",
       " 'my',\n",
       " 'batter',\n",
       " 'bitter',\n",
       " 'but',\n",
       " 'a',\n",
       " 'bit',\n",
       " 'of',\n",
       " 'better',\n",
       " 'butter',\n",
       " 'will',\n",
       " 'make',\n",
       " 'my',\n",
       " 'batter',\n",
       " 'better',\n",
       " 'so',\n",
       " '‘twas',\n",
       " 'better',\n",
       " 'betty',\n",
       " 'botter',\n",
       " 'bought',\n",
       " 'a',\n",
       " 'bit',\n",
       " 'of',\n",
       " 'better',\n",
       " 'butter']"
      ]
     },
     "execution_count": 35,
     "metadata": {},
     "output_type": "execute_result"
    }
   ],
   "source": [
    "xl.split() #splits from each space gap if nothing is mentioned for splitting"
   ]
  },
  {
   "cell_type": "code",
   "execution_count": 37,
   "id": "afa308a9",
   "metadata": {},
   "outputs": [
    {
     "data": {
      "text/plain": [
       "['betty',\n",
       " 'botter',\n",
       " 'bought',\n",
       " 'some',\n",
       " 'butter\\nbut',\n",
       " 'she said the butter’s bitter\\nif i put it in my batter, it will make my batter bitter\\nbut a bit of better butter will make my batter better\\nso ‘twas better betty botter bought a bit of better butter']"
      ]
     },
     "execution_count": 37,
     "metadata": {},
     "output_type": "execute_result"
    }
   ],
   "source": [
    "xl.split(' ', 5) #splits till 5th gap from left side of the string"
   ]
  },
  {
   "cell_type": "markdown",
   "id": "344857fd",
   "metadata": {},
   "source": [
    "## > rsplit\n",
    " \n",
    "* It works like split only but from right side of the string.\n",
    "* we only can find difference between split and rsplit if the maxsplit is given because split works from left to right and rsplit works from right to left.\n",
    "\n",
    "#### Doc of rsplit"
   ]
  },
  {
   "cell_type": "code",
   "execution_count": 38,
   "id": "383c6092",
   "metadata": {},
   "outputs": [
    {
     "name": "stdout",
     "output_type": "stream",
     "text": [
      "Help on built-in function rsplit:\n",
      "\n",
      "rsplit(sep=None, maxsplit=-1) method of builtins.str instance\n",
      "    Return a list of the substrings in the string, using sep as the separator string.\n",
      "    \n",
      "      sep\n",
      "        The separator used to split the string.\n",
      "    \n",
      "        When set to None (the default value), will split on any whitespace\n",
      "        character (including \\\\n \\\\r \\\\t \\\\f and spaces) and will discard\n",
      "        empty strings from the result.\n",
      "      maxsplit\n",
      "        Maximum number of splits (starting from the left).\n",
      "        -1 (the default value) means no limit.\n",
      "    \n",
      "    Splitting starts at the end of the string and works to the front.\n",
      "\n"
     ]
    }
   ],
   "source": [
    "help(xl.rsplit)"
   ]
  },
  {
   "cell_type": "markdown",
   "id": "41b37c93",
   "metadata": {},
   "source": [
    "#### Example of rsplit"
   ]
  },
  {
   "cell_type": "code",
   "execution_count": 39,
   "id": "5bcbd685",
   "metadata": {},
   "outputs": [
    {
     "data": {
      "text/plain": [
       "['betty botter bought some butter\\nbut she said the butter’s bitter\\nif i put it in my batter, it will make my batter bitter\\nbut a bit of better butter will make my batter better\\nso ‘twas better betty botter bought a',\n",
       " 'bit',\n",
       " 'of',\n",
       " 'better',\n",
       " 'butter']"
      ]
     },
     "execution_count": 39,
     "metadata": {},
     "output_type": "execute_result"
    }
   ],
   "source": [
    "xl.rsplit(' ', 4) # Splitted from right to left of the string from space gaps"
   ]
  },
  {
   "cell_type": "code",
   "execution_count": 40,
   "id": "dedaa1b6",
   "metadata": {},
   "outputs": [
    {
     "data": {
      "text/plain": [
       "['I am', 'not', 'joking']"
      ]
     },
     "execution_count": 40,
     "metadata": {},
     "output_type": "execute_result"
    }
   ],
   "source": [
    "a = 'I am not joking'\n",
    "a.rsplit(' ', 2)"
   ]
  },
  {
   "cell_type": "markdown",
   "id": "734d00ee",
   "metadata": {},
   "source": [
    "## > Partition and rpartition\n",
    "\n",
    "* Partition always parts string into 3 slices.\n",
    "* If there is nothing for partitioning then it gives an empty string.\n",
    "* So if we concatinate the strings then we always will get the original string.\n",
    "* Partition parts the string from left to right and similarly rpartition parts the string from right to left.\n",
    "\n",
    "#### Doc of partition"
   ]
  },
  {
   "cell_type": "code",
   "execution_count": 41,
   "id": "51690906",
   "metadata": {},
   "outputs": [
    {
     "name": "stdout",
     "output_type": "stream",
     "text": [
      "Help on built-in function partition:\n",
      "\n",
      "partition(sep, /) method of builtins.str instance\n",
      "    Partition the string into three parts using the given separator.\n",
      "    \n",
      "    This will search for the separator in the string.  If the separator is found,\n",
      "    returns a 3-tuple containing the part before the separator, the separator\n",
      "    itself, and the part after it.\n",
      "    \n",
      "    If the separator is not found, returns a 3-tuple containing the original string\n",
      "    and two empty strings.\n",
      "\n"
     ]
    }
   ],
   "source": [
    "help(xl.partition)"
   ]
  },
  {
   "cell_type": "code",
   "execution_count": 42,
   "id": "3c261f77",
   "metadata": {},
   "outputs": [
    {
     "name": "stdout",
     "output_type": "stream",
     "text": [
      "Help on built-in function rpartition:\n",
      "\n",
      "rpartition(sep, /) method of builtins.str instance\n",
      "    Partition the string into three parts using the given separator.\n",
      "    \n",
      "    This will search for the separator in the string, starting at the end. If\n",
      "    the separator is found, returns a 3-tuple containing the part before the\n",
      "    separator, the separator itself, and the part after it.\n",
      "    \n",
      "    If the separator is not found, returns a 3-tuple containing two empty strings\n",
      "    and the original string.\n",
      "\n"
     ]
    }
   ],
   "source": [
    "help(xl.rpartition)"
   ]
  },
  {
   "cell_type": "markdown",
   "id": "41e385eb",
   "metadata": {},
   "source": [
    "#### Example of partition and rpartition"
   ]
  },
  {
   "cell_type": "code",
   "execution_count": 45,
   "id": "6bb3964c",
   "metadata": {},
   "outputs": [
    {
     "data": {
      "text/plain": [
       "('I', ' ', 'am not joking')"
      ]
     },
     "execution_count": 45,
     "metadata": {},
     "output_type": "execute_result"
    }
   ],
   "source": [
    "a.partition(' ') #parted into 3 pieces from first space gap"
   ]
  },
  {
   "cell_type": "code",
   "execution_count": 47,
   "id": "a6897710",
   "metadata": {},
   "outputs": [
    {
     "data": {
      "text/plain": [
       "('I ', 'am', ' not joking')"
      ]
     },
     "execution_count": 47,
     "metadata": {},
     "output_type": "execute_result"
    }
   ],
   "source": [
    "a.partition('am') #parted from where am is given in the string"
   ]
  },
  {
   "cell_type": "code",
   "execution_count": 48,
   "id": "1f7da667",
   "metadata": {},
   "outputs": [
    {
     "data": {
      "text/plain": [
       "'betty botter bought some butter\\nbut she said the butter’s bitter\\nif i put it in my batter, it will make my batter bitter\\nbut a bit of better butter will make my batter better\\nso ‘twas better betty botter bought a bit of better butter'"
      ]
     },
     "execution_count": 48,
     "metadata": {},
     "output_type": "execute_result"
    }
   ],
   "source": [
    "xl"
   ]
  },
  {
   "cell_type": "code",
   "execution_count": 49,
   "id": "268f6ba6",
   "metadata": {},
   "outputs": [
    {
     "data": {
      "text/plain": [
       "('betty botter bought some butter\\nbut she said the butter’s bitter\\nif i put it in my batter, it will make my batter bitter\\nbut a bit of better butter will make my batter better\\nso ‘twas better betty botter bought a ',\n",
       " 'bit',\n",
       " ' of better butter')"
      ]
     },
     "execution_count": 49,
     "metadata": {},
     "output_type": "execute_result"
    }
   ],
   "source": [
    "xl.rpartition('bit') # converted whole string into 3 touples from right to left bcz its rpartition"
   ]
  },
  {
   "cell_type": "markdown",
   "id": "90046ddc",
   "metadata": {},
   "source": [
    "## > Splitlines\n",
    "\n",
    "* It splits the string into lines as given.\n",
    "* Working Rule:\n",
    "  * string.splitlines()"
   ]
  },
  {
   "cell_type": "markdown",
   "id": "d2bb2663",
   "metadata": {},
   "source": [
    "#### Doc of splitlines"
   ]
  },
  {
   "cell_type": "code",
   "execution_count": 50,
   "id": "2fcb008a",
   "metadata": {},
   "outputs": [
    {
     "name": "stdout",
     "output_type": "stream",
     "text": [
      "Help on built-in function splitlines:\n",
      "\n",
      "splitlines(keepends=False) method of builtins.str instance\n",
      "    Return a list of the lines in the string, breaking at line boundaries.\n",
      "    \n",
      "    Line breaks are not included in the resulting list unless keepends is given and\n",
      "    true.\n",
      "\n"
     ]
    }
   ],
   "source": [
    "help(xl.splitlines)"
   ]
  },
  {
   "cell_type": "markdown",
   "id": "ad0cf855",
   "metadata": {},
   "source": [
    "#### Example of splitlines"
   ]
  },
  {
   "cell_type": "code",
   "execution_count": 54,
   "id": "59b84bf0",
   "metadata": {},
   "outputs": [
    {
     "data": {
      "text/plain": [
       "['betty botter bought some butter',\n",
       " 'but she said the butter’s bitter',\n",
       " 'if i put it in my batter, it will make my batter bitter',\n",
       " 'but a bit of better butter will make my batter better',\n",
       " 'so ‘twas better betty botter bought a bit of better butter']"
      ]
     },
     "execution_count": 54,
     "metadata": {},
     "output_type": "execute_result"
    }
   ],
   "source": [
    "xl.splitlines() # whole string is splitted into lines"
   ]
  },
  {
   "cell_type": "markdown",
   "id": "80ffac17",
   "metadata": {},
   "source": [
    "## > Format\n",
    "* It Performs a string formatting operation. The string on which this method is called can contain literal text or replacement fields delimited by braces {}.\n",
    "* Working Rule:\n",
    "    * string.format(*args, **kwargs)\n",
    "    \n",
    "#### Examples    \n"
   ]
  },
  {
   "cell_type": "code",
   "execution_count": 48,
   "id": "44e0e58b",
   "metadata": {},
   "outputs": [
    {
     "name": "stdout",
     "output_type": "stream",
     "text": [
      "Apple and Banana\n"
     ]
    }
   ],
   "source": [
    "print('{} and {}'.format('Apple', 'Banana'))"
   ]
  },
  {
   "cell_type": "markdown",
   "id": "7bb9a6f1",
   "metadata": {},
   "source": [
    "#### Document of format"
   ]
  },
  {
   "cell_type": "code",
   "execution_count": 49,
   "id": "b260bf62",
   "metadata": {},
   "outputs": [
    {
     "name": "stdout",
     "output_type": "stream",
     "text": [
      "Help on method_descriptor:\n",
      "\n",
      "format(...)\n",
      "    S.format(*args, **kwargs) -> str\n",
      "    \n",
      "    Return a formatted version of S, using substitutions from args and kwargs.\n",
      "    The substitutions are identified by braces ('{' and '}').\n",
      "\n"
     ]
    }
   ],
   "source": [
    "help(str.format)"
   ]
  },
  {
   "cell_type": "markdown",
   "id": "094c5cfd",
   "metadata": {},
   "source": [
    "## > format_map\n",
    "* Similar to format(**mapping), except that mapping is used directly and not copied to a dictionary.\n",
    "* working rule:\n",
    "  * string.format_map(mapping)\n",
    "\n",
    "\n",
    "#### Example"
   ]
  },
  {
   "cell_type": "code",
   "execution_count": 52,
   "id": "d86bb5c4",
   "metadata": {},
   "outputs": [
    {
     "name": "stdout",
     "output_type": "stream",
     "text": [
      "Lunch: Pizza,Wine\n"
     ]
    }
   ],
   "source": [
    "lunch = {\"Food\":\"Pizza\", \"Drink\": \"Wine\"}\n",
    "print(\"Lunch: {Food},{Drink}\".format_map(lunch))"
   ]
  },
  {
   "cell_type": "markdown",
   "id": "6c9fee64",
   "metadata": {},
   "source": [
    "#### Document of format_map"
   ]
  },
  {
   "cell_type": "code",
   "execution_count": 50,
   "id": "9f6dd94a",
   "metadata": {},
   "outputs": [
    {
     "name": "stdout",
     "output_type": "stream",
     "text": [
      "Help on method_descriptor:\n",
      "\n",
      "format_map(...)\n",
      "    S.format_map(mapping) -> str\n",
      "    \n",
      "    Return a formatted version of S, using substitutions from mapping.\n",
      "    The substitutions are identified by braces ('{' and '}').\n",
      "\n"
     ]
    }
   ],
   "source": [
    "help(str.format_map)"
   ]
  },
  {
   "cell_type": "markdown",
   "id": "da79777a",
   "metadata": {},
   "source": [
    "## > isalnum\n",
    "* It is boolean method.\n",
    "* Returns True if all characters in the string are alphanumeric\n",
    "* Returns false if string has space gap.\n",
    "* Working Rule: \n",
    "   * string.isalnum()\n",
    "   \n",
    "#### Example   "
   ]
  },
  {
   "cell_type": "code",
   "execution_count": 58,
   "id": "88b892cd",
   "metadata": {},
   "outputs": [],
   "source": [
    "str = 'om namah shivay'"
   ]
  },
  {
   "cell_type": "code",
   "execution_count": 59,
   "id": "184432f3",
   "metadata": {},
   "outputs": [
    {
     "data": {
      "text/plain": [
       "False"
      ]
     },
     "execution_count": 59,
     "metadata": {},
     "output_type": "execute_result"
    }
   ],
   "source": [
    "str5.isalnum()"
   ]
  },
  {
   "cell_type": "code",
   "execution_count": 65,
   "id": "c6f1c59d",
   "metadata": {},
   "outputs": [],
   "source": [
    "mystring='Hello World'"
   ]
  },
  {
   "cell_type": "code",
   "execution_count": 66,
   "id": "060ffeae",
   "metadata": {},
   "outputs": [
    {
     "data": {
      "text/plain": [
       "False"
      ]
     },
     "execution_count": 66,
     "metadata": {},
     "output_type": "execute_result"
    }
   ],
   "source": [
    "mystring.isalnum()"
   ]
  },
  {
   "cell_type": "code",
   "execution_count": 62,
   "id": "bbc768bd",
   "metadata": {},
   "outputs": [],
   "source": [
    "str6= '1234'"
   ]
  },
  {
   "cell_type": "code",
   "execution_count": 64,
   "id": "d2369ce3",
   "metadata": {},
   "outputs": [
    {
     "data": {
      "text/plain": [
       "True"
      ]
     },
     "execution_count": 64,
     "metadata": {},
     "output_type": "execute_result"
    }
   ],
   "source": [
    "str6.isalnum()"
   ]
  },
  {
   "cell_type": "code",
   "execution_count": 67,
   "id": "6a014a6b",
   "metadata": {},
   "outputs": [],
   "source": [
    "str6='!@#$$#'"
   ]
  },
  {
   "cell_type": "code",
   "execution_count": 68,
   "id": "bc83f07d",
   "metadata": {},
   "outputs": [
    {
     "data": {
      "text/plain": [
       "False"
      ]
     },
     "execution_count": 68,
     "metadata": {},
     "output_type": "execute_result"
    }
   ],
   "source": [
    "str6.isalnum()"
   ]
  },
  {
   "cell_type": "markdown",
   "id": "02cca1fa",
   "metadata": {},
   "source": [
    "#### Document of isalnum"
   ]
  },
  {
   "cell_type": "code",
   "execution_count": 54,
   "id": "2ba1efe7",
   "metadata": {},
   "outputs": [
    {
     "name": "stdout",
     "output_type": "stream",
     "text": [
      "Help on method_descriptor:\n",
      "\n",
      "isalnum(self, /)\n",
      "    Return True if the string is an alpha-numeric string, False otherwise.\n",
      "    \n",
      "    A string is alpha-numeric if all characters in the string are alpha-numeric and\n",
      "    there is at least one character in the string.\n",
      "\n"
     ]
    }
   ],
   "source": [
    "help(str.isalnum)"
   ]
  },
  {
   "cell_type": "markdown",
   "id": "c0e50f8f",
   "metadata": {},
   "source": [
    "## > isalpha\n",
    "* Returns True if all characters in the string are in the alphabet\n",
    "* Do not consider space gap, gives false then\n",
    "* Working rule:\n",
    "  * string.isalpha()\n",
    "\n",
    "\n",
    "#### Example"
   ]
  },
  {
   "cell_type": "code",
   "execution_count": 69,
   "id": "3ad7a36e",
   "metadata": {},
   "outputs": [
    {
     "data": {
      "text/plain": [
       "'Hello World'"
      ]
     },
     "execution_count": 69,
     "metadata": {},
     "output_type": "execute_result"
    }
   ],
   "source": [
    "mystring"
   ]
  },
  {
   "cell_type": "code",
   "execution_count": 70,
   "id": "710d2644",
   "metadata": {},
   "outputs": [
    {
     "data": {
      "text/plain": [
       "False"
      ]
     },
     "execution_count": 70,
     "metadata": {},
     "output_type": "execute_result"
    }
   ],
   "source": [
    "mystring.isalpha()"
   ]
  },
  {
   "cell_type": "code",
   "execution_count": 71,
   "id": "b31e3cbe",
   "metadata": {},
   "outputs": [],
   "source": [
    "mystring='HelloWorld'"
   ]
  },
  {
   "cell_type": "code",
   "execution_count": 73,
   "id": "1fe257d7",
   "metadata": {},
   "outputs": [
    {
     "data": {
      "text/plain": [
       "True"
      ]
     },
     "execution_count": 73,
     "metadata": {},
     "output_type": "execute_result"
    }
   ],
   "source": [
    "mystring.isalpha()"
   ]
  },
  {
   "cell_type": "markdown",
   "id": "779f8179",
   "metadata": {},
   "source": [
    "#### Document of isalpha"
   ]
  },
  {
   "cell_type": "code",
   "execution_count": 74,
   "id": "57fd0088",
   "metadata": {},
   "outputs": [
    {
     "name": "stdout",
     "output_type": "stream",
     "text": [
      "Help on built-in function isalpha:\n",
      "\n",
      "isalpha() method of builtins.str instance\n",
      "    Return True if the string is an alphabetic string, False otherwise.\n",
      "    \n",
      "    A string is alphabetic if all characters in the string are alphabetic and there\n",
      "    is at least one character in the string.\n",
      "\n"
     ]
    }
   ],
   "source": [
    "help(str.isalpha)"
   ]
  },
  {
   "cell_type": "markdown",
   "id": "5ad3073c",
   "metadata": {},
   "source": [
    "## isdecimal\n",
    "* Returns True if all characters in the string are decimals\n",
    "* gives true only in number values\n",
    "* woprking ruler:\n",
    "  * strin g.isdecimal()\n",
    "\n",
    "#### Example"
   ]
  },
  {
   "cell_type": "code",
   "execution_count": 84,
   "id": "621d3d30",
   "metadata": {},
   "outputs": [
    {
     "data": {
      "text/plain": [
       "'HelloWorld'"
      ]
     },
     "execution_count": 84,
     "metadata": {},
     "output_type": "execute_result"
    }
   ],
   "source": [
    "mystring"
   ]
  },
  {
   "cell_type": "code",
   "execution_count": 85,
   "id": "d8f355db",
   "metadata": {},
   "outputs": [
    {
     "data": {
      "text/plain": [
       "False"
      ]
     },
     "execution_count": 85,
     "metadata": {},
     "output_type": "execute_result"
    }
   ],
   "source": [
    "mystring.isdecimal()"
   ]
  },
  {
   "cell_type": "code",
   "execution_count": 87,
   "id": "248aef34",
   "metadata": {},
   "outputs": [
    {
     "data": {
      "text/plain": [
       "'!@#$$#'"
      ]
     },
     "execution_count": 87,
     "metadata": {},
     "output_type": "execute_result"
    }
   ],
   "source": [
    "str6"
   ]
  },
  {
   "cell_type": "code",
   "execution_count": 88,
   "id": "537fa55d",
   "metadata": {},
   "outputs": [
    {
     "data": {
      "text/plain": [
       "False"
      ]
     },
     "execution_count": 88,
     "metadata": {},
     "output_type": "execute_result"
    }
   ],
   "source": [
    "str6.isdecimal()"
   ]
  },
  {
   "cell_type": "code",
   "execution_count": 89,
   "id": "93b32546",
   "metadata": {},
   "outputs": [],
   "source": [
    "str7='12345'"
   ]
  },
  {
   "cell_type": "code",
   "execution_count": 90,
   "id": "7bf52192",
   "metadata": {},
   "outputs": [
    {
     "data": {
      "text/plain": [
       "True"
      ]
     },
     "execution_count": 90,
     "metadata": {},
     "output_type": "execute_result"
    }
   ],
   "source": [
    "str7.isdecimal()"
   ]
  },
  {
   "cell_type": "code",
   "execution_count": 91,
   "id": "78fc985f",
   "metadata": {},
   "outputs": [],
   "source": [
    "str8='11.23'"
   ]
  },
  {
   "cell_type": "code",
   "execution_count": 92,
   "id": "448cb415",
   "metadata": {},
   "outputs": [
    {
     "data": {
      "text/plain": [
       "False"
      ]
     },
     "execution_count": 92,
     "metadata": {},
     "output_type": "execute_result"
    }
   ],
   "source": [
    "str8.isdecimal()"
   ]
  },
  {
   "cell_type": "markdown",
   "id": "54f26199",
   "metadata": {},
   "source": [
    "#### Document of isdecimal"
   ]
  },
  {
   "cell_type": "code",
   "execution_count": 76,
   "id": "ecf8b18f",
   "metadata": {},
   "outputs": [
    {
     "name": "stdout",
     "output_type": "stream",
     "text": [
      "Help on built-in function isdecimal:\n",
      "\n",
      "isdecimal() method of builtins.str instance\n",
      "    Return True if the string is a decimal string, False otherwise.\n",
      "    \n",
      "    A string is a decimal string if all characters in the string are decimal and\n",
      "    there is at least one character in the string.\n",
      "\n"
     ]
    }
   ],
   "source": [
    "help(str.isdecimal)"
   ]
  },
  {
   "cell_type": "markdown",
   "id": "cd31cbd7",
   "metadata": {},
   "source": [
    "## isdigit()\n",
    "* Returns True if all characters in the string are digits\n",
    "* working:\n",
    "  * s.isdigit()\n",
    "  \n",
    "#### Example  "
   ]
  },
  {
   "cell_type": "code",
   "execution_count": 96,
   "id": "e06b4ca9",
   "metadata": {},
   "outputs": [
    {
     "name": "stdout",
     "output_type": "stream",
     "text": [
      "True\n"
     ]
    }
   ],
   "source": [
    "c=\"133\"\n",
    "print(c.isdigit())"
   ]
  },
  {
   "cell_type": "code",
   "execution_count": 97,
   "id": "88dd9f9e",
   "metadata": {},
   "outputs": [
    {
     "name": "stdout",
     "output_type": "stream",
     "text": [
      "True\n"
     ]
    }
   ],
   "source": [
    "c = u\"\\u00B2\"\n",
    "print(c.isdigit())"
   ]
  },
  {
   "cell_type": "code",
   "execution_count": 98,
   "id": "a108eb84",
   "metadata": {},
   "outputs": [
    {
     "name": "stdout",
     "output_type": "stream",
     "text": [
      "False\n"
     ]
    }
   ],
   "source": [
    "a=\"1.23\"\n",
    "print(a.isdigit())"
   ]
  },
  {
   "cell_type": "markdown",
   "id": "2671d5e8",
   "metadata": {},
   "source": [
    "## > isidentifier\n",
    "* Returns True if the string is an identifier\n",
    "* working:\n",
    "  * s.isidentifier()\n",
    "\n",
    "#### Examples"
   ]
  },
  {
   "cell_type": "code",
   "execution_count": 99,
   "id": "5e680383",
   "metadata": {},
   "outputs": [
    {
     "name": "stdout",
     "output_type": "stream",
     "text": [
      "False\n"
     ]
    }
   ],
   "source": [
    "c=\"133\"\n",
    "print(c.isidentifier())"
   ]
  },
  {
   "cell_type": "code",
   "execution_count": 100,
   "id": "4f66d36b",
   "metadata": {},
   "outputs": [
    {
     "name": "stdout",
     "output_type": "stream",
     "text": [
      "True\n"
     ]
    }
   ],
   "source": [
    "c=\"_user_123\"\n",
    "print(c.isidentifier())"
   ]
  },
  {
   "cell_type": "code",
   "execution_count": 101,
   "id": "3a6e1ec8",
   "metadata": {},
   "outputs": [
    {
     "name": "stdout",
     "output_type": "stream",
     "text": [
      "True\n"
     ]
    }
   ],
   "source": [
    "c=\"_user_123\"\n",
    "print(c.isidentifier())"
   ]
  },
  {
   "cell_type": "markdown",
   "id": "9c0bf6ba",
   "metadata": {},
   "source": [
    "## > islower\n",
    "* Returns True if all characters in the string are lower case\n",
    "* working:\n",
    "  * s.islower()\n",
    "  \n",
    "#### Example  "
   ]
  },
  {
   "cell_type": "code",
   "execution_count": 102,
   "id": "a353d9f5",
   "metadata": {},
   "outputs": [
    {
     "name": "stdout",
     "output_type": "stream",
     "text": [
      "False\n"
     ]
    }
   ],
   "source": [
    "c=\"Python\"\n",
    "print(c.islower())"
   ]
  },
  {
   "cell_type": "code",
   "execution_count": 104,
   "id": "304b3c2d",
   "metadata": {},
   "outputs": [
    {
     "name": "stdout",
     "output_type": "stream",
     "text": [
      "True\n"
     ]
    }
   ],
   "source": [
    "c=\"_user_123\"\n",
    "print(c.islower())"
   ]
  },
  {
   "cell_type": "markdown",
   "id": "0e8a6225",
   "metadata": {},
   "source": [
    "## > isnumeric\n",
    "* Returns True if all characters in the string are numeric\n",
    "* working:\n",
    "  *. s.isnumeric()\n",
    "  \n",
    " #### Example "
   ]
  },
  {
   "cell_type": "code",
   "execution_count": 105,
   "id": "04cba06d",
   "metadata": {},
   "outputs": [
    {
     "name": "stdout",
     "output_type": "stream",
     "text": [
      "True\n"
     ]
    }
   ],
   "source": [
    "c=\"133\"\n",
    "print(c.isnumeric())"
   ]
  },
  {
   "cell_type": "code",
   "execution_count": 106,
   "id": "fe9c0176",
   "metadata": {},
   "outputs": [
    {
     "name": "stdout",
     "output_type": "stream",
     "text": [
      "False\n"
     ]
    }
   ],
   "source": [
    "c=\"Python\"\n",
    "print(c.isnumeric())"
   ]
  },
  {
   "cell_type": "markdown",
   "id": "e18ca049",
   "metadata": {},
   "source": [
    "## > isprintable\n",
    "* Returns True if all characters in the string are printable\n",
    "* Working:\n",
    "  * s.isprintable()\n",
    "  \n",
    "#### Example  \n"
   ]
  },
  {
   "cell_type": "code",
   "execution_count": 107,
   "id": "24444d3e",
   "metadata": {},
   "outputs": [
    {
     "name": "stdout",
     "output_type": "stream",
     "text": [
      "False\n"
     ]
    }
   ],
   "source": [
    "c=\"\\t\"\n",
    "print(c.isprintable())"
   ]
  },
  {
   "cell_type": "code",
   "execution_count": 108,
   "id": "32633db8",
   "metadata": {},
   "outputs": [
    {
     "name": "stdout",
     "output_type": "stream",
     "text": [
      "True\n"
     ]
    }
   ],
   "source": [
    "c=\"_user_123\"\n",
    "print(c.isprintable())"
   ]
  },
  {
   "cell_type": "markdown",
   "id": "82f1e04d",
   "metadata": {},
   "source": [
    "## > isspace\n",
    "* Returns True if all characters in the string are whitespaces\n",
    "* working:\n",
    "  * s.isspace()\n",
    "  \n",
    "#### Exampleas  "
   ]
  },
  {
   "cell_type": "code",
   "execution_count": 109,
   "id": "f2587206",
   "metadata": {},
   "outputs": [
    {
     "name": "stdout",
     "output_type": "stream",
     "text": [
      "False\n"
     ]
    }
   ],
   "source": [
    "c=\"Hello Python\"\n",
    "print(c.isspace())"
   ]
  },
  {
   "cell_type": "code",
   "execution_count": 110,
   "id": "a07157bf",
   "metadata": {},
   "outputs": [
    {
     "name": "stdout",
     "output_type": "stream",
     "text": [
      "True\n"
     ]
    }
   ],
   "source": [
    "c=\"\\t\"\n",
    "print(c.isspace())"
   ]
  },
  {
   "cell_type": "code",
   "execution_count": 111,
   "id": "f3cf76b7",
   "metadata": {},
   "outputs": [
    {
     "name": "stdout",
     "output_type": "stream",
     "text": [
      "True\n"
     ]
    }
   ],
   "source": [
    "c=\"   \"\n",
    "print(c.isspace())"
   ]
  },
  {
   "cell_type": "markdown",
   "id": "a7a246d3",
   "metadata": {},
   "source": [
    "## > istitle\n",
    "* Returns True if the string follows the rules of a title\n",
    "* working:\n",
    "  * s.istitle()\n",
    "  \n",
    "#### Examples  "
   ]
  },
  {
   "cell_type": "code",
   "execution_count": 112,
   "id": "c3112fce",
   "metadata": {},
   "outputs": [
    {
     "name": "stdout",
     "output_type": "stream",
     "text": [
      "False\n"
     ]
    }
   ],
   "source": [
    "c=\"133\"\n",
    "print(c.istitle())"
   ]
  },
  {
   "cell_type": "code",
   "execution_count": 113,
   "id": "2b310909",
   "metadata": {},
   "outputs": [
    {
     "name": "stdout",
     "output_type": "stream",
     "text": [
      "True\n"
     ]
    }
   ],
   "source": [
    " c=\"Python\"\n",
    "print(c.istitle())"
   ]
  },
  {
   "cell_type": "code",
   "execution_count": 114,
   "id": "1a5e8184",
   "metadata": {},
   "outputs": [
    {
     "name": "stdout",
     "output_type": "stream",
     "text": [
      "True\n"
     ]
    }
   ],
   "source": [
    "c=\"\\t\"\n",
    "print(c.isspace())"
   ]
  },
  {
   "cell_type": "markdown",
   "id": "ee66a431",
   "metadata": {},
   "source": [
    "## > isupper\n",
    "* Returns True if all characters in the string are upper case\n",
    "* working:\n",
    "  * s.isupper()\n",
    "  \n",
    "#### Examples  "
   ]
  },
  {
   "cell_type": "code",
   "execution_count": 115,
   "id": "58ed26fb",
   "metadata": {},
   "outputs": [
    {
     "name": "stdout",
     "output_type": "stream",
     "text": [
      "False\n"
     ]
    }
   ],
   "source": [
    "c=\"Python\"\n",
    "print(c.isupper())"
   ]
  },
  {
   "cell_type": "code",
   "execution_count": 116,
   "id": "be36b985",
   "metadata": {},
   "outputs": [
    {
     "name": "stdout",
     "output_type": "stream",
     "text": [
      "True\n"
     ]
    }
   ],
   "source": [
    "c=\"PYTHON\"\n",
    ">>> print(c.isupper())"
   ]
  },
  {
   "cell_type": "markdown",
   "id": "ae23496a",
   "metadata": {},
   "source": [
    "## > join\n",
    "* Joins the elements of an iterable to the end of the string\n",
    "* working:\n",
    "  char.join('s')\n",
    "  \n",
    "#### Example  "
   ]
  },
  {
   "cell_type": "code",
   "execution_count": 117,
   "id": "50ddfdba",
   "metadata": {},
   "outputs": [
    {
     "data": {
      "text/plain": [
       "['jai', 'mata', 'di']"
      ]
     },
     "execution_count": 117,
     "metadata": {},
     "output_type": "execute_result"
    }
   ],
   "source": [
    "z = 'jai mata di'\n",
    "y = z.split()\n",
    "y"
   ]
  },
  {
   "cell_type": "code",
   "execution_count": 118,
   "id": "578215f4",
   "metadata": {},
   "outputs": [
    {
     "data": {
      "text/plain": [
       "'jai**mata**di'"
      ]
     },
     "execution_count": 118,
     "metadata": {},
     "output_type": "execute_result"
    }
   ],
   "source": [
    "'**'.join(y)"
   ]
  },
  {
   "cell_type": "code",
   "execution_count": 119,
   "id": "c59570ce",
   "metadata": {},
   "outputs": [
    {
     "name": "stdout",
     "output_type": "stream",
     "text": [
      "1-2-3\n"
     ]
    }
   ],
   "source": [
    "a =\"-\"\n",
    "print(a.join(\"123\"))"
   ]
  },
  {
   "cell_type": "markdown",
   "id": "5f955a07",
   "metadata": {},
   "source": [
    "## > ljust\n",
    "* Returns a left justified version of the string\n",
    "* working \n",
    "  * s.ljoin(digit,\"char\")\n",
    "  \n",
    "#### Example  "
   ]
  },
  {
   "cell_type": "code",
   "execution_count": 120,
   "id": "d8be1c0e",
   "metadata": {},
   "outputs": [
    {
     "name": "stdout",
     "output_type": "stream",
     "text": [
      "Hello_______\n"
     ]
    }
   ],
   "source": [
    "a=\"Hello\"\n",
    "b = a.ljust(12, \"_\")\n",
    "print(b)"
   ]
  },
  {
   "cell_type": "markdown",
   "id": "bf317793",
   "metadata": {},
   "source": [
    "## > lower\n",
    "* Converts a string into lower case\n",
    "* working\n",
    "  * s.lower()\n",
    "\n",
    "#### Example\n",
    "\n"
   ]
  },
  {
   "cell_type": "code",
   "execution_count": 121,
   "id": "eeaeca5e",
   "metadata": {},
   "outputs": [
    {
     "name": "stdout",
     "output_type": "stream",
     "text": [
      "python\n"
     ]
    }
   ],
   "source": [
    "c=\"Python\"\n",
    "print(c.lower())"
   ]
  },
  {
   "cell_type": "code",
   "execution_count": 122,
   "id": "60fd5ffb",
   "metadata": {},
   "outputs": [
    {
     "name": "stdout",
     "output_type": "stream",
     "text": [
      "python\n"
     ]
    }
   ],
   "source": [
    "c=\"PYTHON\"\n",
    ">>> print(c.lower())"
   ]
  },
  {
   "cell_type": "markdown",
   "id": "4a121dc6",
   "metadata": {},
   "source": [
    "## > lstrip\n",
    "* Returns a left trim version of the string\n",
    "* works from the left side of the string\n",
    "* working\n",
    "  * s.lstrip()\n",
    "  \n",
    "#### Example  "
   ]
  },
  {
   "cell_type": "code",
   "execution_count": 123,
   "id": "dd1b8a05",
   "metadata": {},
   "outputs": [
    {
     "data": {
      "text/plain": [
       "'  hello how is life going. '"
      ]
     },
     "execution_count": 123,
     "metadata": {},
     "output_type": "execute_result"
    }
   ],
   "source": [
    "p = '  hello how is life going. '\n",
    "p"
   ]
  },
  {
   "cell_type": "code",
   "execution_count": 124,
   "id": "b58ec5f0",
   "metadata": {},
   "outputs": [
    {
     "data": {
      "text/plain": [
       "'hello how is life going. '"
      ]
     },
     "execution_count": 124,
     "metadata": {},
     "output_type": "execute_result"
    }
   ],
   "source": [
    "p.lstrip() #removes white space from the left by default"
   ]
  },
  {
   "cell_type": "code",
   "execution_count": 125,
   "id": "afa22ce6",
   "metadata": {},
   "outputs": [
    {
     "data": {
      "text/plain": [
       "'w is life going. '"
      ]
     },
     "execution_count": 125,
     "metadata": {},
     "output_type": "execute_result"
    }
   ],
   "source": [
    "p.lstrip(' hello')"
   ]
  },
  {
   "cell_type": "markdown",
   "id": "c237a054",
   "metadata": {},
   "source": [
    "## > rstrip\n",
    "* Returns a right trim version of the string\n",
    "\n",
    "\n",
    "#### Examples"
   ]
  },
  {
   "cell_type": "code",
   "execution_count": 126,
   "id": "ee3a05ca",
   "metadata": {},
   "outputs": [
    {
     "data": {
      "text/plain": [
       "'  hello how is life going.'"
      ]
     },
     "execution_count": 126,
     "metadata": {},
     "output_type": "execute_result"
    }
   ],
   "source": [
    "p.rstrip() #by default it strips space from right"
   ]
  },
  {
   "cell_type": "code",
   "execution_count": 127,
   "id": "63ee0700",
   "metadata": {},
   "outputs": [
    {
     "data": {
      "text/plain": [
       "'  hello how is life goin'"
      ]
     },
     "execution_count": 127,
     "metadata": {},
     "output_type": "execute_result"
    }
   ],
   "source": [
    "p.rstrip(' .g')"
   ]
  },
  {
   "cell_type": "code",
   "execution_count": 128,
   "id": "406f0c62",
   "metadata": {},
   "outputs": [
    {
     "data": {
      "text/plain": [
       "'  hello how is life going. '"
      ]
     },
     "execution_count": 128,
     "metadata": {},
     "output_type": "execute_result"
    }
   ],
   "source": [
    "p.rstrip('@#') #nothing will happen bcz char is not matching to the string which is to be removed, "
   ]
  },
  {
   "cell_type": "markdown",
   "id": "37f64197",
   "metadata": {},
   "source": [
    "## > rjust\n",
    "* Returns the string right justified in a string of length width.\n",
    "\n",
    "\n",
    "#### Example"
   ]
  },
  {
   "cell_type": "code",
   "execution_count": 129,
   "id": "e8c8a0cd",
   "metadata": {},
   "outputs": [
    {
     "name": "stdout",
     "output_type": "stream",
     "text": [
      "--------Hello Python\n"
     ]
    }
   ],
   "source": [
    "mystr = \"Hello Python\"\n",
    "mystr1 = mystr.rjust(20,\n",
    "\"-\")\n",
    "print(mystr1)"
   ]
  },
  {
   "cell_type": "markdown",
   "id": "07862b87",
   "metadata": {},
   "source": [
    "## > Startswith\n",
    "* Returns true if the string starts with the specified value\n",
    "\n",
    "\n",
    "#### Example"
   ]
  },
  {
   "cell_type": "code",
   "execution_count": 130,
   "id": "8f07bf18",
   "metadata": {},
   "outputs": [
    {
     "name": "stdout",
     "output_type": "stream",
     "text": [
      "False\n"
     ]
    }
   ],
   "source": [
    "mystr = \"Hello Python\"\n",
    "print(mystr.startswith(\"P\"))"
   ]
  },
  {
   "cell_type": "code",
   "execution_count": 131,
   "id": "ef1923ff",
   "metadata": {},
   "outputs": [
    {
     "name": "stdout",
     "output_type": "stream",
     "text": [
      "True\n"
     ]
    }
   ],
   "source": [
    "print(mystr.startswith(\"H\"))"
   ]
  },
  {
   "cell_type": "markdown",
   "id": "01633ac7",
   "metadata": {},
   "source": [
    "## swapcase\n",
    "* Swaps cases, lower case becomes upper case and vice versa\n",
    "\n",
    "\n",
    "#### Example"
   ]
  },
  {
   "cell_type": "code",
   "execution_count": 132,
   "id": "d12593c2",
   "metadata": {},
   "outputs": [
    {
     "name": "stdout",
     "output_type": "stream",
     "text": [
      "hELLO pyTHON\n"
     ]
    }
   ],
   "source": [
    "mystr = \"Hello PYthon\"\n",
    ">>> print(mystr.swapcase())"
   ]
  },
  {
   "cell_type": "markdown",
   "id": "eeafc1f7",
   "metadata": {},
   "source": [
    "## > title\n",
    "* Converts the first character of each word to upper case\n",
    "\n",
    "\n",
    "#### Example"
   ]
  },
  {
   "cell_type": "code",
   "execution_count": 133,
   "id": "6b28e636",
   "metadata": {},
   "outputs": [
    {
     "name": "stdout",
     "output_type": "stream",
     "text": [
      "Hello Python\n"
     ]
    }
   ],
   "source": [
    "mystr = \"Hello PYthon\"\n",
    ">>> print(mystr.title())"
   ]
  },
  {
   "cell_type": "code",
   "execution_count": 134,
   "id": "73f79168",
   "metadata": {},
   "outputs": [
    {
     "name": "stdout",
     "output_type": "stream",
     "text": [
      "Hello Java\n"
     ]
    }
   ],
   "source": [
    "mystr = \"HELLO JAVA\"\n",
    ">>> print(mystr.title())"
   ]
  },
  {
   "cell_type": "markdown",
   "id": "bc5903a4",
   "metadata": {},
   "source": [
    "## > upper\n",
    "* Converts a string into upper case\n",
    "\n",
    "\n",
    "#### Example"
   ]
  },
  {
   "cell_type": "code",
   "execution_count": 135,
   "id": "4a20bff9",
   "metadata": {},
   "outputs": [
    {
     "name": "stdout",
     "output_type": "stream",
     "text": [
      "HELLO PYTHON\n"
     ]
    }
   ],
   "source": [
    "mystr = \"hello Python\"\n",
    ">>> print(mystr.upper())"
   ]
  },
  {
   "cell_type": "markdown",
   "id": "77b99a9f",
   "metadata": {},
   "source": [
    "## > zfill\n",
    "* Fills the string with a specified number of 0 values at the beginning\n",
    "  \n",
    "  \n",
    "#### Example"
   ]
  },
  {
   "cell_type": "code",
   "execution_count": 136,
   "id": "adf5386d",
   "metadata": {},
   "outputs": [
    {
     "name": "stdout",
     "output_type": "stream",
     "text": [
      "000000999\n"
     ]
    }
   ],
   "source": [
    "mystr = \"999\"\n",
    ">>> print(mystr.zfill(9))"
   ]
  },
  {
   "cell_type": "code",
   "execution_count": 137,
   "id": "920a1cc0",
   "metadata": {},
   "outputs": [
    {
     "name": "stdout",
     "output_type": "stream",
     "text": [
      "-0040\n"
     ]
    }
   ],
   "source": [
    "mystr = \"-40\"\n",
    ">>> print(mystr.zfill(5))"
   ]
  },
  {
   "cell_type": "markdown",
   "id": "1ac3a9d5",
   "metadata": {},
   "source": [
    "### > maketrans and translate"
   ]
  },
  {
   "cell_type": "code",
   "execution_count": 1,
   "id": "aa1f5533",
   "metadata": {},
   "outputs": [
    {
     "data": {
      "text/plain": [
       "{64: '5', 33: '7', 97: 'zz'}"
      ]
     },
     "execution_count": 1,
     "metadata": {},
     "output_type": "execute_result"
    }
   ],
   "source": [
    "v = '*@!anything!@*'\n",
    "d = v.maketrans({'@': '5',\n",
    "                '!': '7',\n",
    "                'a': 'zz'})\n",
    "d #it maximum can take 3 arguments # the values changed into these given values # wen ascii values will show it will \n",
    "#changge automatically"
   ]
  },
  {
   "cell_type": "code",
   "execution_count": 2,
   "id": "6882ec25",
   "metadata": {},
   "outputs": [
    {
     "data": {
      "text/plain": [
       "'*57zznything75*'"
      ]
     },
     "execution_count": 2,
     "metadata": {},
     "output_type": "execute_result"
    }
   ],
   "source": [
    "v.translate(d)"
   ]
  },
  {
   "cell_type": "markdown",
   "id": "d6035de0",
   "metadata": {},
   "source": []
  },
  {
   "cell_type": "code",
   "execution_count": null,
   "id": "aedbd526",
   "metadata": {},
   "outputs": [],
   "source": []
  }
 ],
 "metadata": {
  "kernelspec": {
   "display_name": "Python 3 (ipykernel)",
   "language": "python",
   "name": "python3"
  },
  "language_info": {
   "codemirror_mode": {
    "name": "ipython",
    "version": 3
   },
   "file_extension": ".py",
   "mimetype": "text/x-python",
   "name": "python",
   "nbconvert_exporter": "python",
   "pygments_lexer": "ipython3",
   "version": "3.11.5"
  }
 },
 "nbformat": 4,
 "nbformat_minor": 5
}
