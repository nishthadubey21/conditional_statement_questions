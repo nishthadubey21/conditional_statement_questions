{
 "cells": [
  {
   "cell_type": "markdown",
   "id": "13108e87",
   "metadata": {},
   "source": [
    "## Recursive Function\n",
    "* a func which calls itself."
   ]
  },
  {
   "cell_type": "code",
   "execution_count": 1,
   "id": "54d1f8d0",
   "metadata": {},
   "outputs": [],
   "source": [
    "# wap factorial of n\n",
    "def fctrl(n):\n",
    "    if n == 1:\n",
    "        return 1\n",
    "    else:\n",
    "        return n* fctrl(n-1)"
   ]
  },
  {
   "cell_type": "code",
   "execution_count": 3,
   "id": "27702512",
   "metadata": {},
   "outputs": [
    {
     "data": {
      "text/plain": [
       "24"
      ]
     },
     "execution_count": 3,
     "metadata": {},
     "output_type": "execute_result"
    }
   ],
   "source": [
    "fctrl(4)"
   ]
  },
  {
   "cell_type": "code",
   "execution_count": 8,
   "id": "82a665c8",
   "metadata": {},
   "outputs": [],
   "source": [
    "# wap sum of n\n",
    "def summ(n):\n",
    "    if n == 1:\n",
    "        return 1\n",
    "    else:\n",
    "        return n + summ(n-1)"
   ]
  },
  {
   "cell_type": "code",
   "execution_count": 9,
   "id": "0ef0e0ea",
   "metadata": {},
   "outputs": [
    {
     "data": {
      "text/plain": [
       "15"
      ]
     },
     "execution_count": 9,
     "metadata": {},
     "output_type": "execute_result"
    }
   ],
   "source": [
    "summ(5)"
   ]
  },
  {
   "cell_type": "code",
   "execution_count": 15,
   "id": "cf4ae079",
   "metadata": {},
   "outputs": [],
   "source": [
    "# wap print fibonacci series value\n",
    "def fib(n):\n",
    "    if n == 0:\n",
    "        return 0\n",
    "    elif n == 1:\n",
    "        return 1\n",
    "    else:\n",
    "        return fib(n-1) + fib(n-2)"
   ]
  },
  {
   "cell_type": "code",
   "execution_count": 16,
   "id": "33b8f7c1",
   "metadata": {},
   "outputs": [
    {
     "data": {
      "text/plain": [
       "8"
      ]
     },
     "execution_count": 16,
     "metadata": {},
     "output_type": "execute_result"
    }
   ],
   "source": [
    "fib(6)"
   ]
  },
  {
   "cell_type": "code",
   "execution_count": 17,
   "id": "9fa4d1b9",
   "metadata": {},
   "outputs": [
    {
     "name": "stdout",
     "output_type": "stream",
     "text": [
      "0, 1, 1, 2, 3, "
     ]
    }
   ],
   "source": [
    "for i in range(5):\n",
    "    print(fib(i), end = ', ')"
   ]
  },
  {
   "cell_type": "markdown",
   "id": "3220609c",
   "metadata": {},
   "source": [
    "# Args and kwargs\n",
    "* args - positional arguments (*) defines arguments \n",
    "* kwargs - key word arguments (**) defins keyword arguements"
   ]
  },
  {
   "cell_type": "code",
   "execution_count": 24,
   "id": "09d6ec91",
   "metadata": {},
   "outputs": [],
   "source": [
    "def foo(a, b, c=0, *args, **kwargs):\n",
    "    r = a+b+c\n",
    "    for arg in args:\n",
    "        r+=arg\n",
    "    for kwarg in kwargs:\n",
    "        print(kwargs[kwarg])\n",
    "    return r    "
   ]
  },
  {
   "cell_type": "code",
   "execution_count": 19,
   "id": "a90e0bad",
   "metadata": {},
   "outputs": [
    {
     "data": {
      "text/plain": [
       "10"
      ]
     },
     "execution_count": 19,
     "metadata": {},
     "output_type": "execute_result"
    }
   ],
   "source": [
    "foo(1,2,3,4)"
   ]
  },
  {
   "cell_type": "code",
   "execution_count": 21,
   "id": "bd38f3f5",
   "metadata": {},
   "outputs": [
    {
     "data": {
      "text/plain": [
       "15"
      ]
     },
     "execution_count": 21,
     "metadata": {},
     "output_type": "execute_result"
    }
   ],
   "source": [
    "foo(1,2,3,*(4,5)) #args are passed in the form of list or tuple with '*'"
   ]
  },
  {
   "cell_type": "code",
   "execution_count": 25,
   "id": "2839ac0a",
   "metadata": {},
   "outputs": [
    {
     "name": "stdout",
     "output_type": "stream",
     "text": [
      "[1, 2, 3]\n"
     ]
    },
    {
     "data": {
      "text/plain": [
       "15"
      ]
     },
     "execution_count": 25,
     "metadata": {},
     "output_type": "execute_result"
    }
   ],
   "source": [
    "foo(1,2,3,*(4,5), **{'marks':[1,2,3]}) #kwargs are passed in the form of dict in '**'"
   ]
  },
  {
   "cell_type": "code",
   "execution_count": 32,
   "id": "b2675848",
   "metadata": {},
   "outputs": [],
   "source": [
    "def fooStuMarks(**kwargs):\n",
    "    for kwarg in kwargs:\n",
    "        print(f'total marks scored by {kwarg} is {sum(kwargs[kwarg])}')"
   ]
  },
  {
   "cell_type": "code",
   "execution_count": 35,
   "id": "4ee876d8",
   "metadata": {},
   "outputs": [
    {
     "name": "stdout",
     "output_type": "stream",
     "text": [
      "total marks scored by ram is 60\n",
      "total marks scored by ramu is 60\n",
      "total marks scored by reshu is 60\n",
      "total marks scored by ram1 is 60\n",
      "total marks scored by ramu1 is 60\n",
      "total marks scored by reshu1 is 60\n"
     ]
    }
   ],
   "source": [
    "fooStuMarks(**{'ram':(10, 20, 30),\n",
    "               'ramu':[30,20,10],\n",
    "               'reshu':{10, 20, 30}},\n",
    "            **{'ram1':(10, 20, 30),\n",
    "               'ramu1':[30,20,10],\n",
    "               'reshu1':{10, 20, 30}}\n",
    "           )"
   ]
  },
  {
   "cell_type": "code",
   "execution_count": null,
   "id": "0215a3e4",
   "metadata": {},
   "outputs": [],
   "source": []
  }
 ],
 "metadata": {
  "kernelspec": {
   "display_name": "Python 3 (ipykernel)",
   "language": "python",
   "name": "python3"
  },
  "language_info": {
   "codemirror_mode": {
    "name": "ipython",
    "version": 3
   },
   "file_extension": ".py",
   "mimetype": "text/x-python",
   "name": "python",
   "nbconvert_exporter": "python",
   "pygments_lexer": "ipython3",
   "version": "3.11.5"
  }
 },
 "nbformat": 4,
 "nbformat_minor": 5
}
